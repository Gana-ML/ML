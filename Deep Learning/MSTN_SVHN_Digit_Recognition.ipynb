{
 "cells": [
  {
   "cell_type": "code",
   "execution_count": 1,
   "metadata": {
    "collapsed": false
   },
   "outputs": [
    {
     "name": "stdout",
     "output_type": "stream",
     "text": [
      "1.0.0\n",
      "All modules imported.\n"
     ]
    }
   ],
   "source": [
    "from __future__ import print_function\n",
    "import hashlib\n",
    "import os\n",
    "import sys\n",
    "import pickle\n",
    "from urllib.request import urlretrieve\n",
    "\n",
    "import numpy as np\n",
    "import tensorflow as tf\n",
    "from tensorflow.examples.tutorials.mnist import input_data\n",
    "from sklearn.model_selection import train_test_split\n",
    "from sklearn.preprocessing import LabelBinarizer\n",
    "from sklearn.utils import resample\n",
    "from tqdm import tqdm\n",
    "from zipfile import ZipFile\n",
    "from IPython.display import display, Image\n",
    "from PIL import Image\n",
    "from numpy import random\n",
    "import pylab as plt\n",
    "from six.moves import cPickle as pickle\n",
    "from six.moves import range\n",
    "import matplotlib.pyplot as plt\n",
    "from scipy import ndimage\n",
    "import random\n",
    "from numpy import genfromtxt\n",
    "\n",
    "%matplotlib inline\n",
    "\n",
    "print(tf.__version__)\n",
    "\n",
    "print('All modules imported.')"
   ]
  },
  {
   "cell_type": "code",
   "execution_count": 17,
   "metadata": {
    "collapsed": false
   },
   "outputs": [
    {
     "name": "stdout",
     "output_type": "stream",
     "text": [
      "Extracting MNIST_data/train-images-idx3-ubyte.gz\n",
      "Extracting MNIST_data/train-labels-idx1-ubyte.gz\n",
      "Extracting MNIST_data/t10k-images-idx3-ubyte.gz\n",
      "Extracting MNIST_data/t10k-labels-idx1-ubyte.gz\n"
     ]
    }
   ],
   "source": [
    "mnist = input_data.read_data_sets(\"MNIST_data/\", one_hot=False)"
   ]
  },
  {
   "cell_type": "code",
   "execution_count": 18,
   "metadata": {
    "collapsed": false
   },
   "outputs": [
    {
     "name": "stdout",
     "output_type": "stream",
     "text": [
      "(55000, 784)\n",
      "(10000, 784)\n",
      "(5000, 784)\n"
     ]
    }
   ],
   "source": [
    "#mnist.train.images.shape\n",
    "print(mnist.train.images.shape)\n",
    "print(mnist.test.images.shape)\n",
    "print(mnist.validation.images.shape)"
   ]
  },
  {
   "cell_type": "code",
   "execution_count": 19,
   "metadata": {
    "collapsed": true
   },
   "outputs": [],
   "source": [
    "train_data_raw = mnist.train.images # Original format of the imported images\n",
    "train_labels_raw = mnist.train.labels # Original format of the imported labels\n",
    "validation_data_raw = mnist.validation.images # Original format of the imported images\n",
    "validation_labels_raw = mnist.validation.labels # Original format of the imported labels\n",
    "test_data_raw = mnist.test.images # Original format of the imported images\n",
    "test_labels_raw = mnist.test.labels # Original format of the imported labels"
   ]
  },
  {
   "cell_type": "code",
   "execution_count": 20,
   "metadata": {
    "collapsed": true
   },
   "outputs": [],
   "source": [
    "train_data_conv=train_data_raw.reshape(train_data_raw.shape[0],28,28)\n",
    "validation_data_conv=validation_data_raw.reshape(validation_data_raw.shape[0],28,28)\n",
    "test_data_conv=test_data_raw.reshape(test_data_raw.shape[0],28,28)"
   ]
  },
  {
   "cell_type": "code",
   "execution_count": 21,
   "metadata": {
    "collapsed": true
   },
   "outputs": [],
   "source": [
    "def image_resize(in_arr,image_height,image_width):\n",
    "        im = Image.fromarray(in_arr)\n",
    "        new_img =im.resize((image_height,image_width),Image.BILINEAR)\n",
    "        greyscale_map = list(new_img.getdata())\n",
    "        greyscale_map = np.array(greyscale_map)\n",
    "        greyscale_map = greyscale_map.reshape((image_height,image_width))\n",
    "        return greyscale_map"
   ]
  },
  {
   "cell_type": "code",
   "execution_count": 22,
   "metadata": {
    "collapsed": true
   },
   "outputs": [],
   "source": [
    "image_height = 32\n",
    "image_width = 32\n",
    "\n",
    "def Image_Concat(X,y,dataset_size):\n",
    "    dataset = np.ndarray(shape=(dataset_size, image_height, image_width),\n",
    "                         dtype=np.float32)\n",
    "\n",
    "    data_labels = []\n",
    "\n",
    "    i = 0\n",
    "    w = 0\n",
    "    while i < dataset_size:     \n",
    "                \n",
    "        x_5 = [X[w],X[w+1],X[w+2],X[w+3],X[w+4]]\n",
    "        y_5 = [y[w],y[w+1],y[w+2],y[w+3],y[w+4]]    \n",
    "        empty_size = random.randint(1,4)\n",
    "        # random set0-4 value to 0\n",
    "        j=empty_size\n",
    "        \n",
    "        while j < 5:\n",
    "            #empty_x = random.randint(0,4)\n",
    "            x_5[j]  = np.zeros((28,28),dtype=np.uint8)\n",
    "            #x_5[empty_x] *= 0\n",
    "            y_5[j] = 10\n",
    "            j += 1        \n",
    "        \n",
    "        #temp = np.hstack(x_5)  \n",
    "             \n",
    "        greyscale_map = image_resize(np.hstack(x_5),image_width,image_height)\n",
    "        \n",
    "        dataset[i, :, :] = greyscale_map\n",
    "        \n",
    "        data_labels.append(y_5)\n",
    "        w += 5\n",
    "        i += 1\n",
    "\n",
    "    data_labels=np.array(data_labels)\n",
    "    \n",
    "    return dataset, data_labels\n"
   ]
  },
  {
   "cell_type": "code",
   "execution_count": 23,
   "metadata": {
    "collapsed": false
   },
   "outputs": [],
   "source": [
    "train_dataset, train_labels = Image_Concat(train_data_conv, train_labels_raw,int(train_data_conv.shape[0]/5))\n",
    "valid_dataset, valid_labels = Image_Concat(validation_data_conv, validation_labels_raw,int(validation_data_conv.shape[0]/5))\n",
    "test_dataset, test_labels = Image_Concat(test_data_conv, test_labels_raw,int(test_data_conv.shape[0]/5))"
   ]
  },
  {
   "cell_type": "code",
   "execution_count": 38,
   "metadata": {
    "collapsed": false
   },
   "outputs": [
    {
     "data": {
      "image/png": "[encoded data removed]",
      "text/plain": [
       "<matplotlib.figure.Figure at 0x27736917a20>"
      ]
     },
     "metadata": {},
     "output_type": "display_data"
    },
    {
     "data": {
      "text/plain": [
       "array([ 4, 10, 10, 10, 10])"
      ]
     },
     "execution_count": 38,
     "metadata": {},
     "output_type": "execute_result"
    }
   ],
   "source": [
    "i=84\n",
    "plt.imshow(test_dataset[i],cmap='gray')\n",
    "plt.show()\n",
    "test_labels[i]"
   ]
  },
  {
   "cell_type": "code",
   "execution_count": 15,
   "metadata": {
    "collapsed": false
   },
   "outputs": [],
   "source": [
    "del mnist\n"
   ]
  },
  {
   "cell_type": "code",
   "execution_count": 25,
   "metadata": {
    "collapsed": false
   },
   "outputs": [
    {
     "name": "stdout",
     "output_type": "stream",
     "text": [
      "Training set (11000, 32, 32) (11000, 5)\n",
      "Validation set (1000, 32, 32) (1000, 5)\n",
      "Test set (2000, 32, 32) (2000, 5)\n"
     ]
    }
   ],
   "source": [
    "print('Training set', train_dataset.shape, train_labels.shape)\n",
    "print('Validation set', valid_dataset.shape, valid_labels.shape)\n",
    "print('Test set', test_dataset.shape, test_labels.shape)"
   ]
  },
  {
   "cell_type": "code",
   "execution_count": 43,
   "metadata": {
    "collapsed": false
   },
   "outputs": [
    {
     "name": "stdout",
     "output_type": "stream",
     "text": [
      "Training set (11000, 32, 32, 1) (11000, 5)\n",
      "Validation set (1000, 32, 32, 1) (1000, 5)\n",
      "Test set (2000, 32, 32, 1) (2000, 5)\n"
     ]
    }
   ],
   "source": [
    "image_size = 32\n",
    "\n",
    "num_channels = 1 # grayscale\n",
    "\n",
    "def reformat(dataset):\n",
    "    dataset = dataset.reshape((-1, image_size, image_size, num_channels)).astype(np.float32)\n",
    "    return dataset\n",
    "train_dataset = reformat(train_dataset)\n",
    "valid_dataset = reformat(valid_dataset)\n",
    "test_dataset = reformat(test_dataset)\n",
    "print('Training set', train_dataset.shape, train_labels.shape)\n",
    "print('Validation set', valid_dataset.shape, valid_labels.shape)\n",
    "print('Test set', test_dataset.shape, test_labels.shape)"
   ]
  },
  {
   "cell_type": "code",
   "execution_count": 39,
   "metadata": {
    "collapsed": true
   },
   "outputs": [],
   "source": [
    "def accuracy_single(predictions, labels):\n",
    "    \"\"\"calculate character-level accuracy\"\"\"\n",
    "    a = np.argmax(predictions, 2).T == labels[:,0:5]\n",
    "    #print(a[3])\n",
    "    length = np.count_nonzero((10 > labels),axis=1).reshape(len(labels),1)\n",
    "    #print('a ', a.shape,' ',length.shape,'  ',np.sum(a),' ',np.sum(length))\n",
    "    #print(length[:4])\n",
    "    summ = 0.0\n",
    "    for i in range(len(length)):\n",
    "        #print(a[i,:length[i][0]])\n",
    "        summ += np.sum(a[i,:int(length[i])])       \n",
    "    return(100 * summ / np.sum(length))"
   ]
  },
  {
   "cell_type": "code",
   "execution_count": 40,
   "metadata": {
    "collapsed": true
   },
   "outputs": [],
   "source": [
    "def accuracy_multi(predictions, labels):\n",
    "    \"\"\"calculate sequence-level accuracy\"\"\"\n",
    "    count = predictions.shape[1]\n",
    "    return 100.0 * (count - np.sum([1 for i in np.argmax(predictions, 2).T == labels[:,0:5]\\\n",
    "                                    if False in i])) / count"
   ]
  },
  {
   "cell_type": "code",
   "execution_count": 54,
   "metadata": {
    "collapsed": false
   },
   "outputs": [],
   "source": [
    "batch_size = 64\n",
    "patch_size = 5 # conv kernel size\n",
    "depth1 = 16\n",
    "depth2 = 32\n",
    "depth3 = 64 ##128\n",
    "num_hidden = 64 ##128\n",
    "\n",
    "image_size = 32\n",
    "num_labels = 11 \n",
    "num_channels = 1 # grayscale\n",
    "\n",
    "graph = tf.Graph()\n",
    "\n",
    "with graph.as_default():\n",
    "\n",
    "    def get_weight_variable(name, shape):\n",
    "        return tf.get_variable(name, shape=shape,\\\n",
    "                               initializer=tf.contrib.layers.xavier_initializer_conv2d())\n",
    "\n",
    "    def bias_variable(shape):\n",
    "        initial = tf.constant(1.0, shape = shape)\n",
    "        return tf.Variable(initial)\n",
    "    \n",
    "    def conv2d(data, weight):\n",
    "        # strides [1, x_movement, y_movement, 1]\n",
    "        return tf.nn.conv2d(data, weight, strides = [1, 1, 1, 1], padding = 'VALID')\n",
    "\n",
    "    def max_pooling(data):\n",
    "        return tf.nn.max_pool(data, ksize = [1, 2, 2, 1], strides = [1, 2, 2, 1], padding = 'SAME')\n",
    "    \n",
    "    def get_label_wb(weight_name):\n",
    "        weights = tf.get_variable(weight_name, shape=[num_hidden, num_labels],\\\n",
    "                                  initializer=tf.contrib.layers.xavier_initializer())\n",
    "        biases = tf.Variable(tf.constant(1.0, shape=[num_labels]))\n",
    "        return weights, biases \n",
    "    \n",
    "    # Input data.\n",
    "    tf_train_dataset = tf.placeholder(\n",
    "    tf.float32, shape=(batch_size, image_size, image_size, num_channels))\n",
    "    tf_train_labels = tf.placeholder(tf.int32, shape=(batch_size, 5))\n",
    "    tf_valid_dataset = tf.constant(valid_dataset)\n",
    "    tf_test_dataset = tf.constant(test_dataset)\n",
    "    beta_regul = tf.placeholder(tf.float32)\n",
    "    \n",
    "    \n",
    "    \n",
    "    # Varibles\n",
    "    # conv1 layer 1\n",
    "    layer1_weights = get_weight_variable('CNN_W1', [7, 7, num_channels, depth1])\n",
    "    layer1_biases = bias_variable([depth1]) # 16\n",
    "    # conv2 layer 2\n",
    "    layer2_weights = get_weight_variable('CNN_W2', [patch_size, patch_size, depth1, depth2])\n",
    "    layer2_biases = bias_variable([depth2]) # 32\n",
    "    # conv3 layer 3\n",
    "    layer3_weights = get_weight_variable('CNN_W3', [5, 5, depth2, depth3])\n",
    "    layer3_biases = bias_variable([depth3]) # 64\n",
    "    \n",
    "    # func1 layer 4\n",
    "    layer4_weights = get_weight_variable('FC_W1',[64, num_hidden]) ###\n",
    "    layer4_biases = bias_variable([num_hidden])\n",
    "    \n",
    "    # locally connected layers\n",
    "    s1_w, s1_b = get_label_wb('S1_W')\n",
    "    s2_w, s2_b = get_label_wb('S2_W')\n",
    "    s3_w, s3_b = get_label_wb('S3_W')\n",
    "    s4_w, s4_b = get_label_wb('S4_W')\n",
    "    s5_w, s5_b = get_label_wb('S5_W')\n",
    "    \n",
    "    sw = [s1_w, s2_w, s3_w, s4_w, s5_w]\n",
    "    \n",
    "    global_step = tf.Variable(0)  # count the number of steps taken.\n",
    "    \n",
    "    def model(dataset, keep_prob, keep_prob2):\n",
    "        # conv1 layer 1\n",
    "        hidden1 = tf.nn.relu(conv2d(dataset, layer1_weights) + layer1_biases) # 32 * 32 * depth1\n",
    "        #hidden1 = tf.nn.local_response_normalization(hidden1)\n",
    "        pool1 = max_pooling(hidden1) # 16 * 16 * depth1\n",
    "        \n",
    "        # conv2 layer 2\n",
    "        hidden2 = tf.nn.relu(conv2d(pool1, layer2_weights) + layer2_biases) # 16 * 16 * depth2\n",
    "        #hidden2 = tf.nn.local_response_normalization(hidden2)\n",
    "        pool2 = max_pooling(hidden2) # 8 * 8 * depth2\n",
    "        \n",
    "        pool2 = tf.nn.dropout(pool2, keep_prob2)\n",
    "        \n",
    "        # conv3 layer 3\n",
    "        hidden3 = tf.nn.relu(conv2d(pool2, layer3_weights) + layer3_biases) # 8 * 8 * depth3\n",
    "        #hidden3 = tf.nn.local_response_normalization(hidden3)\n",
    "        pool3 = max_pooling(hidden3) # 4 * 4 * depth3\n",
    "        \n",
    "        pool3 = tf.nn.dropout(pool3, keep_prob2)\n",
    "        \n",
    "        shape = pool3.get_shape().as_list()\n",
    "        pool3_flat = tf.reshape(pool3, [shape[0], shape[1] * shape[2] * shape[3]]) # 1024\n",
    "#         print(shape[0], shape[1] * shape[2] * shape[3])\n",
    "        \n",
    "        # func1 layer 4\n",
    "        hidden4 = tf.nn.relu(tf.matmul(pool3_flat, layer4_weights) + layer4_biases)\n",
    "        hidden4_drop = tf.nn.dropout(hidden4, keep_prob)\n",
    "\n",
    "        logits_1 = tf.matmul(hidden4_drop, s1_w) + s1_b\n",
    "        logits_2 = tf.matmul(hidden4_drop, s2_w) + s2_b\n",
    "        logits_3 = tf.matmul(hidden4_drop, s3_w) + s3_b\n",
    "        logits_4 = tf.matmul(hidden4_drop, s4_w) + s4_b\n",
    "        logits_5 = tf.matmul(hidden4_drop, s5_w) + s5_b\n",
    "        \n",
    "        return [logits_1, logits_2, logits_3, logits_4, logits_5]\n",
    "    \n",
    "    # Training computation.\n",
    "    logits = model(tf_train_dataset, 0.5, 0.8)\n",
    "    \n",
    "    loss_per_digit = [tf.reduce_mean(\n",
    "                        tf.nn.sparse_softmax_cross_entropy_with_logits(\n",
    "                            logits=logits[i],\n",
    "                            labels=tf_train_labels[:,i]\n",
    "                        )) + beta_regul * tf.nn.l2_loss(sw[i])\n",
    "                       for i in range(5)]\n",
    "    \n",
    "    loss = tf.add_n(loss_per_digit)\n",
    "\n",
    "    # Optimizer.\n",
    "    learning_rate = tf.train.exponential_decay(0.001, global_step, 1000, 0.90, staircase=True)\n",
    "    optimizer = tf.train.AdamOptimizer(learning_rate).minimize(loss, global_step=global_step)\n",
    "    \n",
    "    def prediction_softmax(dataset):\n",
    "        prediction = tf.stack([\n",
    "            tf.nn.softmax(model(dataset, 1.0, 1.0)[0]),\n",
    "            tf.nn.softmax(model(dataset, 1.0, 1.0)[1]),\n",
    "            tf.nn.softmax(model(dataset, 1.0, 1.0)[2]),\n",
    "            tf.nn.softmax(model(dataset, 1.0, 1.0)[3]),\n",
    "            tf.nn.softmax(model(dataset, 1.0, 1.0)[4])])\n",
    "        return prediction\n",
    "    \n",
    "    # Predictions for the training, validation, and test data.\n",
    "    train_prediction = prediction_softmax(tf_train_dataset)\n",
    "    valid_prediction = prediction_softmax(tf_valid_dataset)             \n",
    "    test_prediction = prediction_softmax(tf_test_dataset)\n",
    "    \n",
    "    # Save Model \n",
    "    #saver = tf.train.Saver()"
   ]
  },
  {
   "cell_type": "code",
   "execution_count": null,
   "metadata": {
    "collapsed": false
   },
   "outputs": [],
   "source": [
    "num_steps = 501\n",
    "\n",
    "with tf.Session(graph=graph) as session:\n",
    "\n",
    "    tf.initialize_all_variables().run()\n",
    "    print('Initialized')\n",
    "    for step in range(num_steps):\n",
    "        offset = (step * batch_size) % (train_labels.shape[0] - batch_size)\n",
    "        batch_data = train_dataset[offset:(offset + batch_size), :, :, :]\n",
    "        batch_labels = train_labels[offset:(offset + batch_size), :]\n",
    "        feed_dict = {tf_train_dataset : batch_data, tf_train_labels : batch_labels, beta_regul : 1e-2}\n",
    "        _, l, predictions = session.run(\n",
    "          [optimizer, loss, train_prediction], feed_dict=feed_dict)\n",
    "        \n",
    "        if (step % 50 == 0):\n",
    "            print('Minibatch loss at step %d: %f' % (step, l))\n",
    "            #print('Minibatch single digit accuracy: %.1f%%' % accuracy_single(predictions, batch_labels))\n",
    "            #print('Minibatch image accuracy: %.1f%%' % accuracy_multi(predictions, batch_labels))\n",
    "            print('Validation single digit accuracy: %.1f%%' % accuracy_single(valid_prediction.eval(), valid_labels))\n",
    "            print('Validation image accuracy: %.1f%%' % accuracy_multi(valid_prediction.eval(), valid_labels))\n",
    "            \n",
    "    print('Test single digit accuracy: %.1f%%' % accuracy_single(test_prediction.eval(), test_labels))\n",
    "    print('Test image accuracy: %.1f%%' % accuracy_multi(test_prediction.eval(), test_labels))\n",
    "    \n",
    "        \n",
    "    #save_path = saver.save(session, \"cnn_64_1.ckpt\")\n",
    "    #print('Model saved in file: {}'.format(save_path))"
   ]
  },
  {
   "cell_type": "markdown",
   "metadata": {
    "collapsed": true
   },
   "source": [
    "## SVHN "
   ]
  },
  {
   "cell_type": "code",
   "execution_count": 147,
   "metadata": {
    "collapsed": false
   },
   "outputs": [
    {
     "name": "stdout",
     "output_type": "stream",
     "text": [
      "Training set (27401, 32, 32) (27401, 6) (27401, 20)\n",
      "Validation set (6000, 32, 32) (6000, 6) (6000, 20)\n",
      "Test set (13068, 32, 32) (13068, 6) (13068, 20)\n"
     ]
    }
   ],
   "source": [
    "pickle_file = 'SVHN_multi_crop_32_box.pickle'\n",
    "\n",
    "with open(pickle_file, 'rb') as f:\n",
    "    save = pickle.load(f)\n",
    "    train_dataset = save['train_dataset']\n",
    "    train_labels = save['train_labels']\n",
    "    train_labelsbox = save['train_labelsbox']\n",
    "    valid_dataset = save['valid_dataset']\n",
    "    valid_labels = save['valid_labels']\n",
    "    valid_labelsbox = save['valid_labelsbox']    \n",
    "    test_dataset = save['test_dataset']\n",
    "    test_labels = save['test_labels']\n",
    "    test_labelsbox = save['test_labelsbox']\n",
    "    del save  # hint to help gc free up memory\n",
    "    print('Training set', train_dataset.shape, train_labels.shape,train_labelsbox.shape)\n",
    "    print('Validation set', valid_dataset.shape, valid_labels.shape,valid_labelsbox.shape)\n",
    "    print('Test set', test_dataset.shape, test_labels.shape,test_labelsbox.shape)"
   ]
  },
  {
   "cell_type": "code",
   "execution_count": 148,
   "metadata": {
    "collapsed": false
   },
   "outputs": [
    {
     "name": "stdout",
     "output_type": "stream",
     "text": [
      "Validation set (4000, 32, 32) (4000, 6) (4000, 20)\n"
     ]
    }
   ],
   "source": [
    "# Restrict to 4000 due to memory constraints \n",
    "valid_dataset = valid_dataset[:4000]\n",
    "valid_labels = valid_labels[:4000]\n",
    "valid_labelsbox = valid_labelsbox[:4000]\n",
    "\n",
    "print('Validation set', valid_dataset.shape, valid_labels.shape,valid_labelsbox.shape)"
   ]
  },
  {
   "cell_type": "code",
   "execution_count": 149,
   "metadata": {
    "collapsed": false
   },
   "outputs": [
    {
     "name": "stdout",
     "output_type": "stream",
     "text": [
      "Training set (27401, 32, 32, 1) (27401, 6) (27401, 20)\n",
      "Validation set (4000, 32, 32, 1) (4000, 6) (4000, 20)\n",
      "Test set (13068, 32, 32, 1) (13068, 6) (13068, 20)\n"
     ]
    }
   ],
   "source": [
    "image_size = 32\n",
    "\n",
    "num_channels = 1 # grayscale\n",
    "\n",
    "def reformat(dataset):\n",
    "    dataset = dataset.reshape((-1, image_size, image_size, num_channels)).astype(np.float32)\n",
    "    return dataset\n",
    "train_dataset = reformat(train_dataset)\n",
    "valid_dataset = reformat(valid_dataset)\n",
    "test_dataset = reformat(test_dataset)\n",
    "print('Training set', train_dataset.shape, train_labels.shape,train_labelsbox.shape)\n",
    "print('Validation set', valid_dataset.shape, valid_labels.shape,valid_labelsbox.shape)\n",
    "\n",
    "print('Test set', test_dataset.shape, test_labels.shape,test_labelsbox.shape)"
   ]
  },
  {
   "cell_type": "code",
   "execution_count": 193,
   "metadata": {
    "collapsed": false
   },
   "outputs": [
    {
     "name": "stdout",
     "output_type": "stream",
     "text": [
      "Local test data  (8, 32, 32, 1) (8, 6)\n"
     ]
    }
   ],
   "source": [
    "#Import Data from pictures(Phone Camera)  will be tested at last to check model  for newly taken pictures also \n",
    "\n",
    "no_images = 8 ##Taken from phone camera \n",
    "test_dataset_local=np.ndarray(shape=(no_images, 32, 32), dtype='float32') \n",
    "\n",
    "def normalization(img):\n",
    "        #im = rgb2gray(img) # RGB to greyscale\n",
    "        mean = np.mean(img, dtype='float32')\n",
    "        std = np.std(img, dtype='float32', ddof=1)\n",
    "        return (img - mean) / std  \n",
    "\n",
    "def  import_image(): \n",
    "     for i in range(no_images):\n",
    "      im = Image.open(\"E:\\\\Backup\\\\Sample_images\\\\\"+str(i+1)+\".png\").convert('L')\n",
    "      size = (32, 32)\n",
    "      region = im.resize(size)\n",
    "      region = normalization(region)\n",
    "      test_dataset_local[i,:,:] = region[:,:]\n",
    "    \n",
    "import_image()\n",
    "test_dataset_local = reformat(test_dataset_local)\n",
    "#Import labels as well\n",
    "test_labels_local = genfromtxt('E:\\\\Backup\\\\Sample_images\\\\test_labels.csv', delimiter=',',dtype=np.int32)\n",
    "print('Local test data ',test_dataset_local.shape,test_labels_local.shape)\n"
   ]
  },
  {
   "cell_type": "code",
   "execution_count": 207,
   "metadata": {
    "collapsed": false
   },
   "outputs": [],
   "source": [
    "import matplotlib\n",
    "import matplotlib.gridspec as gridspec\n",
    "def disp_sample_dataset(dataset, label,labelsbox,rand='Y',disp_line='Y'):\n",
    "    if rand=='Y' :\n",
    "     items = random.sample(range(dataset.shape[0]), 8)   \n",
    "    else:\n",
    "     items=[i for i in range(8)]\n",
    "    \n",
    "    plt.figure(figsize = (6,6)) # set the figure size to be square\n",
    "    gs = gridspec.GridSpec(2, 4)\n",
    "    # set the space between subplots and the position of the subplots in the figure\n",
    "    gs.update(wspace=0.5, hspace=0.1, left = 0.1, right = 1, bottom = 0.1, top = 0.5)     \n",
    "    i=0\n",
    "    for g in gs:\n",
    "        ax = plt.subplot(g)\n",
    "        plt.axis('off')\n",
    "        j=items[i]\n",
    "        if rand=='Y':\n",
    "            plt.title(label[j][1:6])\n",
    "        else :\n",
    "            plt.title(label[j][1:-1])        \n",
    "        if disp_line=='Y':\n",
    "         for l in range((label[j][0])):\n",
    "            k=l*4\n",
    "            bbox = matplotlib.patches.Rectangle((labelsbox[j][k], labelsbox[j][k+1]),\\\n",
    "                                     labelsbox[j][k+2],labelsbox[j][k+3],fill=False)    \n",
    "            #print(train_labelsbox_samp[i])\n",
    "            ax.add_patch(bbox)\n",
    "        plt.imshow(dataset[j,:,:,0])\n",
    "        i=i+1    \n",
    "\n",
    "plt.show()"
   ]
  },
  {
   "cell_type": "code",
   "execution_count": 208,
   "metadata": {
    "collapsed": false
   },
   "outputs": [
    {
     "data": {
      "image/png": "[encoded data removed]",
      "text/plain": [
       "<matplotlib.figure.Figure at 0x1f2024762b0>"
      ]
     },
     "metadata": {},
     "output_type": "display_data"
    }
   ],
   "source": [
    "disp_sample_dataset(test_dataset, test_labels,test_labelsbox)"
   ]
  },
  {
   "cell_type": "code",
   "execution_count": 154,
   "metadata": {
    "collapsed": false
   },
   "outputs": [],
   "source": [
    "def labelsbox_norm(Valid_Flag,train_labelsbox,valid_labelsbox,test_labelsbox): \n",
    "    if  Valid_Flag=='LOC' : #Localize \n",
    "        train_labelsbox_norm=train_labelsbox\n",
    "        valid_labelsbox_norm=valid_labelsbox\n",
    "        test_labelsbox_norm=test_labelsbox       \n",
    "    else:   #Other Options     \n",
    "        train_labelsbox_norm=(train_labelsbox-train_labelsbox.min()) \\\n",
    "        /(train_labelsbox.max()-train_labelsbox.min()+1e-5)\n",
    "        valid_labelsbox_norm=(valid_labelsbox-valid_labelsbox.min()) \\\n",
    "        /(valid_labelsbox.max()-valid_labelsbox.min()+1e-5)\n",
    "        test_labelsbox_norm=(test_labelsbox-test_labelsbox.min()) \\\n",
    "        /(test_labelsbox.max()-test_labelsbox.min()+1e-5)\n",
    "    return train_labelsbox_norm,valid_labelsbox_norm,test_labelsbox_norm"
   ]
  },
  {
   "cell_type": "code",
   "execution_count": 155,
   "metadata": {
    "collapsed": true
   },
   "outputs": [],
   "source": [
    "def accuracy_single(predictions, labels):\n",
    "    \"\"\"calculate character-level accuracy\"\"\"    \n",
    "    a = np.argmax(predictions, 2).T == labels[:,1:6]\n",
    "    length = labels[:,0]\n",
    "    summ = 0.0\n",
    "    for i in range(len(length)):\n",
    "        summ += np.sum(a[i,:length[i]])\n",
    "    #     print(a[i,:length[i]])\n",
    "    return(100 * summ / np.sum(length))"
   ]
  },
  {
   "cell_type": "code",
   "execution_count": 156,
   "metadata": {
    "collapsed": true
   },
   "outputs": [],
   "source": [
    "def accuracy_multi(predictions, labels):\n",
    "    \"\"\"calculate sequence-level accuracy\"\"\"\n",
    "    #print(predictions.shape)\n",
    "    count = predictions.shape[1]\n",
    "    #print(predictions[0].tolist()\n",
    "    return 100.0 * (count - np.sum([1 for i in np.argmax(predictions, 2).T == labels[:,1:6]\\\n",
    "                                    if False in i])) / count"
   ]
  },
  {
   "cell_type": "code",
   "execution_count": 182,
   "metadata": {
    "collapsed": true
   },
   "outputs": [],
   "source": [
    "import pandas as pd\n",
    "def acc_batch_iou(pred, labels, epsilon=1e-5):\n",
    "    start=-4\n",
    "    sum_iou=0\n",
    "    list_data=[]\n",
    "    \n",
    "    #print(pred.shape)\n",
    "    #pd_pred = pd.DataFrame(pred)\n",
    "    #pd_labels = pd.DataFrame(labels)\n",
    "    #pd_pred.to_csv(\"E:\\\\Backup\\\\pred.csv\",mode=\"a\")\n",
    "    #pd_labels.to_csv(\"E:\\\\Backup\\\\labels.csv\",mode=\"a\")  \n",
    "    \n",
    "    \n",
    "    for i in range(5):    \n",
    "         # COORDINATES OF THE INTERSECTION BOXES\n",
    "        start=start+4\n",
    "        x1 = np.array([pred[:, start+0], labels[:, start+0]]).max(axis=0)\n",
    "        y1 = np.array([pred[:, start+1], labels[:, start+1]]).max(axis=0)\n",
    "        x2 = np.array([pred[:, start+0]+ pred[:, start+2], labels[:, start+0]+ labels[:, start+2]]).min(axis=0) ##Add width to get X2\n",
    "        y2 = np.array([pred[:, start+1]+ pred[:, start+3], labels[:, start+1]+labels[:, start+3]]).min(axis=0) ##Add height to get X2\n",
    "\n",
    "        # AREAS OF OVERLAP - Area where the boxes intersect\n",
    "        width = (x2 - x1)\n",
    "        height = (y2 - y1)\n",
    "\n",
    "        # handle case where there is NO overlap\n",
    "        width[width < 0] = 0\n",
    "        height[height < 0] = 0\n",
    "\n",
    "        area_overlap = width * height\n",
    "\n",
    "        # COMBINED AREAS\n",
    "        area_a = (pred[:, start+2]) * (pred[:, start+3])\n",
    "        area_b = (labels[:, start+2]) * (labels[:, start+3])\n",
    "        area_combined = area_a + area_b - area_overlap\n",
    "\n",
    "        # RATIO OF AREA OF OVERLAP OVER COMBINED AREA\n",
    "        iou = area_overlap / (area_combined + epsilon)\n",
    "        list_data.append(round((np.sum(iou)/(sum(labels[:, start+2]>0)+epsilon)),2)) #Taking into consideration number of digits in image\n",
    "        \n",
    "    return list_data"
   ]
  },
  {
   "cell_type": "code",
   "execution_count": 196,
   "metadata": {
    "collapsed": false
   },
   "outputs": [],
   "source": [
    "batch_size = 128\n",
    "patch_size = 5 # conv kernel size\n",
    "depth1 = 16\n",
    "depth2 = 32\n",
    "depth3 = 64\n",
    "num_hidden = 64\n",
    "\n",
    "image_size = 32\n",
    "num_labels = 11 \n",
    "num_boxes=20 \n",
    "num_channels = 1 # grayscale\n",
    "\n",
    "graph = tf.Graph()\n",
    "\n",
    "option_run='LAB' # Train Labels Only \n",
    "\n",
    "#Normalize Box Coordinates \n",
    "train_labelsbox_norm,valid_labelsbox_norm,test_labelsbox_norm=\\\n",
    "labelsbox_norm(option_run,train_labelsbox,valid_labelsbox,test_labelsbox)\n",
    "\n",
    "\n",
    "with graph.as_default():\n",
    "\n",
    "    def get_weight_variable(name, shape):\n",
    "        return tf.get_variable(name, shape=shape,\\\n",
    "                               initializer=tf.contrib.layers.xavier_initializer_conv2d())\n",
    "\n",
    "    def bias_variable(shape):\n",
    "        initial = tf.constant(1.0, shape = shape)\n",
    "        return tf.Variable(initial)\n",
    "    \n",
    "    def conv2d(data, weight):\n",
    "        # strides [1, x_movement, y_movement, 1]\n",
    "        return tf.nn.conv2d(data, weight, strides = [1, 1, 1, 1], padding = 'VALID')\n",
    "\n",
    "    def max_pooling(data):\n",
    "        return tf.nn.max_pool(data, ksize = [1, 2, 2, 1], strides = [1, 2, 2, 1], padding = 'SAME')\n",
    "    \n",
    "    def get_label_wb(weight_name):\n",
    "        weights = tf.get_variable(weight_name, shape=[num_hidden, num_labels],\\\n",
    "                                  initializer=tf.contrib.layers.xavier_initializer())\n",
    "        biases = tf.Variable(tf.constant(1.0, shape=[num_labels]))\n",
    "        return weights, biases \n",
    "    \n",
    "    #Label box Weights  \n",
    "    def get_labelbox_wb(weight_name):\n",
    "        weights = tf.get_variable(weight_name, shape=[num_hidden, num_boxes],\\\n",
    "                                  initializer=tf.contrib.layers.xavier_initializer())\n",
    "        biases = tf.Variable(tf.constant(1.0, shape=[num_boxes]))\n",
    "        return weights, biases \n",
    "    \n",
    "    \n",
    "    # Input data.\n",
    "    tf_train_dataset = tf.placeholder(\n",
    "    tf.float32, shape=(batch_size, image_size, image_size, num_channels))\n",
    "    tf_train_labels = tf.placeholder(tf.int32, shape=(batch_size, 6))\n",
    "    tf_train_labelsbox_norm = tf.placeholder(tf.float32, shape=(batch_size, 20))\n",
    "    tf_valid_dataset = tf.constant(valid_dataset)\n",
    "    tf_test_dataset = tf.constant(test_dataset)\n",
    "    tf_test_dataset_local = tf.constant(test_dataset_local)    \n",
    "    beta_regul = tf.placeholder(tf.float32)\n",
    "    run_option=tf.placeholder(tf.string) #LAB - Get valid labels,LOC-Localization details,BOT-Both Options\n",
    "    \n",
    "    \n",
    "    # Varibles\n",
    "    # conv1 layer 1\n",
    "    layer1_weights = get_weight_variable('CNN_W1', [7, 7, num_channels, depth1])\n",
    "    layer1_biases = bias_variable([depth1]) # 16\n",
    "    # conv2 layer 2\n",
    "    layer2_weights = get_weight_variable('CNN_W2', [patch_size, patch_size, depth1, depth2])\n",
    "    layer2_biases = bias_variable([depth2]) # 32\n",
    "    # conv3 layer 3\n",
    "    layer3_weights = get_weight_variable('CNN_W3', [5, 5, depth2, depth3])\n",
    "    layer3_biases = bias_variable([depth3]) # 64\n",
    "    \n",
    "    # func1 layer 4\n",
    "    layer4_weights = get_weight_variable('FC_W1',[64, num_hidden]) ##Not image size \n",
    "    layer4_biases = bias_variable([num_hidden])\n",
    "    \n",
    "    # locally connected layers\n",
    "    s1_w, s1_b = get_label_wb('S1_W')\n",
    "    s2_w, s2_b = get_label_wb('S2_W')\n",
    "    s3_w, s3_b = get_label_wb('S3_W')\n",
    "    s4_w, s4_b = get_label_wb('S4_W')\n",
    "    s5_w, s5_b = get_label_wb('S5_W')\n",
    "    \n",
    "     # locally connected layers for boxes\n",
    "    sb1_w, sb1_b = get_labelbox_wb('SB1_W')\n",
    "    \n",
    "    \n",
    "    sw = [s1_w, s2_w, s3_w, s4_w, s5_w]\n",
    "    sbw = [sb1_w]\n",
    "    \n",
    "    global_step = tf.Variable(0)  # count the number of steps taken.\n",
    "    \n",
    "    def model(dataset, keep_prob, keep_prob2):\n",
    "        # conv1 layer 1\n",
    "        #print(' 11 ',dataset.shape,' l1w ',layer1_weights.get_shape().as_list(),' l1b ',              layer1_biases.get_shape().as_list())\n",
    "        hidden1 = tf.nn.relu(conv2d(dataset, layer1_weights) + layer1_biases) # 32 * 32 * depth1\n",
    "        hidden1 = tf.nn.local_response_normalization(hidden1)\n",
    "        pool1 = max_pooling(hidden1) # 16 * 16 * depth1\n",
    "        \n",
    "        #print(' 22 ',' h1 ',hidden1.get_shape().as_list(),' p1  ',pool1.get_shape().as_list())\n",
    "        \n",
    "        # conv2 layer 2\n",
    "        hidden2 = tf.nn.relu(conv2d(pool1, layer2_weights) + layer2_biases) # 16 * 16 * depth2\n",
    "        hidden2 = tf.nn.local_response_normalization(hidden2)\n",
    "        pool2 = max_pooling(hidden2) # 8 * 8 * depth2\n",
    "    \n",
    "        #print(' 33 ',' h2 ',hidden2.get_shape().as_list(),' p1  ',pool2.get_shape().as_list())\n",
    "    \n",
    "        pool2 = tf.nn.dropout(pool2, keep_prob2)\n",
    "        \n",
    "        # conv3 layer 3\n",
    "        hidden3 = tf.nn.relu(conv2d(pool2, layer3_weights) + layer3_biases) # 8 * 8 * depth3\n",
    "        hidden3 = tf.nn.local_response_normalization(hidden3)\n",
    "        pool3 = max_pooling(hidden3) # 4 * 4 * depth3\n",
    "        \n",
    "        #print(' 44 ',' h3 ',hidden2.get_shape().as_list(),' p3  ',pool3.get_shape().as_list())\n",
    "        \n",
    "        pool3 = tf.nn.dropout(pool3, keep_prob2)\n",
    "        \n",
    "        shape = pool3.get_shape().as_list()\n",
    "        pool3_flat = tf.reshape(pool3, [shape[0], shape[1] * shape[2] * shape[3]]) # 1024\n",
    "#         print(shape[0], shape[1] * shape[2] * shape[3])\n",
    "        \n",
    "        # func1 layer 4\n",
    "        \n",
    "        #print(' 55 ',' h3 ',pool3_flat.get_shape().as_list(),' l4w  ',layer4_weights.get_shape().as_list())\n",
    "        \n",
    "        hidden4 = tf.nn.relu(tf.matmul(pool3_flat, layer4_weights) + layer4_biases)\n",
    "        hidden4_drop = tf.nn.dropout(hidden4, keep_prob)\n",
    "        \n",
    "        \n",
    "        \n",
    "        logits_1 = tf.matmul(hidden4_drop, s1_w) + s1_b\n",
    "        logits_2 = tf.matmul(hidden4_drop, s2_w) + s2_b\n",
    "        logits_3 = tf.matmul(hidden4_drop, s3_w) + s3_b\n",
    "        logits_4 = tf.matmul(hidden4_drop, s4_w) + s4_b\n",
    "        logits_5 = tf.matmul(hidden4_drop, s5_w) + s5_b\n",
    "        \n",
    "        #Bounding Box Weights\n",
    "        logits_box = tf.matmul(hidden4_drop, sb1_w) + sb1_b\n",
    "        \n",
    "                \n",
    "        \n",
    "        return ([logits_1, logits_2, logits_3, logits_4, logits_5], \\\n",
    "                [logits_box])\n",
    "    \n",
    "    # Training computation.\n",
    "    logits,boxes = model(tf_train_dataset, 0.5, 0.8)\n",
    "    \n",
    "       \n",
    "    loss_per_digit =tf.reduce_mean(\n",
    "                        tf.nn.sparse_softmax_cross_entropy_with_logits(\n",
    "                            logits=logits[0],\n",
    "                            labels=tf_train_labels[:,0+1]\n",
    "                        )) + beta_regul * tf.nn.l2_loss(sw[0]) +tf.reduce_mean(\n",
    "                        tf.nn.sparse_softmax_cross_entropy_with_logits(\n",
    "                            logits=logits[1],\n",
    "                            labels=tf_train_labels[:,0+2]\n",
    "                        )) + beta_regul * tf.nn.l2_loss(sw[1]) +tf.reduce_mean(\n",
    "                        tf.nn.sparse_softmax_cross_entropy_with_logits(\n",
    "                            logits=logits[2],\n",
    "                            labels=tf_train_labels[:,0+3]\n",
    "                        )) + beta_regul * tf.nn.l2_loss(sw[2]) +  tf.reduce_mean(\n",
    "                        tf.nn.sparse_softmax_cross_entropy_with_logits(\n",
    "                            logits=logits[3],\n",
    "                            labels=tf_train_labels[:,0+4]\n",
    "                        )) + beta_regul * tf.nn.l2_loss(sw[3]) + tf.reduce_mean(\n",
    "                        tf.nn.sparse_softmax_cross_entropy_with_logits(\n",
    "                            logits=logits[4],\n",
    "                            labels=tf_train_labels[:,0+5]\n",
    "                        )) + beta_regul * tf.nn.l2_loss(sw[4])     \n",
    "    \n",
    "    \n",
    "    loss = loss_per_digit \n",
    "        \n",
    "    # Optimizer.\n",
    "    learning_rate = tf.train.exponential_decay(0.001, global_step, 1000, 0.90, staircase=True)\n",
    "    optimizer = tf.train.AdamOptimizer(learning_rate).minimize(loss, global_step=global_step)\n",
    "    \n",
    "    \n",
    "    def prediction_softmax(dataset):\n",
    "        pr=model(dataset, 1.0, 1.0)\n",
    "        prediction = tf.stack([\n",
    "            tf.nn.softmax(pr[0][0]),\n",
    "            tf.nn.softmax(pr[0][1]),\n",
    "            tf.nn.softmax(pr[0][2]),\n",
    "            tf.nn.softmax(pr[0][3]),\n",
    "            tf.nn.softmax(pr[0][4])])\n",
    "        \n",
    "        prediction_box=pr[1]\n",
    "        return prediction,prediction_box\n",
    "    \n",
    "    # Predictions for the training, validation, and test data.\n",
    "    train_prediction = prediction_softmax(tf_train_dataset)\n",
    "    valid_prediction = prediction_softmax(tf_valid_dataset)             \n",
    "    test_prediction = prediction_softmax(tf_test_dataset)\n",
    "    test_prediction_local = prediction_softmax(tf_test_dataset_local)\n",
    "    \n",
    "    # Save Model \n",
    "    saver = tf.train.Saver()"
   ]
  },
  {
   "cell_type": "markdown",
   "metadata": {},
   "source": [
    "## Finding Labels only"
   ]
  },
  {
   "cell_type": "code",
   "execution_count": 159,
   "metadata": {
    "collapsed": false
   },
   "outputs": [
    {
     "name": "stdout",
     "output_type": "stream",
     "text": [
      "WARNING:tensorflow:From <ipython-input-159-4d768ae1759d>:5: initialize_all_variables (from tensorflow.python.ops.variables) is deprecated and will be removed after 2017-03-02.\n",
      "Instructions for updating:\n",
      "Use `tf.global_variables_initializer` instead.\n",
      "Initialized\n",
      "Minibatch loss at step 0: 23.247057\n",
      "Minibatch single digit accuracy: 16.0%\n",
      "Minibatch image accuracy: 0.0%\n",
      "Validation image accuracy: 0.0%\n",
      "Minibatch loss at step 10: 14.002529\n",
      "Minibatch single digit accuracy: 24.7%\n",
      "Minibatch image accuracy: 0.0%\n",
      "Validation image accuracy: 0.1%\n",
      "Minibatch loss at step 20: 11.432989\n",
      "Minibatch single digit accuracy: 22.4%\n",
      "Minibatch image accuracy: 0.8%\n",
      "Validation image accuracy: 0.1%\n",
      "Minibatch loss at step 30: 8.904126\n",
      "Minibatch single digit accuracy: 17.5%\n",
      "Minibatch image accuracy: 3.9%\n",
      "Validation image accuracy: 3.5%\n",
      "Minibatch loss at step 40: 8.011426\n",
      "Minibatch single digit accuracy: 18.1%\n",
      "Minibatch image accuracy: 1.6%\n",
      "Validation image accuracy: 3.5%\n",
      "Minibatch loss at step 50: 7.244792\n",
      "Minibatch single digit accuracy: 17.0%\n",
      "Minibatch image accuracy: 2.3%\n",
      "Validation image accuracy: 3.5%\n",
      "Minibatch loss at step 60: 6.978683\n",
      "Minibatch single digit accuracy: 17.3%\n",
      "Minibatch image accuracy: 3.9%\n",
      "Validation image accuracy: 3.5%\n",
      "Minibatch loss at step 70: 7.141366\n",
      "Minibatch single digit accuracy: 17.0%\n",
      "Minibatch image accuracy: 1.6%\n",
      "Validation image accuracy: 3.5%\n",
      "Minibatch loss at step 80: 6.998216\n",
      "Minibatch single digit accuracy: 14.5%\n",
      "Minibatch image accuracy: 3.1%\n",
      "Validation image accuracy: 3.5%\n",
      "Minibatch loss at step 90: 6.787018\n",
      "Minibatch single digit accuracy: 15.6%\n",
      "Minibatch image accuracy: 3.9%\n",
      "Validation image accuracy: 3.5%\n",
      "Minibatch loss at step 100: 6.611968\n",
      "Minibatch single digit accuracy: 18.9%\n",
      "Minibatch image accuracy: 4.7%\n",
      "Validation image accuracy: 3.5%\n"
     ]
    }
   ],
   "source": [
    "num_steps = 101\n",
    "\n",
    "with tf.Session(graph=graph) as session:\n",
    "\n",
    "    tf.initialize_all_variables().run()\n",
    "    print('Initialized')\n",
    "    for step in range(num_steps):\n",
    "        offset = (step * batch_size) % (train_labels.shape[0] - batch_size)\n",
    "        batch_data = train_dataset[offset:(offset + batch_size), :, :, :]\n",
    "        batch_labels = train_labels[offset:(offset + batch_size), :]\n",
    "        batch_labelsbox=train_labelsbox_norm[offset:(offset + batch_size), :]        \n",
    "        feed_dict = {tf_train_dataset : batch_data, tf_train_labels : batch_labels, beta_regul :1e-3,\\\n",
    "                     tf_train_labelsbox_norm : batch_labelsbox,run_option :option_run }\n",
    "        \n",
    "        _,l,predictions = session.run(\n",
    "          [optimizer,loss,train_prediction], feed_dict=feed_dict)\n",
    "        if (step % 10 == 0):\n",
    "            print('Minibatch loss at step %d: %f' % (step, l))\n",
    "            print('Minibatch single digit accuracy: %.1f%%' % accuracy_single(predictions[0], batch_labels))            \n",
    "            print('Minibatch image accuracy: %.1f%%' % accuracy_multi(predictions[0], batch_labels))\n",
    "            #print('Validation single digit accuracy: %.1f%%' % accuracy_single(valid_prediction.eval(), valid_labels))\n",
    "            preds=session.run(valid_prediction)            \n",
    "            print('Validation image accuracy: %.1f%%' % accuracy_multi(np.array(preds[0]), valid_labels))            \n",
    "            \n",
    "    preds=session.run(test_prediction)\n",
    "    #print('Test single digit accuracy: %.1f%%' % accuracy_single(np.array(preds[0]), test_labels))\n",
    "    #print('Test image accuracy: %.1f%%' % accuracy_multi(np.array(preds[0]), test_labels))                \n",
    "            \n",
    "    #save_path = saver.save(session, \"cnn_64_1_label.ckpt\")\n",
    "    #print('Model saved in file: {}'.format(save_path))\n"
   ]
  },
  {
   "cell_type": "markdown",
   "metadata": {},
   "source": [
    "## Test Local Pictures"
   ]
  },
  {
   "cell_type": "code",
   "execution_count": 194,
   "metadata": {
    "collapsed": false
   },
   "outputs": [
    {
     "data": {
      "image/png": "[encoded data removed]",
      "text/plain": [
       "<matplotlib.figure.Figure at 0x1f205aaeac8>"
      ]
     },
     "metadata": {},
     "output_type": "display_data"
    }
   ],
   "source": [
    "disp_sample_dataset(test_dataset_local, test_labels_local,test_labelsbox,'N','N')"
   ]
  },
  {
   "cell_type": "code",
   "execution_count": 197,
   "metadata": {
    "collapsed": false
   },
   "outputs": [
    {
     "name": "stdout",
     "output_type": "stream",
     "text": [
      "Model restored!\n",
      "Test single digit accuracy: 86.7%\n",
      "Test image accuracy: 75.0%\n"
     ]
    }
   ],
   "source": [
    "with tf.Session(graph=graph) as session:\n",
    "    \n",
    "    # If you want to restore model\n",
    "    saver.restore(session, \"E:\\\\Backup\\\\Model\\\\cnn_64_1_label.ckpt\")\n",
    "    print(\"Model restored!\")\n",
    "\n",
    "    preds=session.run(test_prediction_local)    \n",
    "    print('Test single digit accuracy: %.1f%%' % accuracy_single(np.array(preds[0]), test_labels_local))\n",
    "\n",
    "    print('Test image accuracy: %.1f%%' % accuracy_multi(np.array(preds[0]), test_labels_local))       "
   ]
  },
  {
   "cell_type": "code",
   "execution_count": 198,
   "metadata": {
    "collapsed": true
   },
   "outputs": [],
   "source": [
    "#Process Predicted Label\n",
    "st_pred=np.hstack([preds[0][0].tolist(),preds[0][1].tolist(),preds[0][2].tolist(),\\\n",
    "                  preds[0][3].tolist(),preds[0][4].tolist()])\n",
    "pred_labels=np.hstack([np.argmax(st_pred[:,0:11],axis=1).reshape(no_images,1),np.argmax(st_pred[:,11:22],axis=1).reshape(no_images,1),\\\n",
    "           np.argmax(st_pred[:,22:33],axis=1).reshape(no_images,1),np.argmax(st_pred[:,33:44],axis=1).reshape(no_images,1)\\\n",
    "           ,np.argmax(st_pred[:,44:55],axis=1).reshape(no_images,1)])"
   ]
  },
  {
   "cell_type": "code",
   "execution_count": 199,
   "metadata": {
    "collapsed": false
   },
   "outputs": [],
   "source": [
    "get_labels = lambda a,i,j : (''.join(map(str, a[i:i+1,0:j])))\n",
    "pred_labels_disp=[]\n",
    "for i in range(8):\n",
    "    pred_labels_disp.append(((get_labels(pred_labels,i,int(np.sum(pred_labels[i:i+1,:]<10,axis=1))))))"
   ]
  },
  {
   "cell_type": "code",
   "execution_count": 200,
   "metadata": {
    "collapsed": false
   },
   "outputs": [
    {
     "data": {
      "image/png": "[encoded data removed]",
      "text/plain": [
       "<matplotlib.figure.Figure at 0x1f205ce67b8>"
      ]
     },
     "metadata": {},
     "output_type": "display_data"
    }
   ],
   "source": [
    "disp_sample_dataset(test_dataset_local, pred_labels_disp,test_labelsbox,rand='N',disp_line='N')"
   ]
  },
  {
   "cell_type": "markdown",
   "metadata": {},
   "source": [
    "## Localization "
   ]
  },
  {
   "cell_type": "code",
   "execution_count": 201,
   "metadata": {
    "collapsed": false
   },
   "outputs": [],
   "source": [
    "batch_size = 128\n",
    "patch_size = 5 # conv kernel size\n",
    "depth1 = 16\n",
    "depth2 = 32\n",
    "depth3 = 64\n",
    "num_hidden = 64\n",
    "\n",
    "image_size = 32\n",
    "num_labels = 11 \n",
    "num_boxes=20 \n",
    "num_channels = 1 # grayscale\n",
    "\n",
    "graph = tf.Graph()\n",
    "\n",
    "#Normalize Box Coordinates \n",
    "train_labelsbox_norm,valid_labelsbox_norm,test_labelsbox_norm=\\\n",
    "labelsbox_norm('LOC',train_labelsbox,valid_labelsbox,test_labelsbox)\n",
    "\n",
    "\n",
    "with graph.as_default():\n",
    "\n",
    "    def get_weight_variable(name, shape):\n",
    "        return tf.get_variable(name, shape=shape,\\\n",
    "                               initializer=tf.contrib.layers.xavier_initializer_conv2d())\n",
    "\n",
    "    def bias_variable(shape):\n",
    "        initial = tf.constant(1.0, shape = shape)\n",
    "        return tf.Variable(initial)\n",
    "    \n",
    "    def conv2d(data, weight):\n",
    "        # strides [1, x_movement, y_movement, 1]\n",
    "        return tf.nn.conv2d(data, weight, strides = [1, 1, 1, 1], padding = 'VALID')\n",
    "\n",
    "    def max_pooling(data):\n",
    "        return tf.nn.max_pool(data, ksize = [1, 2, 2, 1], strides = [1, 2, 2, 1], padding = 'SAME')\n",
    "    \n",
    "    def get_label_wb(weight_name):\n",
    "        weights = tf.get_variable(weight_name, shape=[num_hidden, num_labels],\\\n",
    "                                  initializer=tf.contrib.layers.xavier_initializer())\n",
    "        biases = tf.Variable(tf.constant(1.0, shape=[num_labels]))\n",
    "        return weights, biases \n",
    "    \n",
    "    #Label box Weights  \n",
    "    def get_labelbox_wb(weight_name):\n",
    "        weights = tf.get_variable(weight_name, shape=[num_hidden, num_boxes],\\\n",
    "                                  initializer=tf.contrib.layers.xavier_initializer())\n",
    "        biases = tf.Variable(tf.constant(1.0, shape=[num_boxes]))\n",
    "        return weights, biases \n",
    "    \n",
    "    \n",
    "    # Input data.\n",
    "    tf_train_dataset = tf.placeholder(\n",
    "    tf.float32, shape=(batch_size, image_size, image_size, num_channels))\n",
    "    tf_train_labels = tf.placeholder(tf.int32, shape=(batch_size, 6))\n",
    "    tf_train_labelsbox_norm = tf.placeholder(tf.float32, shape=(batch_size, 20))\n",
    "    tf_valid_dataset = tf.constant(valid_dataset)\n",
    "    tf_test_dataset = tf.constant(test_dataset)\n",
    "    tf_test_dataset_local = tf.constant(test_dataset_local)\n",
    "    beta_regul = tf.placeholder(tf.float32)\n",
    "    \n",
    "    \n",
    "    # Varibles\n",
    "    # conv1 layer 1\n",
    "    layer1_weights = get_weight_variable('CNN_W1', [7, 7, num_channels, depth1])\n",
    "    layer1_biases = bias_variable([depth1]) # 16\n",
    "    # conv2 layer 2\n",
    "    layer2_weights = get_weight_variable('CNN_W2', [patch_size, patch_size, depth1, depth2])\n",
    "    layer2_biases = bias_variable([depth2]) # 32\n",
    "    # conv3 layer 3\n",
    "    layer3_weights = get_weight_variable('CNN_W3', [5, 5, depth2, depth3])\n",
    "    layer3_biases = bias_variable([depth3]) # 64\n",
    "    \n",
    "    # func1 layer 4\n",
    "    layer4_weights = get_weight_variable('FC_W1',[64, num_hidden]) ##Not image size \n",
    "    layer4_biases = bias_variable([num_hidden])\n",
    "    \n",
    "    # locally connected layers\n",
    "    s1_w, s1_b = get_label_wb('S1_W')\n",
    "    s2_w, s2_b = get_label_wb('S2_W')\n",
    "    s3_w, s3_b = get_label_wb('S3_W')\n",
    "    s4_w, s4_b = get_label_wb('S4_W')\n",
    "    s5_w, s5_b = get_label_wb('S5_W')\n",
    "    \n",
    "     # locally connected layers for boxes\n",
    "    sb1_w, sb1_b = get_labelbox_wb('SB1_W')\n",
    "    \n",
    "    \n",
    "    sw = [s1_w, s2_w, s3_w, s4_w, s5_w]\n",
    "    sbw = [sb1_w]\n",
    "    \n",
    "    global_step = tf.Variable(0)  # count the number of steps taken.\n",
    "    \n",
    "    def model(dataset, keep_prob, keep_prob2):\n",
    "        # conv1 layer 1\n",
    "        #print(' 11 ',dataset.shape,' l1w ',layer1_weights.get_shape().as_list(),' l1b ',              layer1_biases.get_shape().as_list())\n",
    "        hidden1 = tf.nn.relu(conv2d(dataset, layer1_weights) + layer1_biases) # 32 * 32 * depth1\n",
    "        hidden1 = tf.nn.local_response_normalization(hidden1)\n",
    "        pool1 = max_pooling(hidden1) # 16 * 16 * depth1\n",
    "        \n",
    "        #print(' 22 ',' h1 ',hidden1.get_shape().as_list(),' p1  ',pool1.get_shape().as_list())\n",
    "        \n",
    "        # conv2 layer 2\n",
    "        hidden2 = tf.nn.relu(conv2d(pool1, layer2_weights) + layer2_biases) # 16 * 16 * depth2\n",
    "        hidden2 = tf.nn.local_response_normalization(hidden2)\n",
    "        pool2 = max_pooling(hidden2) # 8 * 8 * depth2\n",
    "    \n",
    "        #print(' 33 ',' h2 ',hidden2.get_shape().as_list(),' p1  ',pool2.get_shape().as_list())\n",
    "    \n",
    "        pool2 = tf.nn.dropout(pool2, keep_prob2)\n",
    "        \n",
    "        # conv3 layer 3\n",
    "        hidden3 = tf.nn.relu(conv2d(pool2, layer3_weights) + layer3_biases) # 8 * 8 * depth3\n",
    "        hidden3 = tf.nn.local_response_normalization(hidden3)\n",
    "        pool3 = max_pooling(hidden3) # 4 * 4 * depth3\n",
    "        \n",
    "        #print(' 44 ',' h3 ',hidden2.get_shape().as_list(),' p3  ',pool3.get_shape().as_list())\n",
    "        \n",
    "        pool3 = tf.nn.dropout(pool3, keep_prob2)\n",
    "        \n",
    "        shape = pool3.get_shape().as_list()\n",
    "        pool3_flat = tf.reshape(pool3, [shape[0], shape[1] * shape[2] * shape[3]]) # 1024\n",
    "#         print(shape[0], shape[1] * shape[2] * shape[3])\n",
    "        \n",
    "        # func1 layer 4\n",
    "        \n",
    "        #print(' 55 ',' h3 ',pool3_flat.get_shape().as_list(),' l4w  ',layer4_weights.get_shape().as_list())\n",
    "        \n",
    "        hidden4 = tf.nn.relu(tf.matmul(pool3_flat, layer4_weights) + layer4_biases)\n",
    "        hidden4_drop = tf.nn.dropout(hidden4, keep_prob)\n",
    "        \n",
    "        \n",
    "        \n",
    "        logits_1 = tf.matmul(hidden4_drop, s1_w) + s1_b\n",
    "        logits_2 = tf.matmul(hidden4_drop, s2_w) + s2_b\n",
    "        logits_3 = tf.matmul(hidden4_drop, s3_w) + s3_b\n",
    "        logits_4 = tf.matmul(hidden4_drop, s4_w) + s4_b\n",
    "        logits_5 = tf.matmul(hidden4_drop, s5_w) + s5_b\n",
    "        \n",
    "        #Bounding Box Weights\n",
    "        logits_box = tf.matmul(hidden4_drop, sb1_w) + sb1_b\n",
    "        \n",
    "                \n",
    "        \n",
    "        return ([logits_1, logits_2, logits_3, logits_4, logits_5], \\\n",
    "                [logits_box])\n",
    "    \n",
    "    # Training computation.\n",
    "    logits,boxes = model(tf_train_dataset, 0.5, 0.8)\n",
    "    \n",
    "       \n",
    "    loss_per_digit_box =tf.reduce_mean(tf.sqrt(tf.reduce_mean(tf.square(tf.subtract(boxes[0][:,0:4], \\\n",
    "                            tf_train_labelsbox_norm[:,0:4]))))) \\\n",
    "                        + tf.reduce_mean(tf.sqrt(tf.reduce_mean(tf.square(tf.subtract(boxes[0][:,4:8],\\\n",
    "                            tf_train_labelsbox_norm[:,4:8])))))  \\\n",
    "                        + tf.reduce_mean(tf.sqrt(tf.reduce_mean(tf.square(tf.subtract(boxes[0][:,8:12],\\\n",
    "                            tf_train_labelsbox_norm[:,8:12]))))) \\\n",
    "                        + tf.reduce_mean(tf.sqrt(tf.reduce_mean(tf.square(tf.subtract(boxes[0][:,12:16],\\\n",
    "                            tf_train_labelsbox_norm[:,12:16]))))) \\\n",
    "                        + tf.reduce_mean(tf.sqrt(tf.reduce_mean(tf.square(tf.subtract(boxes[0][:,16:20],\\\n",
    "                            tf_train_labelsbox_norm[:,16:20]))))) \n",
    "     \n",
    "      \n",
    "    \n",
    "    \n",
    "    #print(' 166 ',np.array(loss_per_digit_box).dtype)\n",
    "    \n",
    "    loss = loss_per_digit_box  # +   loss_per_digit_box \n",
    "    \n",
    "    #loss = loss_per_digit + loss_per_digit_box  # +   loss_per_digit_box \n",
    "    \n",
    "    #loss_box = tf.add_n(loss_per_digit_box)\n",
    "    \n",
    "    #print(' 177 ',' loss ',loss.get_shape().as_list(),'loss b',loss_box.get_shape().as_list())\n",
    "    #tot_loss=tf.add_n(loss,loss_box)\n",
    "\n",
    "    # Optimizer.\n",
    "    learning_rate = tf.train.exponential_decay(0.001, global_step, 1000, 0.90, staircase=True)\n",
    "    optimizer = tf.train.AdamOptimizer(learning_rate).minimize(loss, global_step=global_step)\n",
    "    #optimizer_b = tf.train.AdamOptimizer(learning_rate).minimize(loss_box, global_step=global_step)\n",
    "    \n",
    "    def prediction_softmax(dataset):\n",
    "        pr=model(dataset, 1.0, 1.0)\n",
    "        prediction = tf.stack([\n",
    "            tf.nn.softmax(pr[0][0]),\n",
    "            tf.nn.softmax(pr[0][1]),\n",
    "            tf.nn.softmax(pr[0][2]),\n",
    "            tf.nn.softmax(pr[0][3]),\n",
    "            tf.nn.softmax(pr[0][4])])\n",
    "        \n",
    "        prediction_box=pr[1]\n",
    "        return prediction,prediction_box\n",
    "    \n",
    "    # Predictions for the training, validation, and test data.\n",
    "    train_prediction = prediction_softmax(tf_train_dataset)\n",
    "    valid_prediction = prediction_softmax(tf_valid_dataset)             \n",
    "    test_prediction = prediction_softmax(tf_test_dataset)\n",
    "    test_prediction_local = prediction_softmax(tf_test_dataset_local)\n",
    "    \n",
    "    # Save Model \n",
    "    saver = tf.train.Saver()"
   ]
  },
  {
   "cell_type": "code",
   "execution_count": 189,
   "metadata": {
    "collapsed": false
   },
   "outputs": [
    {
     "name": "stdout",
     "output_type": "stream",
     "text": [
      "WARNING:tensorflow:From <ipython-input-189-d246a72520df>:5: initialize_all_variables (from tensorflow.python.ops.variables) is deprecated and will be removed after 2017-03-02.\n",
      "Instructions for updating:\n",
      "Use `tf.global_variables_initializer` instead.\n",
      "Initialized\n",
      "Minibatch loss at step 0: 47.414268\n",
      "Minibatch box accuracy:  [0.0, 0.0, 0.0, 0.0, 0.0]\n",
      "Validation box accuracy:  [0.0, 0.0, 0.0, 0.0, 0.0]\n",
      "Minibatch loss at step 20: 41.107357\n",
      "Minibatch box accuracy:  [0.029999999999999999, 0.0, 0.0, 0.0, 0.0]\n",
      "Validation box accuracy:  [0.029999999999999999, 0.0, 0.0, 0.0, 0.0]\n",
      "Minibatch loss at step 40: 37.853325\n",
      "Minibatch box accuracy:  [0.11, 0.0, 0.0, 0.0, 0.0]\n",
      "Validation box accuracy:  [0.12, 0.0, 0.0, 0.0, 0.0]\n",
      "Minibatch loss at step 60: 32.445251\n",
      "Minibatch box accuracy:  [0.25, 0.02, 0.0, 0.0, 0.0]\n",
      "Validation box accuracy:  [0.27000000000000002, 0.029999999999999999, 0.0, 0.0, 0.0]\n",
      "Minibatch loss at step 80: 29.569258\n",
      "Minibatch box accuracy:  [0.41999999999999998, 0.12, 0.0, 0.0, 0.0]\n",
      "Validation box accuracy:  [0.42999999999999999, 0.14000000000000001, 0.0, 0.0, 0.0]\n",
      "Minibatch loss at step 100: 27.027166\n",
      "Minibatch box accuracy:  [0.56999999999999995, 0.26000000000000001, 0.0, 0.0, 0.0]\n",
      "Validation box accuracy:  [0.59999999999999998, 0.27000000000000002, 0.0, 0.0, 0.0]\n"
     ]
    }
   ],
   "source": [
    "num_steps = 101\n",
    "\n",
    "with tf.Session(graph=graph) as session:\n",
    "\n",
    "    tf.initialize_all_variables().run()\n",
    "    print('Initialized')\n",
    "    for step in range(num_steps):\n",
    "        offset = (step * batch_size) % (train_labels.shape[0] - batch_size)\n",
    "        batch_data = train_dataset[offset:(offset + batch_size), :, :, :]\n",
    "        batch_labels = train_labels[offset:(offset + batch_size), :]\n",
    "        batch_labelsbox=train_labelsbox_norm[offset:(offset + batch_size), :]        \n",
    "        feed_dict = {tf_train_dataset : batch_data, tf_train_labels : batch_labels, beta_regul :1e-3,\\\n",
    "                     tf_train_labelsbox_norm : batch_labelsbox }\n",
    "        \n",
    "        _,l,predictions = session.run(\n",
    "          [optimizer,loss,train_prediction], feed_dict=feed_dict)\n",
    "        if (step % 20 == 0):\n",
    "            print('Minibatch loss at step %d: %f' % (step, l))\n",
    "            print('Minibatch box accuracy: ',acc_batch_iou(np.array(predictions[1])[0], batch_labelsbox))\n",
    "            preds=session.run(valid_prediction)            \n",
    "            print('Validation box accuracy: ',acc_batch_iou(np.array(preds[1])[0], valid_labelsbox_norm))                       \n",
    "   "
   ]
  },
  {
   "cell_type": "code",
   "execution_count": 202,
   "metadata": {
    "collapsed": false
   },
   "outputs": [
    {
     "name": "stdout",
     "output_type": "stream",
     "text": [
      "Model restored!\n",
      "Prediction done successfully\n"
     ]
    }
   ],
   "source": [
    "#Run the session for localization \n",
    "with tf.Session(graph=graph) as session:\n",
    "    \n",
    "    # If you want to restore model\n",
    "    saver.restore(session, \"E:\\\\Backup\\\\Model\\\\cnn_64_1_box.ckpt\")\n",
    "    print(\"Model restored!\")\n",
    "    preds=session.run(test_prediction_local)        \n",
    "    print(\"Prediction done successfully\")"
   ]
  },
  {
   "cell_type": "code",
   "execution_count": 209,
   "metadata": {
    "collapsed": false
   },
   "outputs": [
    {
     "data": {
      "image/png": "[encoded data removed]",
      "text/plain": [
       "<matplotlib.figure.Figure at 0x1f2026f8400>"
      ]
     },
     "metadata": {},
     "output_type": "display_data"
    }
   ],
   "source": [
    "disp_sample_dataset(test_dataset_local, test_labels_local,preds[1][0],rand='Y',disp_line='Y')"
   ]
  },
  {
   "cell_type": "code",
   "execution_count": null,
   "metadata": {
    "collapsed": true
   },
   "outputs": [],
   "source": []
  }
 ],
 "metadata": {
  "anaconda-cloud": {},
  "kernelspec": {
   "display_name": "Python [conda env:dlnd-tf-lab]",
   "language": "python",
   "name": "conda-env-dlnd-tf-lab-py"
  },
  "language_info": {
   "codemirror_mode": {
    "name": "ipython",
    "version": 3
   },
   "file_extension": ".py",
   "mimetype": "text/x-python",
   "name": "python",
   "nbconvert_exporter": "python",
   "pygments_lexer": "ipython3",
   "version": "3.5.2"
  }
 },
 "nbformat": 4,
 "nbformat_minor": 1
}
