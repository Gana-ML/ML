{
 "cells": [
  {
   "cell_type": "markdown",
   "metadata": {
    "collapsed": true,
    "deletable": true,
    "editable": true
   },
   "source": [
    "# Image Classification\n",
    "In this project, we'll classify images from the [CIFAR-10 dataset](https://www.cs.toronto.edu/~kriz/cifar.html).  The dataset consists of airplanes, dogs, cats, and other objects. we'll preprocess the images, then train a convolutional neural network on all the samples. The images need to be normalized and the labels need to be one-hot encoded.  we'll get to apply what we learned and build a convolutional, max pooling, dropout, and fully connected layers.  At the end, we'll get to see our neural network's predictions on the sample images.\n",
    "## Get the Data\n",
    "Run the following cell to download the [CIFAR-10 dataset for python](https://www.cs.toronto.edu/~kriz/cifar-10-python.tar.gz)."
   ]
  },
  {
   "cell_type": "code",
   "execution_count": 1,
   "metadata": {
    "collapsed": false,
    "deletable": true,
    "editable": true
   },
   "outputs": [
    {
     "name": "stderr",
     "output_type": "stream",
     "text": [
      "CIFAR-10 Dataset: 171MB [00:45, 3.77MB/s]                               \n"
     ]
    },
    {
     "name": "stdout",
     "output_type": "stream",
     "text": [
      "All files found!\n"
     ]
    }
   ],
   "source": [
    "\"\"\"\n",
    "   \n",
    "\"\"\"\n",
    "from urllib.request import urlretrieve\n",
    "from os.path import isfile, isdir\n",
    "from tqdm import tqdm\n",
    "import problem_unittests as tests\n",
    "import tarfile\n",
    "\n",
    "cifar10_dataset_folder_path = 'cifar-10-batches-py'\n",
    "\n",
    "class DLProgress(tqdm):\n",
    "    last_block = 0\n",
    "\n",
    "    def hook(self, block_num=1, block_size=1, total_size=None):\n",
    "        self.total = total_size\n",
    "        self.update((block_num - self.last_block) * block_size)\n",
    "        self.last_block = block_num\n",
    "\n",
    "if not isfile('cifar-10-python.tar.gz'):\n",
    "    with DLProgress(unit='B', unit_scale=True, miniters=1, desc='CIFAR-10 Dataset') as pbar:\n",
    "        urlretrieve(\n",
    "            'https://www.cs.toronto.edu/~kriz/cifar-10-python.tar.gz',\n",
    "            'cifar-10-python.tar.gz',\n",
    "            pbar.hook)\n",
    "\n",
    "if not isdir(cifar10_dataset_folder_path):\n",
    "    with tarfile.open('cifar-10-python.tar.gz') as tar:\n",
    "        tar.extractall()\n",
    "        tar.close()\n",
    "\n",
    "\n",
    "tests.test_folder_path(cifar10_dataset_folder_path)"
   ]
  },
  {
   "cell_type": "markdown",
   "metadata": {
    "deletable": true,
    "editable": true
   },
   "source": [
    "## Explore the Data\n",
    "The dataset is broken into batches to prevent our machine from running out of memory.  The CIFAR-10 dataset consists of 5 batches, named `data_batch_1`, `data_batch_2`, etc.. Each batch contains the labels and images that are one of the following:\n",
    "* airplane\n",
    "* automobile\n",
    "* bird\n",
    "* cat\n",
    "* deer\n",
    "* dog\n",
    "* frog\n",
    "* horse\n",
    "* ship\n",
    "* truck\n",
    "\n",
    "Understanding a dataset is part of making predictions on the data.  Play around with the code cell below by changing the `batch_id` and `sample_id`. The `batch_id` is the id for a batch (1-5). The `sample_id` is the id for a image and label pair in the batch.\n",
    "\n",
    "Ask ourself \"What are all possible labels?\", \"What is the range of values for the image data?\", \"Are the labels in order or random?\".  Answers to questions like these will help we preprocess the data and end up with better predictions."
   ]
  },
  {
   "cell_type": "code",
   "execution_count": 2,
   "metadata": {
    "collapsed": false,
    "deletable": true,
    "editable": true
   },
   "outputs": [
    {
     "name": "stdout",
     "output_type": "stream",
     "text": [
      "\n",
      "Stats of batch 1:\n",
      "Samples: 10000\n",
      "Label Counts: {0: 1005, 1: 974, 2: 1032, 3: 1016, 4: 999, 5: 937, 6: 1030, 7: 1001, 8: 1025, 9: 981}\n",
      "First 20 Labels: [6, 9, 9, 4, 1, 1, 2, 7, 8, 3, 4, 7, 7, 2, 9, 9, 9, 3, 2, 6]\n",
      "\n",
      "Example of Image 5:\n",
      "Image - Min Value: 0 Max Value: 252\n",
      "Image - Shape: (32, 32, 3)\n",
      "Label - Label Id: 1 Name: automobile\n"
     ]
    },
    {
     "data": {
      "image/png": "[encoded data removed]",
      "text/plain": [
       "<matplotlib.figure.Figure at 0x7ff550babe10>"
      ]
     },
     "metadata": {
      "image/png": {
       "height": 250,
       "width": 253
      }
     },
     "output_type": "display_data"
    }
   ],
   "source": [
    "%matplotlib inline\n",
    "%config InlineBackend.figure_format = 'retina'\n",
    "\n",
    "import helper\n",
    "import numpy as np\n",
    "\n",
    "# Explore the dataset\n",
    "batch_id = 1\n",
    "sample_id = 5\n",
    "helper.display_stats(cifar10_dataset_folder_path, batch_id, sample_id)"
   ]
  },
  {
   "cell_type": "markdown",
   "metadata": {
    "deletable": true,
    "editable": true
   },
   "source": [
    "## Implement Preprocess Functions\n",
    "### Normalize\n",
    "In the cell below, implement the `normalize` function to take in image data, `x`, and return it as a normalized Numpy array. The values should be in the range of 0 to 1, inclusive.  The return object should be the same shape as `x`."
   ]
  },
  {
   "cell_type": "code",
   "execution_count": 3,
   "metadata": {
    "collapsed": false,
    "deletable": true,
    "editable": true
   },
   "outputs": [
    {
     "name": "stdout",
     "output_type": "stream",
     "text": [
      "Tests Passed\n"
     ]
    }
   ],
   "source": [
    "def normalize(x):\n",
    "    \"\"\"\n",
    "    Normalize a list of sample image data in the range of 0 to 1\n",
    "    : x: List of image data.  The image shape is (32, 32, 3)\n",
    "    : return: Numpy array of normalize data\n",
    "    \"\"\"\n",
    "    #   Implement Function\n",
    "    min = 0\n",
    "    max = 255\n",
    "    return ((x - min )/( max - min ))\n",
    "\n",
    "\n",
    "\"\"\"\n",
    "   \n",
    "\"\"\"\n",
    "tests.test_normalize(normalize)"
   ]
  },
  {
   "cell_type": "markdown",
   "metadata": {
    "deletable": true,
    "editable": true
   },
   "source": [
    "### One-hot encode\n",
    "Just like the previous code cell, we'll be implementing a function for preprocessing.  This time, we'll implement the `one_hot_encode` function. The input, `x`, are a list of labels.  Implement the function to return the list of labels as One-Hot encoded Numpy array.  The possible values for labels are 0 to 9. The one-hot encoding function should return the same encoding for each value between each call to `one_hot_encode`.  Make sure to save the map of encodings outside the function.\n",
    "\n",
    "Hint: Don't reinvent the wheel."
   ]
  },
  {
   "cell_type": "code",
   "execution_count": 4,
   "metadata": {
    "collapsed": false,
    "deletable": true,
    "editable": true
   },
   "outputs": [
    {
     "name": "stdout",
     "output_type": "stream",
     "text": [
      "Tests Passed\n"
     ]
    }
   ],
   "source": [
    "def one_hot_encode(x):\n",
    "    \"\"\"\n",
    "    One hot encode a list of sample labels. Return a one-hot encoded vector for each label.\n",
    "    : x: List of sample Labels\n",
    "    : return: Numpy array of one-hot encoded labels\n",
    "    \"\"\"\n",
    "   #   Implement Function\n",
    "    labels = np.zeros((len(x), 10))\n",
    "    for i in range(len(x)):\n",
    "        labels[i,x[i]] = 1\n",
    "    return labels  \n",
    "\n",
    "\n",
    "\"\"\"\n",
    "   \n",
    "\"\"\"\n",
    "tests.test_one_hot_encode(one_hot_encode)"
   ]
  },
  {
   "cell_type": "markdown",
   "metadata": {
    "deletable": true,
    "editable": true
   },
   "source": [
    "### Randomize Data\n",
    "As we saw from exploring the data above, the order of the samples are randomized.  It doesn't hurt to randomize it again, but we don't need to for this dataset."
   ]
  },
  {
   "cell_type": "markdown",
   "metadata": {
    "deletable": true,
    "editable": true
   },
   "source": [
    "## Preprocess all the data and save it\n",
    "Running the code cell below will preprocess all the CIFAR-10 data and save it to file. The code below also uses 10% of the training data for validation."
   ]
  },
  {
   "cell_type": "code",
   "execution_count": 5,
   "metadata": {
    "collapsed": false,
    "deletable": true,
    "editable": true
   },
   "outputs": [],
   "source": [
    "\"\"\"\n",
    " \n",
    "\"\"\"\n",
    "# Preprocess Training, Validation, and Testing Data\n",
    "helper.preprocess_and_save_data(cifar10_dataset_folder_path, normalize, one_hot_encode)"
   ]
  },
  {
   "cell_type": "markdown",
   "metadata": {
    "deletable": true,
    "editable": true
   },
   "source": [
    "# Check Point\n",
    "This is our first checkpoint.  If we ever decide to come back to this notebook or have to restart the notebook, we can start from here.  The preprocessed data has been saved to disk."
   ]
  },
  {
   "cell_type": "code",
   "execution_count": 1,
   "metadata": {
    "collapsed": true,
    "deletable": true,
    "editable": true
   },
   "outputs": [],
   "source": [
    "\"\"\"\n",
    " \n",
    "\"\"\"\n",
    "import pickle\n",
    "import problem_unittests as tests\n",
    "import helper\n",
    "\n",
    "# Load the Preprocessed Validation data\n",
    "valid_features, valid_labels = pickle.load(open('preprocess_validation.p', mode='rb'))"
   ]
  },
  {
   "cell_type": "markdown",
   "metadata": {
    "deletable": true,
    "editable": true
   },
   "source": [
    "## Build the network\n",
    "For the neural network, we'll build each layer into a function.  Most of the code we've seen has been outside of functions. To test our code more thoroughly, we require that we put each layer in a function.  This allows us to give we better feedback and test for simple mistakes using our unittests before we submit our project.\n",
    "\n",
    ">**Note:** If we're finding it hard to dedicate enough time for this course each week, we've provided a small shortcut to this part of the project. In the next couple of problems, we'll have the option to use classes from the [TensorFlow Layers](https://www.tensorflow.org/api_docs/python/tf/layers) or [TensorFlow Layers (contrib)](https://www.tensorflow.org/api_guides/python/contrib.layers) packages to build each layer, except the layers we build in the \"Convolutional and Max Pooling Layer\" section.  TF Layers is similar to Keras's and TFLearn's abstraction to layers, so it's easy to pickup.\n",
    "\n",
    ">However, if we would like to get the most out of this course, try to solve all the problems _without_ using anything from the TF Layers packages. we **can** still use classes from other packages that happen to have the same name as ones we find in TF Layers! For example, instead of using the TF Layers version of the `conv2d` class, [tf.layers.conv2d](https://www.tensorflow.org/api_docs/python/tf/layers/conv2d), we would want to use the TF Neural Network version of `conv2d`, [tf.nn.conv2d](https://www.tensorflow.org/api_docs/python/tf/nn/conv2d). \n",
    "\n",
    "Let's begin!\n",
    "\n",
    "### Input\n",
    "The neural network needs to read the image data, one-hot encoded labels, and dropout keep probability. Implement the following functions\n",
    "* Implement `neural_net_image_input`\n",
    " * Return a [TF Placeholder](https://www.tensorflow.org/api_docs/python/tf/placeholder)\n",
    " * Set the shape using `image_shape` with batch size set to `None`.\n",
    " * Name the TensorFlow placeholder \"x\" using the TensorFlow `name` parameter in the [TF Placeholder](https://www.tensorflow.org/api_docs/python/tf/placeholder).\n",
    "* Implement `neural_net_label_input`\n",
    " * Return a [TF Placeholder](https://www.tensorflow.org/api_docs/python/tf/placeholder)\n",
    " * Set the shape using `n_classes` with batch size set to `None`.\n",
    " * Name the TensorFlow placeholder \"y\" using the TensorFlow `name` parameter in the [TF Placeholder](https://www.tensorflow.org/api_docs/python/tf/placeholder).\n",
    "* Implement `neural_net_keep_prob_input`\n",
    " * Return a [TF Placeholder](https://www.tensorflow.org/api_docs/python/tf/placeholder) for dropout keep probability.\n",
    " * Name the TensorFlow placeholder \"keep_prob\" using the TensorFlow `name` parameter in the [TF Placeholder](https://www.tensorflow.org/api_docs/python/tf/placeholder).\n",
    "\n",
    "These names will be used at the end of the project to load our saved model.\n",
    "\n",
    "Note: `None` for shapes in TensorFlow allow for a dynamic size."
   ]
  },
  {
   "cell_type": "code",
   "execution_count": 2,
   "metadata": {
    "collapsed": false,
    "deletable": true,
    "editable": true
   },
   "outputs": [
    {
     "name": "stdout",
     "output_type": "stream",
     "text": [
      "Image Input Tests Passed.\n",
      "Label Input Tests Passed.\n",
      "Keep Prob Tests Passed.\n"
     ]
    }
   ],
   "source": [
    "import tensorflow as tf\n",
    "\n",
    "def neural_net_image_input(image_shape):\n",
    "    \"\"\"\n",
    "    Return a Tensor for a bach of image input\n",
    "    : image_shape: Shape of the images\n",
    "    : return: Tensor for image input.\n",
    "    \"\"\"\n",
    "    #   Implement Function\n",
    "    return tf.placeholder(tf.float32, shape = [None, *image_shape], name = \"x\")\n",
    "\n",
    "\n",
    "def neural_net_label_input(n_classes):\n",
    "    \"\"\"\n",
    "    Return a Tensor for a batch of label input\n",
    "    : n_classes: Number of classes\n",
    "    : return: Tensor for label input.\n",
    "    \"\"\"\n",
    "    #   Implement Function\n",
    "    return tf.placeholder(tf.float32, shape = [None, n_classes], name = \"y\")\n",
    "\n",
    "\n",
    "def neural_net_keep_prob_input():\n",
    "    \"\"\"\n",
    "    Return a Tensor for keep probability\n",
    "    : return: Tensor for keep probability.\n",
    "    \"\"\"\n",
    "    #   Implement Function\n",
    "    return tf.placeholder(tf.float32,name = \"keep_prob\")\n",
    "\n",
    "\n",
    "\"\"\"\n",
    "   \n",
    "\"\"\"\n",
    "tf.reset_default_graph()\n",
    "tests.test_nn_image_inputs(neural_net_image_input)\n",
    "tests.test_nn_label_inputs(neural_net_label_input)\n",
    "tests.test_nn_keep_prob_inputs(neural_net_keep_prob_input)"
   ]
  },
  {
   "cell_type": "markdown",
   "metadata": {
    "deletable": true,
    "editable": true
   },
   "source": [
    "### Convolution and Max Pooling Layer\n",
    "Convolution layers have a lot of success with images. For this code cell, we should implement the function `conv2d_maxpool` to apply convolution then max pooling:\n",
    "* Create the weight and bias using `conv_ksize`, `conv_num_outputs` and the shape of `x_tensor`.\n",
    "* Apply a convolution to `x_tensor` using weight and `conv_strides`.\n",
    " * We recommend we use same padding, but we're welcome to use any padding.\n",
    "* Add bias\n",
    "* Add a nonlinear activation to the convolution.\n",
    "* Apply Max Pooling using `pool_ksize` and `pool_strides`.\n",
    " * We recommend we use same padding, but we're welcome to use any padding.\n",
    "\n",
    "**Note:** we **can't** use [TensorFlow Layers](https://www.tensorflow.org/api_docs/python/tf/layers) or [TensorFlow Layers (contrib)](https://www.tensorflow.org/api_guides/python/contrib.layers) for **this** layer, but we can still use TensorFlow's [Neural Network](https://www.tensorflow.org/api_docs/python/tf/nn) package. we may still use the shortcut option for all the **other** layers."
   ]
  },
  {
   "cell_type": "code",
   "execution_count": 13,
   "metadata": {
    "collapsed": false,
    "deletable": true,
    "editable": true
   },
   "outputs": [
    {
     "name": "stdout",
     "output_type": "stream",
     "text": [
      "Tests Passed\n"
     ]
    }
   ],
   "source": [
    "def conv2d_maxpool(x_tensor, conv_num_outputs, conv_ksize, conv_strides, pool_ksize, pool_strides):\n",
    "    \"\"\"\n",
    "    Apply convolution then max pooling to x_tensor\n",
    "    :param x_tensor: TensorFlow Tensor\n",
    "    :param conv_num_outputs: Number of outputs for the convolutional layer\n",
    "    :param conv_ksize: kernal size 2-D Tuple for the convolutional layer\n",
    "    :param conv_strides: Stride 2-D Tuple for convolution\n",
    "    :param pool_ksize: kernal size 2-D Tuple for pool\n",
    "    :param pool_strides: Stride 2-D Tuple for pool\n",
    "    : return: A tensor that represents convolution and max pooling of x_tensor\n",
    "    \"\"\"\n",
    "    #   Implement Function\n",
    "    input_channel_depth = int(x_tensor.get_shape()[3])\n",
    "    # The shape of the filter weight is (height, width, input_depth, output_depth)\n",
    "    filter_weights = tf.Variable(tf.truncated_normal([*conv_ksize, input_channel_depth, conv_num_outputs], dtype=tf.float32,mean=0.0, stddev=0.08))\n",
    "    # The shape of the biases is equal the the number of outputs of the conv layer\n",
    "    filter_biases = tf.Variable(tf.constant(0, shape=[conv_num_outputs], dtype=tf.float32))\n",
    "    \n",
    "    layer = tf.nn.conv2d(input=x_tensor, filter=filter_weights, strides=[1, *conv_strides, 1], padding='SAME')\n",
    "    layer += filter_biases\n",
    "    layer = tf.nn.relu(layer)\n",
    "    layer = tf.nn.max_pool(layer, [1, *pool_ksize, 1], strides=[1, *pool_strides, 1], padding='SAME')\n",
    "    \n",
    "    return layer \n",
    "\n",
    "\n",
    "\"\"\"\n",
    "   \n",
    "\"\"\"\n",
    "tests.test_con_pool(conv2d_maxpool)"
   ]
  },
  {
   "cell_type": "markdown",
   "metadata": {
    "deletable": true,
    "editable": true
   },
   "source": [
    "### Flatten Layer\n",
    "Implement the `flatten` function to change the dimension of `x_tensor` from a 4-D tensor to a 2-D tensor.  The output should be the shape (*Batch Size*, *Flattened Image Size*). Shortcut option: we can use classes from the [TensorFlow Layers](https://www.tensorflow.org/api_docs/python/tf/layers) or [TensorFlow Layers (contrib)](https://www.tensorflow.org/api_guides/python/contrib.layers) packages for this layer. For more of a challenge, only use other TensorFlow packages."
   ]
  },
  {
   "cell_type": "code",
   "execution_count": 14,
   "metadata": {
    "collapsed": false,
    "deletable": true,
    "editable": true
   },
   "outputs": [
    {
     "name": "stdout",
     "output_type": "stream",
     "text": [
      "Tests Passed\n"
     ]
    }
   ],
   "source": [
    "def flatten(x_tensor):\n",
    "    \"\"\"\n",
    "    Flatten x_tensor to (Batch Size, Flattened Image Size)\n",
    "    : x_tensor: A tensor of size (Batch Size, ...), where ... are the image dimensions.\n",
    "    : return: A tensor of size (Batch Size, Flattened Image Size).\n",
    "    \"\"\"\n",
    "    #   Implement Function\n",
    "    return tf.contrib.layers.flatten(x_tensor)\n",
    "\n",
    "\n",
    "\"\"\"\n",
    "   \n",
    "\"\"\"\n",
    "tests.test_flatten(flatten)"
   ]
  },
  {
   "cell_type": "markdown",
   "metadata": {
    "deletable": true,
    "editable": true
   },
   "source": [
    "### Fully-Connected Layer\n",
    "Implement the `fully_conn` function to apply a fully connected layer to `x_tensor` with the shape (*Batch Size*, *num_outputs*). Shortcut option: we can use classes from the [TensorFlow Layers](https://www.tensorflow.org/api_docs/python/tf/layers) or [TensorFlow Layers (contrib)](https://www.tensorflow.org/api_guides/python/contrib.layers) packages for this layer. For more of a challenge, only use other TensorFlow packages."
   ]
  },
  {
   "cell_type": "code",
   "execution_count": 15,
   "metadata": {
    "collapsed": false,
    "deletable": true,
    "editable": true
   },
   "outputs": [
    {
     "name": "stdout",
     "output_type": "stream",
     "text": [
      "Tests Passed\n"
     ]
    }
   ],
   "source": [
    "def fully_conn(x_tensor, num_outputs):\n",
    "    \"\"\"\n",
    "    Apply a fully connected layer to x_tensor using weight and bias\n",
    "    : x_tensor: A 2-D tensor where the first dimension is batch size.\n",
    "    : num_outputs: The number of output that the new tensor should be.\n",
    "    : return: A 2-D tensor where the second dimension is num_outputs.\n",
    "    \"\"\"\n",
    "    #   Implement Function\n",
    "    return tf.layers.dense(inputs=x_tensor, units=num_outputs, activation=tf.nn.relu)\n",
    "\n",
    "\n",
    "\"\"\"\n",
    "   \n",
    "\"\"\"\n",
    "tests.test_fully_conn(fully_conn)"
   ]
  },
  {
   "cell_type": "markdown",
   "metadata": {
    "deletable": true,
    "editable": true
   },
   "source": [
    "### Output Layer\n",
    "Implement the `output` function to apply a fully connected layer to `x_tensor` with the shape (*Batch Size*, *num_outputs*). Shortcut option: we can use classes from the [TensorFlow Layers](https://www.tensorflow.org/api_docs/python/tf/layers) or [TensorFlow Layers (contrib)](https://www.tensorflow.org/api_guides/python/contrib.layers) packages for this layer. For more of a challenge, only use other TensorFlow packages.\n",
    "\n",
    "**Note:** Activation, softmax, or cross entropy should **not** be applied to this."
   ]
  },
  {
   "cell_type": "code",
   "execution_count": 16,
   "metadata": {
    "collapsed": false,
    "deletable": true,
    "editable": true
   },
   "outputs": [
    {
     "name": "stdout",
     "output_type": "stream",
     "text": [
      "Tests Passed\n"
     ]
    }
   ],
   "source": [
    "def output(x_tensor, num_outputs):\n",
    "    \"\"\"\n",
    "    Apply a output layer to x_tensor using weight and bias\n",
    "    : x_tensor: A 2-D tensor where the first dimension is batch size.\n",
    "    : num_outputs: The number of output that the new tensor should be.\n",
    "    : return: A 2-D tensor where the second dimension is num_outputs.\n",
    "    \"\"\"\n",
    "    batch_size = x_tensor.get_shape().as_list()[1]\n",
    "    weight = tf.Variable (tf.random_normal([batch_size, num_outputs], mean=0.0, stddev=0.08))\n",
    "    bias = tf.Variable (tf.zeros(num_outputs))\n",
    "\n",
    "    output_layer = tf.add (tf.matmul (x_tensor, weight), bias)\n",
    "    return output_layer\n",
    "\n",
    "\n",
    "\"\"\"\n",
    "   \n",
    "\"\"\"\n",
    "tests.test_output(output)"
   ]
  },
  {
   "cell_type": "markdown",
   "metadata": {
    "deletable": true,
    "editable": true
   },
   "source": [
    "### Create Convolutional Model\n",
    "Implement the function `conv_net` to create a convolutional neural network model. The function takes in a batch of images, `x`, and outputs logits.  Use the layers we created above to create this model:\n",
    "\n",
    "* Apply 1, 2, or 3 Convolution and Max Pool layers\n",
    "* Apply a Flatten Layer\n",
    "* Apply 1, 2, or 3 Fully Connected Layers\n",
    "* Apply an Output Layer\n",
    "* Return the output\n",
    "* Apply [TensorFlow's Dropout](https://www.tensorflow.org/api_docs/python/tf/nn/dropout) to one or more layers in the model using `keep_prob`. "
   ]
  },
  {
   "cell_type": "code",
   "execution_count": 69,
   "metadata": {
    "collapsed": false,
    "deletable": true,
    "editable": true
   },
   "outputs": [
    {
     "name": "stdout",
     "output_type": "stream",
     "text": [
      "Neural Network Built!\n"
     ]
    }
   ],
   "source": [
    "def conv_net(x, keep_prob):\n",
    "    \"\"\"\n",
    "    Create a convolutional neural network model\n",
    "    : x: Placeholder tensor that holds image data.\n",
    "    : keep_prob: Placeholder tensor that hold dropout keep probability.\n",
    "    : return: Tensor that represents logits\n",
    "    \"\"\"\n",
    "    #   Apply 1, 2, or 3 Convolution and Max Pool layers\n",
    "    #    Play around with different number of outputs, kernel size and stride\n",
    "    # Function Definition from Above:\n",
    "    #    conv2d_maxpool(x_tensor, conv_num_outputs, conv_ksize, conv_strides, pool_ksize, pool_strides)\n",
    "    \n",
    "\n",
    "    #   Apply a Flatten Layer\n",
    "    # Function Definition from Above:\n",
    "    #   flatten(x_tensor)\n",
    "    \n",
    "\n",
    "    #   Apply 1, 2, or 3 Fully Connected Layers\n",
    "    #    Play around with different number of outputs\n",
    "    # Function Definition from Above:\n",
    "    #   fully_conn(x_tensor, num_outputs)\n",
    "    \n",
    "    \n",
    "    #   Apply an Output Layer\n",
    "    #    Set this to the number of classes\n",
    "    # Function Definition from Above:\n",
    "    #   output(x_tensor, num_outputs)\n",
    "    \n",
    "    \n",
    "    #   return output\n",
    "    \n",
    "     # Layer 1\n",
    "    conv1 = conv2d_maxpool(x, 24, (3, 3), (1, 1), (2, 2), (2, 2))\n",
    "    \n",
    "    # Layer 2\n",
    "    conv2 = conv2d_maxpool(conv1, 48, (3, 3), (1, 1), (2, 2), (2, 2))\n",
    "    \n",
    "    # Layer 3\n",
    "    conv3 = conv2d_maxpool(conv2, 96, (3, 3), (1, 1), (2, 2), (2, 2))\n",
    "    \n",
    "    # Flatten layer\n",
    "    flatten1 = flatten(conv3)\n",
    "\n",
    "    # Fully connected layer\n",
    "    fc1 = fully_conn(flatten1, 64)\n",
    "    fc1 = tf.nn.dropout(fc1, keep_prob)\n",
    "    fc2 = fully_conn(fc1, 64)\n",
    "    fc2 = tf.nn.dropout(fc2, keep_prob)\n",
    "    \n",
    "    out = output(fc2, 10)\n",
    "    return out\n",
    "\n",
    "\n",
    "\"\"\"\n",
    "   \n",
    "\"\"\"\n",
    "\n",
    "##############################\n",
    "## Build the Neural Network ##\n",
    "##############################\n",
    "\n",
    "# Remove previous weights, bias, inputs, etc..\n",
    "tf.reset_default_graph()\n",
    "\n",
    "# Inputs\n",
    "x = neural_net_image_input((32, 32, 3))\n",
    "y = neural_net_label_input(10)\n",
    "keep_prob = neural_net_keep_prob_input()\n",
    "\n",
    "# Model\n",
    "logits = conv_net(x, keep_prob)\n",
    "\n",
    "# Name logits Tensor, so that is can be loaded from disk after training\n",
    "logits = tf.identity(logits, name='logits')\n",
    "\n",
    "# Loss and Optimizer\n",
    "cost = tf.reduce_mean(tf.nn.softmax_cross_entropy_with_logits(logits=logits, labels=y))\n",
    "optimizer = tf.train.AdamOptimizer().minimize(cost)\n",
    "\n",
    "# Accuracy\n",
    "correct_pred = tf.equal(tf.argmax(logits, 1), tf.argmax(y, 1))\n",
    "accuracy = tf.reduce_mean(tf.cast(correct_pred, tf.float32), name='accuracy')\n",
    "\n",
    "tests.test_conv_net(conv_net)"
   ]
  },
  {
   "cell_type": "markdown",
   "metadata": {
    "deletable": true,
    "editable": true
   },
   "source": [
    "## Train the Neural Network\n",
    "### Single Optimization\n",
    "Implement the function `train_neural_network` to do a single optimization.  The optimization should use `optimizer` to optimize in `session` with a `feed_dict` of the following:\n",
    "* `x` for image input\n",
    "* `y` for labels\n",
    "* `keep_prob` for keep probability for dropout\n",
    "\n",
    "This function will be called for each batch, so `tf.global_variables_initializer()` has already been called.\n",
    "\n",
    "Note: Nothing needs to be returned. This function is only optimizing the neural network."
   ]
  },
  {
   "cell_type": "code",
   "execution_count": 53,
   "metadata": {
    "collapsed": false,
    "deletable": true,
    "editable": true
   },
   "outputs": [
    {
     "name": "stdout",
     "output_type": "stream",
     "text": [
      "Tests Passed\n"
     ]
    }
   ],
   "source": [
    "def train_neural_network(session, optimizer, keep_probability, feature_batch, label_batch):\n",
    "    \"\"\"\n",
    "    Optimize the session on a batch of images and labels\n",
    "    : session: Current TensorFlow session\n",
    "    : optimizer: TensorFlow optimizer function\n",
    "    : keep_probability: keep probability\n",
    "    : feature_batch: Batch of Numpy image data\n",
    "    : label_batch: Batch of Numpy label data\n",
    "    \"\"\"\n",
    "    #   Implement Function\n",
    "    session.run(optimizer, feed_dict={x: feature_batch, y: label_batch, keep_prob: keep_probability})\n",
    "\n",
    "\n",
    "\"\"\"\n",
    "   \n",
    "\"\"\"\n",
    "tests.test_train_nn(train_neural_network)"
   ]
  },
  {
   "cell_type": "markdown",
   "metadata": {
    "deletable": true,
    "editable": true
   },
   "source": [
    "### Show Stats\n",
    "Implement the function `print_stats` to print loss and validation accuracy.  Use the global variables `valid_features` and `valid_labels` to calculate validation accuracy.  Use a keep probability of `1.0` to calculate the loss and validation accuracy."
   ]
  },
  {
   "cell_type": "code",
   "execution_count": 54,
   "metadata": {
    "collapsed": false,
    "deletable": true,
    "editable": true
   },
   "outputs": [],
   "source": [
    "def print_stats(session, feature_batch, label_batch, cost, accuracy):\n",
    "    \"\"\"\n",
    "    Print information about loss and validation accuracy\n",
    "    : session: Current TensorFlow session\n",
    "    : feature_batch: Batch of Numpy image data\n",
    "    : label_batch: Batch of Numpy label data\n",
    "    : cost: TensorFlow cost function\n",
    "    : accuracy: TensorFlow accuracy function\n",
    "    \"\"\"\n",
    "    #   Implement Function\n",
    "    #   Implement Function\n",
    "    loss = session.run(cost, feed_dict = \n",
    "                   {x: feature_batch,y: label_batch, keep_prob: 1.0})\n",
    "    acc = session.run(accuracy,feed_dict = \n",
    "                  {x: valid_features, y: valid_labels, keep_prob: 1.0})\n",
    "    print('Loss at {}'.format(loss), 'Validation Accuracy at {}'.format(acc))"
   ]
  },
  {
   "cell_type": "markdown",
   "metadata": {
    "deletable": true,
    "editable": true
   },
   "source": [
    "### Hyperparameters\n",
    "Tune the following parameters:\n",
    "* Set `epochs` to the number of iterations until the network stops learning or start overfitting\n",
    "* Set `batch_size` to the highest number that our machine has memory for.  Most people set them to common sizes of memory:\n",
    " * 64\n",
    " * 128\n",
    " * 256\n",
    " * ...\n",
    "* Set `keep_probability` to the probability of keeping a node using dropout"
   ]
  },
  {
   "cell_type": "code",
   "execution_count": 65,
   "metadata": {
    "collapsed": true,
    "deletable": true,
    "editable": true
   },
   "outputs": [],
   "source": [
    "#   Tune Parameters\n",
    "epochs = 20\n",
    "batch_size = 256\n",
    "keep_probability = 0.8"
   ]
  },
  {
   "cell_type": "markdown",
   "metadata": {
    "deletable": true,
    "editable": true
   },
   "source": [
    "### Train on a Single CIFAR-10 Batch\n",
    "Instead of training the neural network on all the CIFAR-10 batches of data, let's use a single batch. This should save time while we iterate on the model to get a better accuracy.  Once the final validation accuracy is 50% or greater, run the model on all the data in the next section."
   ]
  },
  {
   "cell_type": "code",
   "execution_count": 66,
   "metadata": {
    "collapsed": false,
    "deletable": true,
    "editable": true
   },
   "outputs": [
    {
     "name": "stdout",
     "output_type": "stream",
     "text": [
      "Checking the Training on a Single Batch...\n",
      "Epoch  1, CIFAR-10 Batch 1:  Loss at 2.1033639907836914 Validation Accuracy at 0.28999996185302734\n",
      "Epoch  2, CIFAR-10 Batch 1:  Loss at 2.005570411682129 Validation Accuracy at 0.35439997911453247\n",
      "Epoch  3, CIFAR-10 Batch 1:  Loss at 1.9147034883499146 Validation Accuracy at 0.3967999815940857\n",
      "Epoch  4, CIFAR-10 Batch 1:  Loss at 1.7769958972930908 Validation Accuracy at 0.40620002150535583\n",
      "Epoch  5, CIFAR-10 Batch 1:  Loss at 1.6563727855682373 Validation Accuracy at 0.4373999834060669\n",
      "Epoch  6, CIFAR-10 Batch 1:  Loss at 1.5324077606201172 Validation Accuracy at 0.4437999725341797\n",
      "Epoch  7, CIFAR-10 Batch 1:  Loss at 1.4673383235931396 Validation Accuracy at 0.4702000021934509\n",
      "Epoch  8, CIFAR-10 Batch 1:  Loss at 1.3504724502563477 Validation Accuracy at 0.49139997363090515\n",
      "Epoch  9, CIFAR-10 Batch 1:  Loss at 1.2329959869384766 Validation Accuracy at 0.4899999499320984\n",
      "Epoch 10, CIFAR-10 Batch 1:  Loss at 1.1629475355148315 Validation Accuracy at 0.4901999831199646\n",
      "Epoch 11, CIFAR-10 Batch 1:  Loss at 1.0931401252746582 Validation Accuracy at 0.5073999762535095\n",
      "Epoch 12, CIFAR-10 Batch 1:  Loss at 1.0082066059112549 Validation Accuracy at 0.5177999138832092\n",
      "Epoch 13, CIFAR-10 Batch 1:  Loss at 0.9627224206924438 Validation Accuracy at 0.5277999639511108\n",
      "Epoch 14, CIFAR-10 Batch 1:  Loss at 0.8712397813796997 Validation Accuracy at 0.5349999666213989\n",
      "Epoch 15, CIFAR-10 Batch 1:  Loss at 0.8423967361450195 Validation Accuracy at 0.5467999577522278\n",
      "Epoch 16, CIFAR-10 Batch 1:  Loss at 0.7938018441200256 Validation Accuracy at 0.5375999212265015\n",
      "Epoch 17, CIFAR-10 Batch 1:  Loss at 0.7556960582733154 Validation Accuracy at 0.5361999273300171\n",
      "Epoch 18, CIFAR-10 Batch 1:  Loss at 0.6740242838859558 Validation Accuracy at 0.5349999666213989\n",
      "Epoch 19, CIFAR-10 Batch 1:  Loss at 0.6620830297470093 Validation Accuracy at 0.5525999069213867\n",
      "Epoch 20, CIFAR-10 Batch 1:  Loss at 0.6532386541366577 Validation Accuracy at 0.5465999245643616\n"
     ]
    }
   ],
   "source": [
    "\"\"\"\n",
    " \n",
    "\"\"\"\n",
    "print('Checking the Training on a Single Batch...')\n",
    "with tf.Session() as sess:\n",
    "    # Initializing the variables\n",
    "    sess.run(tf.global_variables_initializer())\n",
    "    \n",
    "    # Training cycle\n",
    "    for epoch in range(epochs):\n",
    "        batch_i = 1\n",
    "        for batch_features, batch_labels in helper.load_preprocess_training_batch(batch_i, batch_size):\n",
    "            train_neural_network(sess, optimizer, keep_probability, batch_features, batch_labels)\n",
    "        print('Epoch {:>2}, CIFAR-10 Batch {}:  '.format(epoch + 1, batch_i), end='')\n",
    "        print_stats(sess, batch_features, batch_labels, cost, accuracy)"
   ]
  },
  {
   "cell_type": "markdown",
   "metadata": {
    "deletable": true,
    "editable": true
   },
   "source": [
    "### Fully Train the Model\n",
    "Now that we got a good accuracy with a single CIFAR-10 batch, try it with all five batches."
   ]
  },
  {
   "cell_type": "code",
   "execution_count": 67,
   "metadata": {
    "collapsed": false,
    "deletable": true,
    "editable": true
   },
   "outputs": [
    {
     "name": "stdout",
     "output_type": "stream",
     "text": [
      "Training...\n",
      "Epoch  1, CIFAR-10 Batch 1:  Loss at 2.188119411468506 Validation Accuracy at 0.25919997692108154\n",
      "Epoch  1, CIFAR-10 Batch 2:  Loss at 1.8793776035308838 Validation Accuracy at 0.33399999141693115\n",
      "Epoch  1, CIFAR-10 Batch 3:  Loss at 1.7097601890563965 Validation Accuracy at 0.3467999994754791\n",
      "Epoch  1, CIFAR-10 Batch 4:  Loss at 1.6843719482421875 Validation Accuracy at 0.41599997878074646\n",
      "Epoch  1, CIFAR-10 Batch 5:  Loss at 1.661574363708496 Validation Accuracy at 0.42020002007484436\n",
      "Epoch  2, CIFAR-10 Batch 1:  Loss at 1.7248891592025757 Validation Accuracy at 0.45899996161460876\n",
      "Epoch  2, CIFAR-10 Batch 2:  Loss at 1.4933520555496216 Validation Accuracy at 0.4591999650001526\n",
      "Epoch  2, CIFAR-10 Batch 3:  Loss at 1.2460179328918457 Validation Accuracy at 0.4771999418735504\n",
      "Epoch  2, CIFAR-10 Batch 4:  Loss at 1.3764021396636963 Validation Accuracy at 0.48639994859695435\n",
      "Epoch  2, CIFAR-10 Batch 5:  Loss at 1.3498351573944092 Validation Accuracy at 0.5073999762535095\n",
      "Epoch  3, CIFAR-10 Batch 1:  Loss at 1.4923182725906372 Validation Accuracy at 0.504599928855896\n",
      "Epoch  3, CIFAR-10 Batch 2:  Loss at 1.2498923540115356 Validation Accuracy at 0.5237999558448792\n",
      "Epoch  3, CIFAR-10 Batch 3:  Loss at 1.0771901607513428 Validation Accuracy at 0.535599946975708\n",
      "Epoch  3, CIFAR-10 Batch 4:  Loss at 1.1397522687911987 Validation Accuracy at 0.5417999625205994\n",
      "Epoch  3, CIFAR-10 Batch 5:  Loss at 1.211288332939148 Validation Accuracy at 0.5329999327659607\n",
      "Epoch  4, CIFAR-10 Batch 1:  Loss at 1.3228422403335571 Validation Accuracy at 0.5585999488830566\n",
      "Epoch  4, CIFAR-10 Batch 2:  Loss at 1.0882205963134766 Validation Accuracy at 0.5567998886108398\n",
      "Epoch  4, CIFAR-10 Batch 3:  Loss at 0.9574631452560425 Validation Accuracy at 0.5535998940467834\n",
      "Epoch  4, CIFAR-10 Batch 4:  Loss at 1.0720889568328857 Validation Accuracy at 0.5779999494552612\n",
      "Epoch  4, CIFAR-10 Batch 5:  Loss at 1.0023797750473022 Validation Accuracy at 0.569399893283844\n",
      "Epoch  5, CIFAR-10 Batch 1:  Loss at 1.1287039518356323 Validation Accuracy at 0.5859998464584351\n",
      "Epoch  5, CIFAR-10 Batch 2:  Loss at 0.8884263634681702 Validation Accuracy at 0.5749999284744263\n",
      "Epoch  5, CIFAR-10 Batch 3:  Loss at 0.8175469636917114 Validation Accuracy at 0.5829999446868896\n",
      "Epoch  5, CIFAR-10 Batch 4:  Loss at 0.9226109981536865 Validation Accuracy at 0.598599910736084\n",
      "Epoch  5, CIFAR-10 Batch 5:  Loss at 0.9035374522209167 Validation Accuracy at 0.5859999060630798\n",
      "Epoch  6, CIFAR-10 Batch 1:  Loss at 1.0107336044311523 Validation Accuracy at 0.5989999175071716\n",
      "Epoch  6, CIFAR-10 Batch 2:  Loss at 0.7783196568489075 Validation Accuracy at 0.6069998741149902\n",
      "Epoch  6, CIFAR-10 Batch 3:  Loss at 0.6944501996040344 Validation Accuracy at 0.6137999296188354\n",
      "Epoch  6, CIFAR-10 Batch 4:  Loss at 0.8501496315002441 Validation Accuracy at 0.6143999099731445\n",
      "Epoch  6, CIFAR-10 Batch 5:  Loss at 0.7554001808166504 Validation Accuracy at 0.6169999241828918\n",
      "Epoch  7, CIFAR-10 Batch 1:  Loss at 0.8477640151977539 Validation Accuracy at 0.6111999154090881\n",
      "Epoch  7, CIFAR-10 Batch 2:  Loss at 0.6639209389686584 Validation Accuracy at 0.6317999362945557\n",
      "Epoch  7, CIFAR-10 Batch 3:  Loss at 0.6425200700759888 Validation Accuracy at 0.6343998908996582\n",
      "Epoch  7, CIFAR-10 Batch 4:  Loss at 0.6991357803344727 Validation Accuracy at 0.6431999206542969\n",
      "Epoch  7, CIFAR-10 Batch 5:  Loss at 0.5959728360176086 Validation Accuracy at 0.6345999240875244\n",
      "Epoch  8, CIFAR-10 Batch 1:  Loss at 0.8907127380371094 Validation Accuracy at 0.5967998504638672\n",
      "Epoch  8, CIFAR-10 Batch 2:  Loss at 0.5732306241989136 Validation Accuracy at 0.6447999477386475\n",
      "Epoch  8, CIFAR-10 Batch 3:  Loss at 0.537082314491272 Validation Accuracy at 0.6537998914718628\n",
      "Epoch  8, CIFAR-10 Batch 4:  Loss at 0.6711315512657166 Validation Accuracy at 0.6465998888015747\n",
      "Epoch  8, CIFAR-10 Batch 5:  Loss at 0.5100092887878418 Validation Accuracy at 0.6479998826980591\n",
      "Epoch  9, CIFAR-10 Batch 1:  Loss at 0.6709681749343872 Validation Accuracy at 0.6357998847961426\n",
      "Epoch  9, CIFAR-10 Batch 2:  Loss at 0.49931594729423523 Validation Accuracy at 0.6529998779296875\n",
      "Epoch  9, CIFAR-10 Batch 3:  Loss at 0.5145753622055054 Validation Accuracy at 0.6589999198913574\n",
      "Epoch  9, CIFAR-10 Batch 4:  Loss at 0.5584331154823303 Validation Accuracy at 0.6659998893737793\n",
      "Epoch  9, CIFAR-10 Batch 5:  Loss at 0.46850115060806274 Validation Accuracy at 0.6461998820304871\n",
      "Epoch 10, CIFAR-10 Batch 1:  Loss at 0.5495905876159668 Validation Accuracy at 0.6403998732566833\n",
      "Epoch 10, CIFAR-10 Batch 2:  Loss at 0.45386937260627747 Validation Accuracy at 0.6617999076843262\n",
      "Epoch 10, CIFAR-10 Batch 3:  Loss at 0.4626029431819916 Validation Accuracy at 0.6697998642921448\n",
      "Epoch 10, CIFAR-10 Batch 4:  Loss at 0.4858529567718506 Validation Accuracy at 0.6729998588562012\n",
      "Epoch 10, CIFAR-10 Batch 5:  Loss at 0.3819373548030853 Validation Accuracy at 0.6671999096870422\n",
      "Epoch 11, CIFAR-10 Batch 1:  Loss at 0.4937891662120819 Validation Accuracy at 0.6535999178886414\n",
      "Epoch 11, CIFAR-10 Batch 2:  Loss at 0.38650578260421753 Validation Accuracy at 0.6729998588562012\n",
      "Epoch 11, CIFAR-10 Batch 3:  Loss at 0.3955192565917969 Validation Accuracy at 0.6735998392105103\n",
      "Epoch 11, CIFAR-10 Batch 4:  Loss at 0.48088258504867554 Validation Accuracy at 0.6725999116897583\n",
      "Epoch 11, CIFAR-10 Batch 5:  Loss at 0.3343900144100189 Validation Accuracy at 0.6651999354362488\n",
      "Epoch 12, CIFAR-10 Batch 1:  Loss at 0.43115654587745667 Validation Accuracy at 0.6545999050140381\n",
      "Epoch 12, CIFAR-10 Batch 2:  Loss at 0.30339309573173523 Validation Accuracy at 0.6815999150276184\n",
      "Epoch 12, CIFAR-10 Batch 3:  Loss at 0.3187638521194458 Validation Accuracy at 0.6905998587608337\n",
      "Epoch 12, CIFAR-10 Batch 4:  Loss at 0.3832172751426697 Validation Accuracy at 0.6821998953819275\n",
      "Epoch 12, CIFAR-10 Batch 5:  Loss at 0.28689780831336975 Validation Accuracy at 0.6807999014854431\n",
      "Epoch 13, CIFAR-10 Batch 1:  Loss at 0.39279940724372864 Validation Accuracy at 0.6655999422073364\n",
      "Epoch 13, CIFAR-10 Batch 2:  Loss at 0.28031620383262634 Validation Accuracy at 0.6989998817443848\n",
      "Epoch 13, CIFAR-10 Batch 3:  Loss at 0.21395646035671234 Validation Accuracy at 0.6947999000549316\n",
      "Epoch 13, CIFAR-10 Batch 4:  Loss at 0.36187154054641724 Validation Accuracy at 0.6887998580932617\n",
      "Epoch 13, CIFAR-10 Batch 5:  Loss at 0.2724887728691101 Validation Accuracy at 0.6813998818397522\n",
      "Epoch 14, CIFAR-10 Batch 1:  Loss at 0.3161136209964752 Validation Accuracy at 0.665199875831604\n",
      "Epoch 14, CIFAR-10 Batch 2:  Loss at 0.2819982171058655 Validation Accuracy at 0.6941999197006226\n",
      "Epoch 14, CIFAR-10 Batch 3:  Loss at 0.2239917814731598 Validation Accuracy at 0.6995998620986938\n",
      "Epoch 14, CIFAR-10 Batch 4:  Loss at 0.30525386333465576 Validation Accuracy at 0.6975998878479004\n",
      "Epoch 14, CIFAR-10 Batch 5:  Loss at 0.20863181352615356 Validation Accuracy at 0.6997998952865601\n",
      "Epoch 15, CIFAR-10 Batch 1:  Loss at 0.28540927171707153 Validation Accuracy at 0.6725998520851135\n",
      "Epoch 15, CIFAR-10 Batch 2:  Loss at 0.24854448437690735 Validation Accuracy at 0.6893998980522156\n",
      "Epoch 15, CIFAR-10 Batch 3:  Loss at 0.1933087408542633 Validation Accuracy at 0.6893998980522156\n",
      "Epoch 15, CIFAR-10 Batch 4:  Loss at 0.23767438530921936 Validation Accuracy at 0.7097997665405273\n",
      "Epoch 15, CIFAR-10 Batch 5:  Loss at 0.193805530667305 Validation Accuracy at 0.7095998525619507\n",
      "Epoch 16, CIFAR-10 Batch 1:  Loss at 0.2657065689563751 Validation Accuracy at 0.6783998012542725\n",
      "Epoch 16, CIFAR-10 Batch 2:  Loss at 0.19351589679718018 Validation Accuracy at 0.6973998546600342\n",
      "Epoch 16, CIFAR-10 Batch 3:  Loss at 0.2065780758857727 Validation Accuracy at 0.6779998540878296\n",
      "Epoch 16, CIFAR-10 Batch 4:  Loss at 0.26230716705322266 Validation Accuracy at 0.7063999176025391\n",
      "Epoch 16, CIFAR-10 Batch 5:  Loss at 0.21564894914627075 Validation Accuracy at 0.6919999122619629\n",
      "Epoch 17, CIFAR-10 Batch 1:  Loss at 0.2312881350517273 Validation Accuracy at 0.7007998824119568\n",
      "Epoch 17, CIFAR-10 Batch 2:  Loss at 0.20441624522209167 Validation Accuracy at 0.7013998627662659\n",
      "Epoch 17, CIFAR-10 Batch 3:  Loss at 0.16543370485305786 Validation Accuracy at 0.6949998736381531\n",
      "Epoch 17, CIFAR-10 Batch 4:  Loss at 0.2579892575740814 Validation Accuracy at 0.6965998411178589\n",
      "Epoch 17, CIFAR-10 Batch 5:  Loss at 0.17707288265228271 Validation Accuracy at 0.7023998498916626\n",
      "Epoch 18, CIFAR-10 Batch 1:  Loss at 0.17593859136104584 Validation Accuracy at 0.7011998891830444\n",
      "Epoch 18, CIFAR-10 Batch 2:  Loss at 0.1548890620470047 Validation Accuracy at 0.7105998992919922\n",
      "Epoch 18, CIFAR-10 Batch 3:  Loss at 0.1451931595802307 Validation Accuracy at 0.6993999481201172\n",
      "Epoch 18, CIFAR-10 Batch 4:  Loss at 0.22176483273506165 Validation Accuracy at 0.7069998383522034\n",
      "Epoch 18, CIFAR-10 Batch 5:  Loss at 0.1696397215127945 Validation Accuracy at 0.6995998620986938\n",
      "Epoch 19, CIFAR-10 Batch 1:  Loss at 0.1657913476228714 Validation Accuracy at 0.6947998404502869\n",
      "Epoch 19, CIFAR-10 Batch 2:  Loss at 0.1698211282491684 Validation Accuracy at 0.7001998424530029\n",
      "Epoch 19, CIFAR-10 Batch 3:  Loss at 0.12388564646244049 Validation Accuracy at 0.7135998010635376\n",
      "Epoch 19, CIFAR-10 Batch 4:  Loss at 0.20359086990356445 Validation Accuracy at 0.710399866104126\n",
      "Epoch 19, CIFAR-10 Batch 5:  Loss at 0.14677870273590088 Validation Accuracy at 0.7033998370170593\n",
      "Epoch 20, CIFAR-10 Batch 1:  Loss at 0.17013093829154968 Validation Accuracy at 0.7155998945236206\n",
      "Epoch 20, CIFAR-10 Batch 2:  Loss at 0.16227293014526367 Validation Accuracy at 0.6953998804092407\n",
      "Epoch 20, CIFAR-10 Batch 3:  Loss at 0.11324580013751984 Validation Accuracy at 0.7125998735427856\n",
      "Epoch 20, CIFAR-10 Batch 4:  Loss at 0.20635254681110382 Validation Accuracy at 0.7085999250411987\n",
      "Epoch 20, CIFAR-10 Batch 5:  Loss at 0.1327109932899475 Validation Accuracy at 0.7117998600006104\n"
     ]
    }
   ],
   "source": [
    "\"\"\"\n",
    " \n",
    "\"\"\"\n",
    "save_model_path = './image_classification'\n",
    "\n",
    "print('Training...')\n",
    "with tf.Session() as sess:\n",
    "    # Initializing the variables\n",
    "    sess.run(tf.global_variables_initializer())\n",
    "    \n",
    "    # Training cycle\n",
    "    for epoch in range(epochs):\n",
    "        # Loop over all batches\n",
    "        n_batches = 5\n",
    "        for batch_i in range(1, n_batches + 1):\n",
    "            for batch_features, batch_labels in helper.load_preprocess_training_batch(batch_i, batch_size):\n",
    "                train_neural_network(sess, optimizer, keep_probability, batch_features, batch_labels)\n",
    "            print('Epoch {:>2}, CIFAR-10 Batch {}:  '.format(epoch + 1, batch_i), end='')\n",
    "            print_stats(sess, batch_features, batch_labels, cost, accuracy)\n",
    "            \n",
    "    # Save Model\n",
    "    saver = tf.train.Saver()\n",
    "    save_path = saver.save(sess, save_model_path)"
   ]
  },
  {
   "cell_type": "markdown",
   "metadata": {
    "deletable": true,
    "editable": true
   },
   "source": [
    "# Checkpoint\n",
    "The model has been saved to disk.\n",
    "## Test Model\n",
    "Test our model against the test dataset.  This will be our final accuracy. we should have an accuracy greater than 50%. If we don't, keep tweaking the model architecture and parameters."
   ]
  },
  {
   "cell_type": "code",
   "execution_count": 68,
   "metadata": {
    "collapsed": false,
    "deletable": true,
    "editable": true
   },
   "outputs": [
    {
     "name": "stdout",
     "output_type": "stream",
     "text": [
      "Testing Accuracy: 0.71142578125\n",
      "\n"
     ]
    },
    {
     "data": {
      "image/png": "[encoded data removed]",
      "text/plain": [
       "<matplotlib.figure.Figure at 0x7f0e610c71d0>"
      ]
     },
     "metadata": {
      "image/png": {
       "height": 319,
       "width": 355
      }
     },
     "output_type": "display_data"
    }
   ],
   "source": [
    "\"\"\"\n",
    " \n",
    "\"\"\"\n",
    "%matplotlib inline\n",
    "%config InlineBackend.figure_format = 'retina'\n",
    "\n",
    "import tensorflow as tf\n",
    "import pickle\n",
    "import helper\n",
    "import random\n",
    "\n",
    "# Set batch size if not already set\n",
    "try:\n",
    "    if batch_size:\n",
    "        pass\n",
    "except NameError:\n",
    "    batch_size = 64\n",
    "\n",
    "save_model_path = './image_classification'\n",
    "n_samples = 4\n",
    "top_n_predictions = 3\n",
    "\n",
    "def test_model():\n",
    "    \"\"\"\n",
    "    Test the saved model against the test dataset\n",
    "    \"\"\"\n",
    "\n",
    "    test_features, test_labels = pickle.load(open('preprocess_training.p', mode='rb'))\n",
    "    loaded_graph = tf.Graph()\n",
    "\n",
    "    with tf.Session(graph=loaded_graph) as sess:\n",
    "        # Load model\n",
    "        loader = tf.train.import_meta_graph(save_model_path + '.meta')\n",
    "        loader.restore(sess, save_model_path)\n",
    "\n",
    "        # Get Tensors from loaded model\n",
    "        loaded_x = loaded_graph.get_tensor_by_name('x:0')\n",
    "        loaded_y = loaded_graph.get_tensor_by_name('y:0')\n",
    "        loaded_keep_prob = loaded_graph.get_tensor_by_name('keep_prob:0')\n",
    "        loaded_logits = loaded_graph.get_tensor_by_name('logits:0')\n",
    "        loaded_acc = loaded_graph.get_tensor_by_name('accuracy:0')\n",
    "        \n",
    "        # Get accuracy in batches for memory limitations\n",
    "        test_batch_acc_total = 0\n",
    "        test_batch_count = 0\n",
    "        \n",
    "        for train_feature_batch, train_label_batch in helper.batch_features_labels(test_features, test_labels, batch_size):\n",
    "            test_batch_acc_total += sess.run(\n",
    "                loaded_acc,\n",
    "                feed_dict={loaded_x: train_feature_batch, loaded_y: train_label_batch, loaded_keep_prob: 1.0})\n",
    "            test_batch_count += 1\n",
    "\n",
    "        print('Testing Accuracy: {}\\n'.format(test_batch_acc_total/test_batch_count))\n",
    "\n",
    "        # Print Random Samples\n",
    "        random_test_features, random_test_labels = tuple(zip(*random.sample(list(zip(test_features, test_labels)), n_samples)))\n",
    "        random_test_predictions = sess.run(\n",
    "            tf.nn.top_k(tf.nn.softmax(loaded_logits), top_n_predictions),\n",
    "            feed_dict={loaded_x: random_test_features, loaded_y: random_test_labels, loaded_keep_prob: 1.0})\n",
    "        helper.display_image_predictions(random_test_features, random_test_labels, random_test_predictions)\n",
    "\n",
    "\n",
    "test_model()"
   ]
  }
 ],
 "metadata": {
  "kernelspec": {
   "display_name": "Python [default]",
   "language": "python",
   "name": "python3"
  },
  "language_info": {
   "codemirror_mode": {
    "name": "ipython",
    "version": 3
   },
   "file_extension": ".py",
   "mimetype": "text/x-python",
   "name": "python",
   "nbconvert_exporter": "python",
   "pygments_lexer": "ipython3",
   "version": "3.5.2"
  }
 },
 "nbformat": 4,
 "nbformat_minor": 0
}
