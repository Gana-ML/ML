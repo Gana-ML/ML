{
 "cells": [
  {
   "cell_type": "markdown",
   "metadata": {
    "collapsed": true
   },
   "source": [
    "# Capstone Project\n",
    "## Credit Card Fraud Detection\n"
   ]
  },
  {
   "cell_type": "markdown",
   "metadata": {},
   "source": [
    "### Data Loading & Pre processing"
   ]
  },
  {
   "cell_type": "code",
   "execution_count": 24,
   "metadata": {
    "collapsed": false
   },
   "outputs": [],
   "source": [
    "import warnings\n",
    "with warnings.catch_warnings():\n",
    "    warnings.simplefilter(\"ignore\")\n",
    "\n",
    "import pandas as pd\n",
    "import matplotlib.pyplot as plt\n",
    "import numpy as np\n",
    "from sklearn.preprocessing import StandardScaler\n",
    "from sklearn.model_selection  import train_test_split,KFold, cross_val_score,GridSearchCV\n",
    "from sklearn.linear_model import LogisticRegression\n",
    "from sklearn.metrics import confusion_matrix,precision_recall_curve,auc,roc_auc_score,roc_curve,\\\n",
    "recall_score,classification_report,accuracy_score,precision_score,f1_score,make_scorer,average_precision_score\n",
    "from imblearn.over_sampling import SMOTE\n",
    "from time import time\n",
    "from sklearn.ensemble import RandomForestClassifier,AdaBoostClassifier\n",
    "from xgboost import XGBClassifier\n",
    "import seaborn as sns\n",
    "import disp_plot\n",
    "from matplotlib.colors import ListedColormap\n",
    "import imp\n",
    "%matplotlib inline"
   ]
  },
  {
   "cell_type": "code",
   "execution_count": 2,
   "metadata": {
    "collapsed": false
   },
   "outputs": [
    {
     "data": {
      "text/html": [
       "<div>\n",
       "<table border=\"1\" class=\"dataframe\">\n",
       "  <thead>\n",
       "    <tr style=\"text-align: right;\">\n",
       "      <th></th>\n",
       "      <th>Time</th>\n",
       "      <th>V1</th>\n",
       "      <th>V2</th>\n",
       "      <th>V3</th>\n",
       "      <th>V4</th>\n",
       "      <th>V5</th>\n",
       "      <th>V6</th>\n",
       "      <th>V7</th>\n",
       "      <th>V8</th>\n",
       "      <th>V9</th>\n",
       "      <th>...</th>\n",
       "      <th>V21</th>\n",
       "      <th>V22</th>\n",
       "      <th>V23</th>\n",
       "      <th>V24</th>\n",
       "      <th>V25</th>\n",
       "      <th>V26</th>\n",
       "      <th>V27</th>\n",
       "      <th>V28</th>\n",
       "      <th>Amount</th>\n",
       "      <th>Class</th>\n",
       "    </tr>\n",
       "  </thead>\n",
       "  <tbody>\n",
       "    <tr>\n",
       "      <th>0</th>\n",
       "      <td>0.0</td>\n",
       "      <td>-1.359807</td>\n",
       "      <td>-0.072781</td>\n",
       "      <td>2.536347</td>\n",
       "      <td>1.378155</td>\n",
       "      <td>-0.338321</td>\n",
       "      <td>0.462388</td>\n",
       "      <td>0.239599</td>\n",
       "      <td>0.098698</td>\n",
       "      <td>0.363787</td>\n",
       "      <td>...</td>\n",
       "      <td>-0.018307</td>\n",
       "      <td>0.277838</td>\n",
       "      <td>-0.110474</td>\n",
       "      <td>0.066928</td>\n",
       "      <td>0.128539</td>\n",
       "      <td>-0.189115</td>\n",
       "      <td>0.133558</td>\n",
       "      <td>-0.021053</td>\n",
       "      <td>149.62</td>\n",
       "      <td>0</td>\n",
       "    </tr>\n",
       "    <tr>\n",
       "      <th>1</th>\n",
       "      <td>0.0</td>\n",
       "      <td>1.191857</td>\n",
       "      <td>0.266151</td>\n",
       "      <td>0.166480</td>\n",
       "      <td>0.448154</td>\n",
       "      <td>0.060018</td>\n",
       "      <td>-0.082361</td>\n",
       "      <td>-0.078803</td>\n",
       "      <td>0.085102</td>\n",
       "      <td>-0.255425</td>\n",
       "      <td>...</td>\n",
       "      <td>-0.225775</td>\n",
       "      <td>-0.638672</td>\n",
       "      <td>0.101288</td>\n",
       "      <td>-0.339846</td>\n",
       "      <td>0.167170</td>\n",
       "      <td>0.125895</td>\n",
       "      <td>-0.008983</td>\n",
       "      <td>0.014724</td>\n",
       "      <td>2.69</td>\n",
       "      <td>0</td>\n",
       "    </tr>\n",
       "    <tr>\n",
       "      <th>2</th>\n",
       "      <td>1.0</td>\n",
       "      <td>-1.358354</td>\n",
       "      <td>-1.340163</td>\n",
       "      <td>1.773209</td>\n",
       "      <td>0.379780</td>\n",
       "      <td>-0.503198</td>\n",
       "      <td>1.800499</td>\n",
       "      <td>0.791461</td>\n",
       "      <td>0.247676</td>\n",
       "      <td>-1.514654</td>\n",
       "      <td>...</td>\n",
       "      <td>0.247998</td>\n",
       "      <td>0.771679</td>\n",
       "      <td>0.909412</td>\n",
       "      <td>-0.689281</td>\n",
       "      <td>-0.327642</td>\n",
       "      <td>-0.139097</td>\n",
       "      <td>-0.055353</td>\n",
       "      <td>-0.059752</td>\n",
       "      <td>378.66</td>\n",
       "      <td>0</td>\n",
       "    </tr>\n",
       "    <tr>\n",
       "      <th>3</th>\n",
       "      <td>1.0</td>\n",
       "      <td>-0.966272</td>\n",
       "      <td>-0.185226</td>\n",
       "      <td>1.792993</td>\n",
       "      <td>-0.863291</td>\n",
       "      <td>-0.010309</td>\n",
       "      <td>1.247203</td>\n",
       "      <td>0.237609</td>\n",
       "      <td>0.377436</td>\n",
       "      <td>-1.387024</td>\n",
       "      <td>...</td>\n",
       "      <td>-0.108300</td>\n",
       "      <td>0.005274</td>\n",
       "      <td>-0.190321</td>\n",
       "      <td>-1.175575</td>\n",
       "      <td>0.647376</td>\n",
       "      <td>-0.221929</td>\n",
       "      <td>0.062723</td>\n",
       "      <td>0.061458</td>\n",
       "      <td>123.50</td>\n",
       "      <td>0</td>\n",
       "    </tr>\n",
       "    <tr>\n",
       "      <th>4</th>\n",
       "      <td>2.0</td>\n",
       "      <td>-1.158233</td>\n",
       "      <td>0.877737</td>\n",
       "      <td>1.548718</td>\n",
       "      <td>0.403034</td>\n",
       "      <td>-0.407193</td>\n",
       "      <td>0.095921</td>\n",
       "      <td>0.592941</td>\n",
       "      <td>-0.270533</td>\n",
       "      <td>0.817739</td>\n",
       "      <td>...</td>\n",
       "      <td>-0.009431</td>\n",
       "      <td>0.798278</td>\n",
       "      <td>-0.137458</td>\n",
       "      <td>0.141267</td>\n",
       "      <td>-0.206010</td>\n",
       "      <td>0.502292</td>\n",
       "      <td>0.219422</td>\n",
       "      <td>0.215153</td>\n",
       "      <td>69.99</td>\n",
       "      <td>0</td>\n",
       "    </tr>\n",
       "  </tbody>\n",
       "</table>\n",
       "<p>5 rows × 31 columns</p>\n",
       "</div>"
      ],
      "text/plain": [
       "   Time        V1        V2        V3        V4        V5        V6        V7  \\\n",
       "0   0.0 -1.359807 -0.072781  2.536347  1.378155 -0.338321  0.462388  0.239599   \n",
       "1   0.0  1.191857  0.266151  0.166480  0.448154  0.060018 -0.082361 -0.078803   \n",
       "2   1.0 -1.358354 -1.340163  1.773209  0.379780 -0.503198  1.800499  0.791461   \n",
       "3   1.0 -0.966272 -0.185226  1.792993 -0.863291 -0.010309  1.247203  0.237609   \n",
       "4   2.0 -1.158233  0.877737  1.548718  0.403034 -0.407193  0.095921  0.592941   \n",
       "\n",
       "         V8        V9  ...         V21       V22       V23       V24  \\\n",
       "0  0.098698  0.363787  ...   -0.018307  0.277838 -0.110474  0.066928   \n",
       "1  0.085102 -0.255425  ...   -0.225775 -0.638672  0.101288 -0.339846   \n",
       "2  0.247676 -1.514654  ...    0.247998  0.771679  0.909412 -0.689281   \n",
       "3  0.377436 -1.387024  ...   -0.108300  0.005274 -0.190321 -1.175575   \n",
       "4 -0.270533  0.817739  ...   -0.009431  0.798278 -0.137458  0.141267   \n",
       "\n",
       "        V25       V26       V27       V28  Amount  Class  \n",
       "0  0.128539 -0.189115  0.133558 -0.021053  149.62      0  \n",
       "1  0.167170  0.125895 -0.008983  0.014724    2.69      0  \n",
       "2 -0.327642 -0.139097 -0.055353 -0.059752  378.66      0  \n",
       "3  0.647376 -0.221929  0.062723  0.061458  123.50      0  \n",
       "4 -0.206010  0.502292  0.219422  0.215153   69.99      0  \n",
       "\n",
       "[5 rows x 31 columns]"
      ]
     },
     "execution_count": 2,
     "metadata": {},
     "output_type": "execute_result"
    }
   ],
   "source": [
    "data = pd.read_csv(\"creditcard.csv\")\n",
    "data.head()"
   ]
  },
  {
   "cell_type": "code",
   "execution_count": 20,
   "metadata": {
    "collapsed": false
   },
   "outputs": [
    {
     "name": "stdout",
     "output_type": "stream",
     "text": [
      "Total number of records : 284807 \n",
      "Total number of normal transactions : 284315\n",
      "Total number of  fraudulent transactions : 492\n",
      "Percent of normal transactions is : 99.8273%,  fraudulent transactions is : 0.1727%\n"
     ]
    }
   ],
   "source": [
    "normal_trans_perc=sum(data['Class']==0)/(sum(data['Class']==0)+sum(data['Class']==1))\n",
    "fraud_trans_perc=1-normal_trans_perc\n",
    "print('Total number of records : {} '.format(len(data)))\n",
    "print('Total number of normal transactions : {}'.format(sum(data['Class']==0)))\n",
    "print('Total number of  fraudulent transactions : {}'.format(sum(data['Class']==1)))\n",
    "print('Percent of normal transactions is : {:.4f}%,  fraudulent transactions is : {:.4f}%'.format(normal_trans_perc*100,fraud_trans_perc*100))"
   ]
  },
  {
   "cell_type": "code",
   "execution_count": 118,
   "metadata": {
    "collapsed": false
   },
   "outputs": [
    {
     "data": {
      "text/plain": [
       "<matplotlib.text.Text at 0x1fd40cfdba8>"
      ]
     },
     "execution_count": 118,
     "metadata": {},
     "output_type": "execute_result"
    },
    {
     "data": {
      "image/png": "[encoded data removed]",
      "text/plain": [
       "<matplotlib.figure.Figure at 0x1fd3f5509b0>"
      ]
     },
     "metadata": {},
     "output_type": "display_data"
    }
   ],
   "source": [
    "plt.figure(figsize=(4, 4))\n",
    "cards_trans_count= pd.Series([normal_trans_perc*100,fraud_trans_perc*100],index=['Normal','Fraud'])\n",
    "cards_trans_count.plot(kind='bar', title='Card Transactions Split')\n",
    "plt.ylabel('Transaction %')"
   ]
  },
  {
   "cell_type": "markdown",
   "metadata": {},
   "source": [
    "### Normalizing "
   ]
  },
  {
   "cell_type": "code",
   "execution_count": 3,
   "metadata": {
    "collapsed": false
   },
   "outputs": [
    {
     "data": {
      "text/html": [
       "<div>\n",
       "<table border=\"1\" class=\"dataframe\">\n",
       "  <thead>\n",
       "    <tr style=\"text-align: right;\">\n",
       "      <th></th>\n",
       "      <th>V1</th>\n",
       "      <th>V2</th>\n",
       "      <th>V3</th>\n",
       "      <th>V4</th>\n",
       "      <th>V5</th>\n",
       "      <th>V6</th>\n",
       "      <th>V7</th>\n",
       "      <th>V8</th>\n",
       "      <th>V9</th>\n",
       "      <th>V10</th>\n",
       "      <th>...</th>\n",
       "      <th>V21</th>\n",
       "      <th>V22</th>\n",
       "      <th>V23</th>\n",
       "      <th>V24</th>\n",
       "      <th>V25</th>\n",
       "      <th>V26</th>\n",
       "      <th>V27</th>\n",
       "      <th>V28</th>\n",
       "      <th>Class</th>\n",
       "      <th>NormAmount</th>\n",
       "    </tr>\n",
       "  </thead>\n",
       "  <tbody>\n",
       "    <tr>\n",
       "      <th>0</th>\n",
       "      <td>-1.359807</td>\n",
       "      <td>-0.072781</td>\n",
       "      <td>2.536347</td>\n",
       "      <td>1.378155</td>\n",
       "      <td>-0.338321</td>\n",
       "      <td>0.462388</td>\n",
       "      <td>0.239599</td>\n",
       "      <td>0.098698</td>\n",
       "      <td>0.363787</td>\n",
       "      <td>0.090794</td>\n",
       "      <td>...</td>\n",
       "      <td>-0.018307</td>\n",
       "      <td>0.277838</td>\n",
       "      <td>-0.110474</td>\n",
       "      <td>0.066928</td>\n",
       "      <td>0.128539</td>\n",
       "      <td>-0.189115</td>\n",
       "      <td>0.133558</td>\n",
       "      <td>-0.021053</td>\n",
       "      <td>0</td>\n",
       "      <td>0.244964</td>\n",
       "    </tr>\n",
       "    <tr>\n",
       "      <th>1</th>\n",
       "      <td>1.191857</td>\n",
       "      <td>0.266151</td>\n",
       "      <td>0.166480</td>\n",
       "      <td>0.448154</td>\n",
       "      <td>0.060018</td>\n",
       "      <td>-0.082361</td>\n",
       "      <td>-0.078803</td>\n",
       "      <td>0.085102</td>\n",
       "      <td>-0.255425</td>\n",
       "      <td>-0.166974</td>\n",
       "      <td>...</td>\n",
       "      <td>-0.225775</td>\n",
       "      <td>-0.638672</td>\n",
       "      <td>0.101288</td>\n",
       "      <td>-0.339846</td>\n",
       "      <td>0.167170</td>\n",
       "      <td>0.125895</td>\n",
       "      <td>-0.008983</td>\n",
       "      <td>0.014724</td>\n",
       "      <td>0</td>\n",
       "      <td>-0.342475</td>\n",
       "    </tr>\n",
       "    <tr>\n",
       "      <th>2</th>\n",
       "      <td>-1.358354</td>\n",
       "      <td>-1.340163</td>\n",
       "      <td>1.773209</td>\n",
       "      <td>0.379780</td>\n",
       "      <td>-0.503198</td>\n",
       "      <td>1.800499</td>\n",
       "      <td>0.791461</td>\n",
       "      <td>0.247676</td>\n",
       "      <td>-1.514654</td>\n",
       "      <td>0.207643</td>\n",
       "      <td>...</td>\n",
       "      <td>0.247998</td>\n",
       "      <td>0.771679</td>\n",
       "      <td>0.909412</td>\n",
       "      <td>-0.689281</td>\n",
       "      <td>-0.327642</td>\n",
       "      <td>-0.139097</td>\n",
       "      <td>-0.055353</td>\n",
       "      <td>-0.059752</td>\n",
       "      <td>0</td>\n",
       "      <td>1.160686</td>\n",
       "    </tr>\n",
       "    <tr>\n",
       "      <th>3</th>\n",
       "      <td>-0.966272</td>\n",
       "      <td>-0.185226</td>\n",
       "      <td>1.792993</td>\n",
       "      <td>-0.863291</td>\n",
       "      <td>-0.010309</td>\n",
       "      <td>1.247203</td>\n",
       "      <td>0.237609</td>\n",
       "      <td>0.377436</td>\n",
       "      <td>-1.387024</td>\n",
       "      <td>-0.054952</td>\n",
       "      <td>...</td>\n",
       "      <td>-0.108300</td>\n",
       "      <td>0.005274</td>\n",
       "      <td>-0.190321</td>\n",
       "      <td>-1.175575</td>\n",
       "      <td>0.647376</td>\n",
       "      <td>-0.221929</td>\n",
       "      <td>0.062723</td>\n",
       "      <td>0.061458</td>\n",
       "      <td>0</td>\n",
       "      <td>0.140534</td>\n",
       "    </tr>\n",
       "    <tr>\n",
       "      <th>4</th>\n",
       "      <td>-1.158233</td>\n",
       "      <td>0.877737</td>\n",
       "      <td>1.548718</td>\n",
       "      <td>0.403034</td>\n",
       "      <td>-0.407193</td>\n",
       "      <td>0.095921</td>\n",
       "      <td>0.592941</td>\n",
       "      <td>-0.270533</td>\n",
       "      <td>0.817739</td>\n",
       "      <td>0.753074</td>\n",
       "      <td>...</td>\n",
       "      <td>-0.009431</td>\n",
       "      <td>0.798278</td>\n",
       "      <td>-0.137458</td>\n",
       "      <td>0.141267</td>\n",
       "      <td>-0.206010</td>\n",
       "      <td>0.502292</td>\n",
       "      <td>0.219422</td>\n",
       "      <td>0.215153</td>\n",
       "      <td>0</td>\n",
       "      <td>-0.073403</td>\n",
       "    </tr>\n",
       "  </tbody>\n",
       "</table>\n",
       "<p>5 rows × 30 columns</p>\n",
       "</div>"
      ],
      "text/plain": [
       "         V1        V2        V3        V4        V5        V6        V7  \\\n",
       "0 -1.359807 -0.072781  2.536347  1.378155 -0.338321  0.462388  0.239599   \n",
       "1  1.191857  0.266151  0.166480  0.448154  0.060018 -0.082361 -0.078803   \n",
       "2 -1.358354 -1.340163  1.773209  0.379780 -0.503198  1.800499  0.791461   \n",
       "3 -0.966272 -0.185226  1.792993 -0.863291 -0.010309  1.247203  0.237609   \n",
       "4 -1.158233  0.877737  1.548718  0.403034 -0.407193  0.095921  0.592941   \n",
       "\n",
       "         V8        V9       V10     ...           V21       V22       V23  \\\n",
       "0  0.098698  0.363787  0.090794     ...     -0.018307  0.277838 -0.110474   \n",
       "1  0.085102 -0.255425 -0.166974     ...     -0.225775 -0.638672  0.101288   \n",
       "2  0.247676 -1.514654  0.207643     ...      0.247998  0.771679  0.909412   \n",
       "3  0.377436 -1.387024 -0.054952     ...     -0.108300  0.005274 -0.190321   \n",
       "4 -0.270533  0.817739  0.753074     ...     -0.009431  0.798278 -0.137458   \n",
       "\n",
       "        V24       V25       V26       V27       V28  Class  NormAmount  \n",
       "0  0.066928  0.128539 -0.189115  0.133558 -0.021053      0    0.244964  \n",
       "1 -0.339846  0.167170  0.125895 -0.008983  0.014724      0   -0.342475  \n",
       "2 -0.689281 -0.327642 -0.139097 -0.055353 -0.059752      0    1.160686  \n",
       "3 -1.175575  0.647376 -0.221929  0.062723  0.061458      0    0.140534  \n",
       "4  0.141267 -0.206010  0.502292  0.219422  0.215153      0   -0.073403  \n",
       "\n",
       "[5 rows x 30 columns]"
      ]
     },
     "execution_count": 3,
     "metadata": {},
     "output_type": "execute_result"
    }
   ],
   "source": [
    "data['NormAmount'] = StandardScaler().fit_transform(data['Amount'].values.reshape(-1, 1))\n",
    "data = data.drop(['Time','Amount'],axis=1)\n",
    "data.head()"
   ]
  },
  {
   "cell_type": "code",
   "execution_count": 22,
   "metadata": {
    "collapsed": false
   },
   "outputs": [
    {
     "data": {
      "text/plain": [
       "<matplotlib.axes._subplots.AxesSubplot at 0x1fd3fabfa20>"
      ]
     },
     "execution_count": 22,
     "metadata": {},
     "output_type": "execute_result"
    },
    {
     "data": {
      "image/png": "[encoded data removed]",
      "text/plain": [
       "<matplotlib.figure.Figure at 0x1fd3fab4e48>"
      ]
     },
     "metadata": {},
     "output_type": "display_data"
    }
   ],
   "source": [
    "fig, ax = plt.subplots(figsize=(7,7))  \n",
    "sns.heatmap(data.corr(),annot_kws={\"size\":4})"
   ]
  },
  {
   "cell_type": "code",
   "execution_count": 4,
   "metadata": {
    "collapsed": true
   },
   "outputs": [],
   "source": [
    "X_raw = data.ix[:, data.columns != 'Class']\n",
    "y_raw = data.ix[:, data.columns == 'Class']"
   ]
  },
  {
   "cell_type": "code",
   "execution_count": 5,
   "metadata": {
    "collapsed": true
   },
   "outputs": [],
   "source": [
    "#Drop columns low correlaction score\n",
    "X=X_raw.drop(['V22','V23','V24','V25','V26','V27','V28'], axis = 1)\n",
    "y=y_raw"
   ]
  },
  {
   "cell_type": "markdown",
   "metadata": {},
   "source": [
    "### Split into train and test data"
   ]
  },
  {
   "cell_type": "code",
   "execution_count": 6,
   "metadata": {
    "collapsed": true
   },
   "outputs": [],
   "source": [
    "# Split into train and test dataset\n",
    "X_train, X_test, y_train, y_test = train_test_split(X,y,test_size = 0.3, random_state = 0)"
   ]
  },
  {
   "cell_type": "code",
   "execution_count": 26,
   "metadata": {
    "collapsed": false
   },
   "outputs": [
    {
     "name": "stdout",
     "output_type": "stream",
     "text": [
      "---------Training data statistics-----------\n",
      "Total number of records : 199364 \n",
      "Total number of normal transactions : 199019\n",
      "Total number of  fraudulent transactions : 345\n",
      "Percent of normal transactions is : 99.8269%,  fraudulent transactions is : 0.1731%\n"
     ]
    }
   ],
   "source": [
    "#Stats of training data \n",
    "print('---------Training data statistics-----------')\n",
    "normal_trans_perc=sum( y_train['Class']==0)/(sum( y_train['Class']==0)+sum( y_train['Class']==1))\n",
    "fraud_trans_perc=1-normal_trans_perc\n",
    "print('Total number of records : {} '.format(len(y_train)))\n",
    "print('Total number of normal transactions : {}'.format(sum(y_train['Class']==0)))\n",
    "print('Total number of  fraudulent transactions : {}'.format(sum(y_train['Class']==1)))\n",
    "print('Percent of normal transactions is : {:.4f}%,  fraudulent transactions is : {:.4f}%'.format(normal_trans_perc*100,fraud_trans_perc*100))"
   ]
  },
  {
   "cell_type": "code",
   "execution_count": 27,
   "metadata": {
    "collapsed": false
   },
   "outputs": [
    {
     "name": "stdout",
     "output_type": "stream",
     "text": [
      "---------Testing data statistics-----------\n",
      "Total number of records : 85443 \n",
      "Total number of normal transactions : 85296\n",
      "Total number of  fraudulent transactions : 147\n",
      "Percent of normal transactions is : 99.8280%,  fraudulent transactions is : 0.1720%\n"
     ]
    }
   ],
   "source": [
    "#Stats of testing data \n",
    "print('---------Testing data statistics-----------')\n",
    "normal_trans_perc=sum( y_test['Class']==0)/(sum( y_test['Class']==0)+sum( y_test['Class']==1))\n",
    "fraud_trans_perc=1-normal_trans_perc\n",
    "print('Total number of records : {} '.format(len(y_test)))\n",
    "print('Total number of normal transactions : {}'.format(sum(y_test['Class']==0)))\n",
    "print('Total number of  fraudulent transactions : {}'.format(sum(y_test['Class']==1)))\n",
    "print('Percent of normal transactions is : {:.4f}%,  fraudulent transactions is : {:.4f}%'.format(normal_trans_perc*100,fraud_trans_perc*100))"
   ]
  },
  {
   "cell_type": "markdown",
   "metadata": {},
   "source": [
    "### Resampling of data using SMOTE Technique "
   ]
  },
  {
   "cell_type": "code",
   "execution_count": 7,
   "metadata": {
    "collapsed": true
   },
   "outputs": [],
   "source": [
    "sm = SMOTE(ratio=.02,kind='borderline1',random_state=0)"
   ]
  },
  {
   "cell_type": "code",
   "execution_count": 8,
   "metadata": {
    "collapsed": true
   },
   "outputs": [],
   "source": [
    "X_resampled_train, y_resampled_train = sm.fit_sample(X_train, y_train.values.ravel())"
   ]
  },
  {
   "cell_type": "code",
   "execution_count": 9,
   "metadata": {
    "collapsed": false
   },
   "outputs": [],
   "source": [
    "## Convert to dataframe\n",
    "X_resampled_train=pd.DataFrame(X_resampled_train,columns=\n",
    "['V1', 'V2', 'V3', 'V4', 'V5', 'V6', 'V7', 'V8', 'V9', 'V10', 'V11', 'V12', 'V13', \n",
    " 'V14', 'V15', 'V16', 'V17', 'V18', 'V19', 'V20', 'V21', 'NormAmount'])\n",
    "y_resampled_train=pd.DataFrame(y_resampled_train,columns=['Class'])"
   ]
  },
  {
   "cell_type": "code",
   "execution_count": 31,
   "metadata": {
    "collapsed": false
   },
   "outputs": [
    {
     "name": "stdout",
     "output_type": "stream",
     "text": [
      "---------------Resampled data statistics---------------\n",
      "Total number of records : 202999 \n",
      "Total number of normal transactions : 199019\n",
      "Total number of  fraudulent transactions : 3980\n",
      "Percent of normal transactions is : 98.0394%,  fraudulent transactions is : 1.9606%\n"
     ]
    }
   ],
   "source": [
    "print('---------------Resampled data statistics---------------')\n",
    "normal_trans_perc=sum(y_resampled_train['Class']==0)/(sum(y_resampled_train['Class']==0)+sum(y_resampled_train['Class']==1))\n",
    "fraud_trans_perc=1-normal_trans_perc\n",
    "print('Total number of records : {} '.format(len(y_resampled_train)))\n",
    "print('Total number of normal transactions : {}'.format(sum(y_resampled_train['Class']==0)))\n",
    "print('Total number of  fraudulent transactions : {}'.format(sum(y_resampled_train['Class']==1)))\n",
    "print('Percent of normal transactions is : {:.4f}%,  fraudulent transactions is : {:.4f}%'.format(normal_trans_perc*100,fraud_trans_perc*100))"
   ]
  },
  {
   "cell_type": "code",
   "execution_count": 38,
   "metadata": {
    "collapsed": true
   },
   "outputs": [],
   "source": [
    "X_resampled_train.to_csv('x_train.csv')\n",
    "y_resampled_train.to_csv('y_train.csv')\n",
    "X_test.to_csv('x_test.csv')\n",
    "y_test.to_csv('y_test.csv')"
   ]
  },
  {
   "cell_type": "markdown",
   "metadata": {},
   "source": [
    "### Model Building & Initial Metrics ###"
   ]
  },
  {
   "cell_type": "code",
   "execution_count": 10,
   "metadata": {
    "collapsed": true
   },
   "outputs": [],
   "source": [
    "def train_predict(learner, X_train, y_train, X_test, y_test): \n",
    "    '''\n",
    "    inputs:\n",
    "       - learner: the learning algorithm to be trained and predicted on       \n",
    "       - X_train: features training set\n",
    "       - y_train: income training set\n",
    "       - X_test: features testing set\n",
    "       - y_test: income testing set\n",
    "    '''\n",
    "    \n",
    "    results = {}\n",
    "   \n",
    "    start = time() # Get start time\n",
    "    learner.fit(X_train, y_train)\n",
    "    end = time() # Get end time\n",
    "      \n",
    "    results['train_time'] = end - start\n",
    "        \n",
    "    start = time() # Get start time\n",
    "    predictions_test = learner.predict(X_test)\n",
    "    predictions_train = learner.predict(X_train)\n",
    "    \n",
    "    predictions_test_prob = learner.predict_proba(X_test)[:,1]\n",
    "    predictions_train_prob = learner.predict_proba(X_train)[:,1]\n",
    "    \n",
    "    \n",
    "    end = time() # Get end time\n",
    "        \n",
    "    results['pred_time'] =end - start\n",
    "            \n",
    "    \n",
    "    results['acc_train'] = accuracy_score(y_train, predictions_train)      \n",
    "    results['acc_test'] = accuracy_score(y_test, predictions_test)\n",
    "    \n",
    "    results['rec_train'] = recall_score(y_train, predictions_train)      \n",
    "    results['rec_test'] = recall_score(y_test, predictions_test)\n",
    "    \n",
    "    results['prec_train'] = precision_score(y_train, predictions_train)      \n",
    "    results['prec_test'] = precision_score(y_test, predictions_test)\n",
    "    \n",
    "    \n",
    "    results['f1_train'] = f1_score(y_train, predictions_train)\n",
    "    results['f1_test'] = f1_score(y_test, predictions_test)\n",
    "    \n",
    "    results['auc_train'] = average_precision_score(y_train, predictions_train_prob,average='weighted')\n",
    "    results['auc_test'] = average_precision_score(y_test, predictions_test_prob,average='weighted')\n",
    "    \n",
    "    \n",
    "       \n",
    "    # Success\n",
    "    print(\"{} trained in time {:.4f} \".format(learner.__class__.__name__,(end - start)))\n",
    "        \n",
    "    # Return the results\n",
    "    return results"
   ]
  },
  {
   "cell_type": "code",
   "execution_count": 108,
   "metadata": {
    "collapsed": false
   },
   "outputs": [
    {
     "name": "stdout",
     "output_type": "stream",
     "text": [
      "LogisticRegression trained in time 0.1491 \n",
      "AdaBoostClassifier trained in time 21.4644 \n",
      "RandomForestClassifier trained in time 2.7736 \n",
      "XGBClassifier trained in time 1.6752 \n"
     ]
    }
   ],
   "source": [
    "# Initialize and train the models\n",
    "clf_lr = LogisticRegression(random_state=0)\n",
    "clf_rf = RandomForestClassifier(random_state=0)\n",
    "clf_ab = AdaBoostClassifier(random_state=0)\n",
    "clf_xg = XGBClassifier()\n",
    "\n",
    "# Collect results on the learners\n",
    "results = {}\n",
    "for clf in [clf_lr, clf_ab,clf_rf,clf_xg]:\n",
    "    clf_name = clf.__class__.__name__\n",
    "    results[clf_name] = {}\n",
    "    results[clf_name] = train_predict(clf, X_resampled_train, y_resampled_train.values.ravel(), X_test, y_test.values.ravel())\n"
   ]
  },
  {
   "cell_type": "code",
   "execution_count": 109,
   "metadata": {
    "collapsed": true
   },
   "outputs": [],
   "source": [
    "lr_res=pd.DataFrame(results['LogisticRegression'],index=['LR'])\n",
    "ab_res=pd.DataFrame(results['AdaBoostClassifier'],index=['AB'])\n",
    "rf_res=pd.DataFrame(results['RandomForestClassifier'],index=['RF'])\n",
    "xg_res=pd.DataFrame(results['XGBClassifier'],index=['XG'])\n",
    "all_res= pd.concat([lr_res,rf_res,ab_res,xg_res])"
   ]
  },
  {
   "cell_type": "code",
   "execution_count": 110,
   "metadata": {
    "collapsed": false
   },
   "outputs": [
    {
     "data": {
      "text/html": [
       "<div>\n",
       "<table border=\"1\" class=\"dataframe\">\n",
       "  <thead>\n",
       "    <tr style=\"text-align: right;\">\n",
       "      <th></th>\n",
       "      <th>train_time</th>\n",
       "      <th>pred_time</th>\n",
       "      <th>acc_train</th>\n",
       "      <th>acc_test</th>\n",
       "      <th>rec_train</th>\n",
       "      <th>rec_test</th>\n",
       "      <th>prec_train</th>\n",
       "      <th>prec_test</th>\n",
       "      <th>f1_train</th>\n",
       "      <th>f1_test</th>\n",
       "      <th>auc_train</th>\n",
       "      <th>auc_test</th>\n",
       "    </tr>\n",
       "  </thead>\n",
       "  <tbody>\n",
       "    <tr>\n",
       "      <th>LR</th>\n",
       "      <td>11.220418</td>\n",
       "      <td>0.149099</td>\n",
       "      <td>0.996601</td>\n",
       "      <td>0.999064</td>\n",
       "      <td>0.868593</td>\n",
       "      <td>0.809524</td>\n",
       "      <td>0.953918</td>\n",
       "      <td>0.695906</td>\n",
       "      <td>0.909258</td>\n",
       "      <td>0.748428</td>\n",
       "      <td>0.946210</td>\n",
       "      <td>0.743391</td>\n",
       "    </tr>\n",
       "    <tr>\n",
       "      <th>RF</th>\n",
       "      <td>50.579490</td>\n",
       "      <td>2.773643</td>\n",
       "      <td>0.999926</td>\n",
       "      <td>0.999579</td>\n",
       "      <td>0.996482</td>\n",
       "      <td>0.809524</td>\n",
       "      <td>0.999748</td>\n",
       "      <td>0.937008</td>\n",
       "      <td>0.998112</td>\n",
       "      <td>0.868613</td>\n",
       "      <td>0.999997</td>\n",
       "      <td>0.836311</td>\n",
       "    </tr>\n",
       "    <tr>\n",
       "      <th>AB</th>\n",
       "      <td>194.903737</td>\n",
       "      <td>21.464434</td>\n",
       "      <td>0.997330</td>\n",
       "      <td>0.998783</td>\n",
       "      <td>0.913568</td>\n",
       "      <td>0.789116</td>\n",
       "      <td>0.948357</td>\n",
       "      <td>0.613757</td>\n",
       "      <td>0.930637</td>\n",
       "      <td>0.690476</td>\n",
       "      <td>0.978190</td>\n",
       "      <td>0.768222</td>\n",
       "    </tr>\n",
       "    <tr>\n",
       "      <th>XG</th>\n",
       "      <td>39.393790</td>\n",
       "      <td>1.675158</td>\n",
       "      <td>0.998675</td>\n",
       "      <td>0.999333</td>\n",
       "      <td>0.953266</td>\n",
       "      <td>0.829932</td>\n",
       "      <td>0.978592</td>\n",
       "      <td>0.792208</td>\n",
       "      <td>0.965763</td>\n",
       "      <td>0.810631</td>\n",
       "      <td>0.991087</td>\n",
       "      <td>0.806329</td>\n",
       "    </tr>\n",
       "  </tbody>\n",
       "</table>\n",
       "</div>"
      ],
      "text/plain": [
       "    train_time  pred_time  acc_train  acc_test  rec_train  rec_test  \\\n",
       "LR   11.220418   0.149099   0.996601  0.999064   0.868593  0.809524   \n",
       "RF   50.579490   2.773643   0.999926  0.999579   0.996482  0.809524   \n",
       "AB  194.903737  21.464434   0.997330  0.998783   0.913568  0.789116   \n",
       "XG   39.393790   1.675158   0.998675  0.999333   0.953266  0.829932   \n",
       "\n",
       "    prec_train  prec_test  f1_train   f1_test  auc_train  auc_test  \n",
       "LR    0.953918   0.695906  0.909258  0.748428   0.946210  0.743391  \n",
       "RF    0.999748   0.937008  0.998112  0.868613   0.999997  0.836311  \n",
       "AB    0.948357   0.613757  0.930637  0.690476   0.978190  0.768222  \n",
       "XG    0.978592   0.792208  0.965763  0.810631   0.991087  0.806329  "
      ]
     },
     "execution_count": 110,
     "metadata": {},
     "output_type": "execute_result"
    }
   ],
   "source": [
    "##Untuned Classifiers scores\n",
    "all_res[['train_time','pred_time','acc_train','acc_test','rec_train','rec_test',\\\n",
    "         'prec_train','prec_test','f1_train','f1_test','auc_train','auc_test']]"
   ]
  },
  {
   "cell_type": "code",
   "execution_count": 111,
   "metadata": {
    "collapsed": false
   },
   "outputs": [
    {
     "data": {
      "image/png": "[encoded data removed]",
      "text/plain": [
       "<matplotlib.figure.Figure at 0x1fd44207550>"
      ]
     },
     "metadata": {},
     "output_type": "display_data"
    }
   ],
   "source": [
    "imp.reload(disp_plot)\n",
    "disp_plot.evaluate(results)"
   ]
  },
  {
   "cell_type": "markdown",
   "metadata": {},
   "source": [
    "### XGBOOST Model Tuning "
   ]
  },
  {
   "cell_type": "code",
   "execution_count": 36,
   "metadata": {
    "collapsed": false
   },
   "outputs": [],
   "source": [
    "def XGB_class_tune(clf,param_set1):\n",
    "    start = time() # Get start time    \n",
    "    scorer = make_scorer(recall_score,average='weighted')\n",
    "    grid_obj = GridSearchCV(estimator=clf, param_grid=param_set1, scoring=scorer,cv=5)\n",
    "\n",
    "    grid_fit = grid_obj.fit(X_resampled_train, y_resampled_train.values.ravel())\n",
    "\n",
    "    # Get the estimator\n",
    "    best_clf = grid_fit.best_estimator_\n",
    "\n",
    "    # Make predictions using the unoptimized and model\n",
    "    predictions = (clf.fit(X_resampled_train, y_resampled_train.values.ravel())).predict(X_test)\n",
    "    predictions_prob = clf.predict_proba(X_test)[:,1]\n",
    "\n",
    "    best_predictions = best_clf.predict(X_test)\n",
    "    best_predictions_prob = best_clf.predict_proba(X_test)[:,1]\n",
    "\n",
    "\n",
    "    # Report the before-and-afterscores\n",
    "    print(\"Earlier model\\n------\")\n",
    "    print(\"Accuracy score on testing data: {:.4f}\".format(accuracy_score(y_test, predictions)))\n",
    "    print(\"F1-score on testing data: {:.4f}\".format(f1_score(y_test, predictions)))\n",
    "    print(\"recall on testing data: {:.4f}\".format(recall_score(y_test, predictions)))\n",
    "    print(\"precision on testing data: {:.4f}\".format(precision_score(y_test, predictions)))    \n",
    "    print(\"Precision recall auc on testing data: {:.4f}\".\\\n",
    "          format(average_precision_score(y_test, predictions_prob,average='weighted')))\n",
    "\n",
    "    print(\"\\nNew Model\\n------\")\n",
    "    print(\"accuracy score on the testing data: {:.4f}\".format(accuracy_score(y_test, best_predictions)))\n",
    "    print(\"F1-score on the testing data: {:.4f}\".format(f1_score(y_test, best_predictions)))\n",
    "    print(\"Recall score on the testing data: {:.4f}\".format(recall_score(y_test, best_predictions)))\n",
    "    print(\"precision on testing data: {:.4f}\".format(precision_score(y_test, best_predictions)))    \n",
    "    print(\"Precision recall auc on testing data: {:.4f}\".\\\n",
    "          format(average_precision_score(y_test, best_predictions_prob,average='weighted')))\n",
    "\n",
    "    end = time() # Get end time\n",
    "    # show best parameters\n",
    "    print(\"\\nNew Classifier\\n------\")\n",
    "    print(best_clf)\n",
    "    print('time taken',end-start)"
   ]
  },
  {
   "cell_type": "code",
   "execution_count": 37,
   "metadata": {
    "collapsed": false
   },
   "outputs": [
    {
     "name": "stdout",
     "output_type": "stream",
     "text": [
      "Earlier model\n",
      "------\n",
      "Accuracy score on testing data: 0.9993\n",
      "F1-score on testing data: 0.8106\n",
      "recall on testing data: 0.8299\n",
      "precision on testing data: 0.7922\n",
      "Precision recall auc on testing data: 0.8063\n",
      "\n",
      "New Model\n",
      "------\n",
      "accuracy score on the testing data: 0.9996\n",
      "F1-score on the testing data: 0.8643\n",
      "Recall score on the testing data: 0.8231\n",
      "precision on testing data: 0.9098\n",
      "Precision recall auc on testing data: 0.8424\n",
      "\n",
      "New Classifier\n",
      "------\n",
      "XGBClassifier(base_score=0.5, colsample_bylevel=1, colsample_bytree=1,\n",
      "       gamma=0, learning_rate=0.1, max_delta_step=0, max_depth=8,\n",
      "       min_child_weight=1, missing=None, n_estimators=100, nthread=-1,\n",
      "       objective='binary:logistic', reg_alpha=0, reg_lambda=1,\n",
      "       scale_pos_weight=1, seed=0, silent=True, subsample=1)\n",
      "time taken 767.8060235977173\n"
     ]
    }
   ],
   "source": [
    "#Tuning level 1\n",
    "clf = XGBClassifier()\n",
    "param_set1 = {'max_depth': (8, 10)}\n",
    "XGB_class_tune(clf,param_set1)"
   ]
  },
  {
   "cell_type": "code",
   "execution_count": 39,
   "metadata": {
    "collapsed": false
   },
   "outputs": [
    {
     "name": "stdout",
     "output_type": "stream",
     "text": [
      "Earlier model\n",
      "------\n",
      "Accuracy score on testing data: 0.9996\n",
      "F1-score on testing data: 0.8643\n",
      "recall on testing data: 0.8231\n",
      "precision on testing data: 0.9098\n",
      "Precision recall auc on testing data: 0.8424\n",
      "\n",
      "New Model\n",
      "------\n",
      "accuracy score on the testing data: 0.9996\n",
      "F1-score on the testing data: 0.8746\n",
      "Recall score on the testing data: 0.8299\n",
      "precision on testing data: 0.9242\n",
      "Precision recall auc on testing data: 0.8434\n",
      "\n",
      "New Classifier\n",
      "------\n",
      "XGBClassifier(base_score=0.5, colsample_bylevel=1, colsample_bytree=1,\n",
      "       gamma=0, learning_rate=0.1, max_delta_step=0, max_depth=8,\n",
      "       min_child_weight=2, missing=None, n_estimators=100, nthread=-1,\n",
      "       objective='binary:logistic', reg_alpha=0, reg_lambda=1,\n",
      "       scale_pos_weight=1, seed=0, silent=True, subsample=1)\n",
      "time taken 777.4652435779572\n"
     ]
    }
   ],
   "source": [
    "#Tuning level 2\n",
    "clf = XGBClassifier(max_depth=8)\n",
    "param_set1 = {'min_child_weight':(2,4)}\n",
    "XGB_class_tune(clf,param_set1)"
   ]
  },
  {
   "cell_type": "code",
   "execution_count": 40,
   "metadata": {
    "collapsed": false
   },
   "outputs": [
    {
     "name": "stdout",
     "output_type": "stream",
     "text": [
      "Earlier model\n",
      "------\n",
      "Accuracy score on testing data: 0.9996\n",
      "F1-score on testing data: 0.8746\n",
      "recall on testing data: 0.8299\n",
      "precision on testing data: 0.9242\n",
      "Precision recall auc on testing data: 0.8434\n",
      "\n",
      "New Model\n",
      "------\n",
      "accuracy score on the testing data: 0.9995\n",
      "F1-score on the testing data: 0.8500\n",
      "Recall score on the testing data: 0.8095\n",
      "precision on testing data: 0.8947\n",
      "Precision recall auc on testing data: 0.8457\n",
      "\n",
      "New Classifier\n",
      "------\n",
      "XGBClassifier(base_score=0.5, colsample_bylevel=1, colsample_bytree=1,\n",
      "       gamma=0, learning_rate=0.1, max_delta_step=0, max_depth=8,\n",
      "       min_child_weight=2, missing=None, n_estimators=100, nthread=-1,\n",
      "       objective='binary:logistic', reg_alpha=0, reg_lambda=0.391,\n",
      "       scale_pos_weight=1, seed=0, silent=True, subsample=1)\n",
      "time taken 1084.1649446487427\n"
     ]
    }
   ],
   "source": [
    "#Tuning level 3\n",
    "clf = XGBClassifier(max_depth=8,min_child_weight=2)\n",
    "param_set1 = {'reg_lambda': (0.391, 0.395, 0.399)}\n",
    "XGB_class_tune(clf,param_set1)"
   ]
  },
  {
   "cell_type": "code",
   "execution_count": 41,
   "metadata": {
    "collapsed": false
   },
   "outputs": [
    {
     "name": "stdout",
     "output_type": "stream",
     "text": [
      "Earlier model\n",
      "------\n",
      "Accuracy score on testing data: 0.9996\n",
      "F1-score on testing data: 0.8746\n",
      "recall on testing data: 0.8299\n",
      "precision on testing data: 0.9242\n",
      "Precision recall auc on testing data: 0.8434\n",
      "\n",
      "New Model\n",
      "------\n",
      "accuracy score on the testing data: 0.9996\n",
      "F1-score on the testing data: 0.8736\n",
      "Recall score on the testing data: 0.8231\n",
      "precision on testing data: 0.9308\n",
      "Precision recall auc on testing data: 0.8491\n",
      "\n",
      "New Classifier\n",
      "------\n",
      "XGBClassifier(base_score=0.5, colsample_bylevel=1, colsample_bytree=1,\n",
      "       gamma=0, learning_rate=0.1, max_delta_step=0, max_depth=8,\n",
      "       min_child_weight=2, missing=None, n_estimators=200, nthread=-1,\n",
      "       objective='binary:logistic', reg_alpha=0, reg_lambda=1,\n",
      "       scale_pos_weight=1, seed=0, silent=True, subsample=1)\n",
      "time taken 1184.4662945270538\n"
     ]
    }
   ],
   "source": [
    "#Tuning level 4\n",
    "clf = XGBClassifier(max_depth=8,min_child_weight=2)\n",
    "param_set1 = {'n_estimators': (150,200)}\n",
    "XGB_class_tune(clf,param_set1)"
   ]
  },
  {
   "cell_type": "markdown",
   "metadata": {},
   "source": [
    "## Model Comparison Between Pre & Post Tuned Models(Test Data)"
   ]
  },
  {
   "cell_type": "markdown",
   "metadata": {},
   "source": [
    "### Comparison Between Pre & Post Tuned XGB Models(Test Data)\n"
   ]
  },
  {
   "cell_type": "code",
   "execution_count": null,
   "metadata": {
    "collapsed": true
   },
   "outputs": [],
   "source": [
    "clf_pre_tune = XGBClassifier()\n",
    "##Final Tuned XGB Model\n",
    "clf_post_tune = XGBClassifier(max_depth=8,min_child_weight=2)\n",
    "results_tune={}\n",
    "results_tune['XG-PRE-TUNE'] = {}\n",
    "results_tune['XG-PRE-TUNE'] = train_predict(clf_pre_tune, X_resampled_train, y_resampled_train.values.ravel(), X_test, y_test.values.ravel())\n",
    "results_tune['XG-POST-TUNE'] = {}\n",
    "results_tune['XG-POST-TUNE'] = train_predict(clf_post_tune, X_resampled_train, y_resampled_train.values.ravel(), X_test, y_test.values.ravel())\n",
    "\n",
    "xg_pre_tune=pd.DataFrame(results_tune['XG-PRE-TUNE'],index=['XG-PRE-TUNE'])\n",
    "xg_post_tune=pd.DataFrame(results_tune['XG-POST-TUNE'],index=['XG-POST-TUNE'])\n",
    "all_res= pd.concat([xg_pre_tune,xg_post_tune])\n",
    "\n",
    "all_res[['acc_train','acc_test','rec_train','rec_test',\\\n",
    "         'prec_train','prec_test','f1_train','f1_test','auc_train','auc_test']]\n",
    "\n"
   ]
  },
  {
   "cell_type": "code",
   "execution_count": 99,
   "metadata": {
    "collapsed": false
   },
   "outputs": [
    {
     "data": {
      "image/png": "[encoded data removed]",
      "text/plain": [
       "<matplotlib.figure.Figure at 0x1fd3f661fd0>"
      ]
     },
     "metadata": {},
     "output_type": "display_data"
    }
   ],
   "source": [
    "imp.reload(disp_plot)\n",
    "disp_plot.comp_stats(results_tune)"
   ]
  },
  {
   "cell_type": "markdown",
   "metadata": {},
   "source": [
    "### Comparison Between Post Tuned - XGB & RandomForest Classifier(Test Data)"
   ]
  },
  {
   "cell_type": "code",
   "execution_count": 16,
   "metadata": {
    "collapsed": false
   },
   "outputs": [
    {
     "name": "stdout",
     "output_type": "stream",
     "text": [
      "RandomForestClassifier trained in time 2.8283 \n",
      "XGBClassifier trained in time 1.7188 \n"
     ]
    },
    {
     "data": {
      "text/html": [
       "<div>\n",
       "<table border=\"1\" class=\"dataframe\">\n",
       "  <thead>\n",
       "    <tr style=\"text-align: right;\">\n",
       "      <th></th>\n",
       "      <th>acc_train</th>\n",
       "      <th>acc_test</th>\n",
       "      <th>rec_train</th>\n",
       "      <th>rec_test</th>\n",
       "      <th>prec_train</th>\n",
       "      <th>prec_test</th>\n",
       "      <th>f1_train</th>\n",
       "      <th>f1_test</th>\n",
       "      <th>auc_train</th>\n",
       "      <th>auc_test</th>\n",
       "    </tr>\n",
       "  </thead>\n",
       "  <tbody>\n",
       "    <tr>\n",
       "      <th>RF-POST-TUNE</th>\n",
       "      <td>0.999675</td>\n",
       "      <td>0.999508</td>\n",
       "      <td>0.987186</td>\n",
       "      <td>0.823129</td>\n",
       "      <td>0.996197</td>\n",
       "      <td>0.883212</td>\n",
       "      <td>0.991671</td>\n",
       "      <td>0.852113</td>\n",
       "      <td>0.999478</td>\n",
       "      <td>0.832340</td>\n",
       "    </tr>\n",
       "    <tr>\n",
       "      <th>XG-POST-TUNE</th>\n",
       "      <td>0.999897</td>\n",
       "      <td>0.999590</td>\n",
       "      <td>0.994975</td>\n",
       "      <td>0.829932</td>\n",
       "      <td>0.999748</td>\n",
       "      <td>0.924242</td>\n",
       "      <td>0.997355</td>\n",
       "      <td>0.874552</td>\n",
       "      <td>0.999656</td>\n",
       "      <td>0.843394</td>\n",
       "    </tr>\n",
       "  </tbody>\n",
       "</table>\n",
       "</div>"
      ],
      "text/plain": [
       "              acc_train  acc_test  rec_train  rec_test  prec_train  prec_test  \\\n",
       "RF-POST-TUNE   0.999675  0.999508   0.987186  0.823129    0.996197   0.883212   \n",
       "XG-POST-TUNE   0.999897  0.999590   0.994975  0.829932    0.999748   0.924242   \n",
       "\n",
       "              f1_train   f1_test  auc_train  auc_test  \n",
       "RF-POST-TUNE  0.991671  0.852113   0.999478  0.832340  \n",
       "XG-POST-TUNE  0.997355  0.874552   0.999656  0.843394  "
      ]
     },
     "execution_count": 16,
     "metadata": {},
     "output_type": "execute_result"
    }
   ],
   "source": [
    "## Referred from Random Forest Tuning Notebook\n",
    "clf_post_tune_rf = RandomForestClassifier(random_state=0,max_depth=20,min_samples_leaf=5)\n",
    "##Final Tuned XGB Model\n",
    "clf_post_tune_xgb = XGBClassifier(max_depth=8,min_child_weight=2)\n",
    "results_tune_1={}\n",
    "results_tune_1['RF-POST-TUNE'] = {}\n",
    "results_tune_1['RF-POST-TUNE'] = train_predict(clf_post_tune_rf, X_resampled_train, y_resampled_train.values.ravel(), X_test, y_test.values.ravel())\n",
    "results_tune_1['XG-POST-TUNE'] = {}\n",
    "results_tune_1['XG-POST-TUNE'] = train_predict(clf_post_tune_xgb, X_resampled_train, y_resampled_train.values.ravel(), X_test, y_test.values.ravel())\n",
    "\n",
    "rf_post_tune_1=pd.DataFrame(results_tune_1['RF-POST-TUNE'],index=['RF-POST-TUNE'])\n",
    "xg_post_tune_1=pd.DataFrame(results_tune_1['XG-POST-TUNE'],index=['XG-POST-TUNE'])\n",
    "all_res_1= pd.concat([rf_post_tune_1,xg_post_tune_1])\n",
    "\n",
    "all_res_1[['acc_train','acc_test','rec_train','rec_test',\\\n",
    "         'prec_train','prec_test','f1_train','f1_test','auc_train','auc_test']]\n"
   ]
  },
  {
   "cell_type": "code",
   "execution_count": 18,
   "metadata": {
    "collapsed": false
   },
   "outputs": [
    {
     "data": {
      "image/png": "[encoded data removed]",
      "text/plain": [
       "<matplotlib.figure.Figure at 0x131bca3cf98>"
      ]
     },
     "metadata": {},
     "output_type": "display_data"
    }
   ],
   "source": [
    "imp.reload(disp_plot)\n",
    "disp_plot.comp_stats(results_tune_1)"
   ]
  },
  {
   "cell_type": "markdown",
   "metadata": {},
   "source": [
    "### Comparison Between Benchmark(Logistic Regression) & Tuned XGB Model(Test Data)"
   ]
  },
  {
   "cell_type": "code",
   "execution_count": 22,
   "metadata": {
    "collapsed": false
   },
   "outputs": [
    {
     "name": "stdout",
     "output_type": "stream",
     "text": [
      "LogisticRegression trained in time 0.1250 \n",
      "XGBClassifier trained in time 1.9845 \n"
     ]
    },
    {
     "data": {
      "text/html": [
       "<div>\n",
       "<table border=\"1\" class=\"dataframe\">\n",
       "  <thead>\n",
       "    <tr style=\"text-align: right;\">\n",
       "      <th></th>\n",
       "      <th>acc_train</th>\n",
       "      <th>acc_test</th>\n",
       "      <th>rec_train</th>\n",
       "      <th>rec_test</th>\n",
       "      <th>prec_train</th>\n",
       "      <th>prec_test</th>\n",
       "      <th>f1_train</th>\n",
       "      <th>f1_test</th>\n",
       "      <th>auc_train</th>\n",
       "      <th>auc_test</th>\n",
       "    </tr>\n",
       "  </thead>\n",
       "  <tbody>\n",
       "    <tr>\n",
       "      <th>Benchmark</th>\n",
       "      <td>0.996601</td>\n",
       "      <td>0.999064</td>\n",
       "      <td>0.868593</td>\n",
       "      <td>0.809524</td>\n",
       "      <td>0.953918</td>\n",
       "      <td>0.695906</td>\n",
       "      <td>0.909258</td>\n",
       "      <td>0.748428</td>\n",
       "      <td>0.946210</td>\n",
       "      <td>0.743391</td>\n",
       "    </tr>\n",
       "    <tr>\n",
       "      <th>XG-POST-TUNE</th>\n",
       "      <td>0.999897</td>\n",
       "      <td>0.999590</td>\n",
       "      <td>0.994975</td>\n",
       "      <td>0.829932</td>\n",
       "      <td>0.999748</td>\n",
       "      <td>0.924242</td>\n",
       "      <td>0.997355</td>\n",
       "      <td>0.874552</td>\n",
       "      <td>0.999656</td>\n",
       "      <td>0.843394</td>\n",
       "    </tr>\n",
       "  </tbody>\n",
       "</table>\n",
       "</div>"
      ],
      "text/plain": [
       "              acc_train  acc_test  rec_train  rec_test  prec_train  prec_test  \\\n",
       "Benchmark      0.996601  0.999064   0.868593  0.809524    0.953918   0.695906   \n",
       "XG-POST-TUNE   0.999897  0.999590   0.994975  0.829932    0.999748   0.924242   \n",
       "\n",
       "              f1_train   f1_test  auc_train  auc_test  \n",
       "Benchmark     0.909258  0.748428   0.946210  0.743391  \n",
       "XG-POST-TUNE  0.997355  0.874552   0.999656  0.843394  "
      ]
     },
     "execution_count": 22,
     "metadata": {},
     "output_type": "execute_result"
    }
   ],
   "source": [
    "clf_post_tune_bm = LogisticRegression(random_state=0)\n",
    "##Final Tuned XGB Model\n",
    "clf_post_tune_xgb = XGBClassifier(max_depth=8,min_child_weight=2)\n",
    "results_tune_2={}\n",
    "results_tune_2['Benchmark'] = {}\n",
    "results_tune_2['Benchmark'] = train_predict(clf_post_tune_bm, X_resampled_train, y_resampled_train.values.ravel(), X_test, y_test.values.ravel())\n",
    "results_tune_2['XG-POST-TUNE'] = {}\n",
    "results_tune_2['XG-POST-TUNE'] = train_predict(clf_post_tune_xgb, X_resampled_train, y_resampled_train.values.ravel(), X_test, y_test.values.ravel())\n",
    "\n",
    "bm_post_tune_2=pd.DataFrame(results_tune_2['Benchmark'],index=['Benchmark'])\n",
    "xg_post_tune_2=pd.DataFrame(results_tune_2['XG-POST-TUNE'],index=['XG-POST-TUNE'])\n",
    "all_res_2= pd.concat([bm_post_tune_2,xg_post_tune_2])\n",
    "\n",
    "all_res_2[['acc_train','acc_test','rec_train','rec_test',\\\n",
    "         'prec_train','prec_test','f1_train','f1_test','auc_train','auc_test']]\n"
   ]
  },
  {
   "cell_type": "code",
   "execution_count": 25,
   "metadata": {
    "collapsed": false
   },
   "outputs": [
    {
     "data": {
      "image/png": "[encoded data removed]",
      "text/plain": [
       "<matplotlib.figure.Figure at 0x131c1c865f8>"
      ]
     },
     "metadata": {},
     "output_type": "display_data"
    }
   ],
   "source": [
    "imp.reload(disp_plot)\n",
    "disp_plot.comp_stats(results_tune_2)"
   ]
  },
  {
   "cell_type": "markdown",
   "metadata": {},
   "source": [
    "### Features Importance Chart"
   ]
  },
  {
   "cell_type": "code",
   "execution_count": 95,
   "metadata": {
    "collapsed": false
   },
   "outputs": [
    {
     "data": {
      "image/png": "[encoded data removed]",
      "text/plain": [
       "<matplotlib.figure.Figure at 0x1fd40bed320>"
      ]
     },
     "metadata": {},
     "output_type": "display_data"
    }
   ],
   "source": [
    "# feature importance\n",
    "plt.figure(figsize=(6, 6))\n",
    "feature_importance = pd.Series(clf_post_tune.booster().get_fscore()).sort_values(ascending=False)\n",
    "feature_importance.plot(kind='bar', title='Feature Importance')\n",
    "plt.ylabel('Feature Importance Score')\n",
    "plt.savefig('Feature Importance.png')"
   ]
  }
 ],
 "metadata": {
  "anaconda-cloud": {},
  "kernelspec": {
   "display_name": "Python [conda root]",
   "language": "python",
   "name": "conda-root-py"
  },
  "language_info": {
   "codemirror_mode": {
    "name": "ipython",
    "version": 3
   },
   "file_extension": ".py",
   "mimetype": "text/x-python",
   "name": "python",
   "nbconvert_exporter": "python",
   "pygments_lexer": "ipython3",
   "version": "3.5.2"
  }
 },
 "nbformat": 4,
 "nbformat_minor": 1
}
