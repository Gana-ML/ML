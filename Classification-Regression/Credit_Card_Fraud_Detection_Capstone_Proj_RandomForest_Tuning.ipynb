{
 "cells": [
  {
   "cell_type": "markdown",
   "metadata": {
    "collapsed": true,
    "deletable": true,
    "editable": true
   },
   "source": [
    "# Machine Learning Engineer Nanodegree\n",
    "## Capstone Project\n",
    "### Credit Card Fraud Detection\n"
   ]
  },
  {
   "cell_type": "markdown",
   "metadata": {
    "deletable": true,
    "editable": true
   },
   "source": [
    "### RandomForest Classifier Tuning Notebook"
   ]
  },
  {
   "cell_type": "code",
   "execution_count": 1,
   "metadata": {
    "collapsed": false,
    "deletable": true,
    "editable": true
   },
   "outputs": [],
   "source": [
    "import warnings\n",
    "with warnings.catch_warnings():\n",
    "    warnings.simplefilter(\"ignore\")\n",
    "\n",
    "import pandas as pd\n",
    "import matplotlib.pyplot as plt\n",
    "import numpy as np\n",
    "from sklearn.preprocessing import StandardScaler\n",
    "from sklearn.model_selection  import train_test_split,KFold, cross_val_score,GridSearchCV\n",
    "from sklearn.linear_model import LogisticRegression\n",
    "from sklearn.metrics import confusion_matrix,precision_recall_curve,auc,roc_auc_score,roc_curve,\\\n",
    "recall_score,classification_report,accuracy_score,precision_score,f1_score,make_scorer,average_precision_score\n",
    "#from imblearn.over_sampling import SMOTE\n",
    "from time import time\n",
    "from sklearn.ensemble import RandomForestClassifier,AdaBoostClassifier\n",
    "#from xgboost import XGBClassifier\n",
    "#import seaborn as sns\n",
    "%matplotlib inline"
   ]
  },
  {
   "cell_type": "code",
   "execution_count": 2,
   "metadata": {
    "collapsed": true,
    "deletable": true,
    "editable": true
   },
   "outputs": [],
   "source": [
    "### Belows CSVs are Pre-Processed in Main Notebook(Credit_Card_Fraud_Detection_Capstone_Proj)\n",
    "X_resampled_train=pd.read_csv('x_train.csv')\n",
    "y_resampled_train=pd.read_csv('y_train.csv')\n",
    "X_test=pd.read_csv('x_test.csv')\n",
    "y_test=pd.read_csv('y_test.csv')"
   ]
  },
  {
   "cell_type": "code",
   "execution_count": 3,
   "metadata": {
    "collapsed": false,
    "deletable": true,
    "editable": true
   },
   "outputs": [
    {
     "name": "stdout",
     "output_type": "stream",
     "text": [
      "---------------Resampled data statistics---------------\n",
      "Total number of records : 202999 \n",
      "Total number of normal transactions : 199019\n",
      "Total number of  fraudulent transactions : 3980\n",
      "Percent of normal transactions is : 98.0394%,  fraudulent transactions is : 1.9606%\n"
     ]
    }
   ],
   "source": [
    "print('---------------Resampled data statistics---------------')\n",
    "normal_trans_perc=sum(y_resampled_train['Class']==0)/(sum(y_resampled_train['Class']==0)+sum(y_resampled_train['Class']==1))\n",
    "fraud_trans_perc=1-normal_trans_perc\n",
    "print('Total number of records : {} '.format(len(y_resampled_train)))\n",
    "print('Total number of normal transactions : {}'.format(sum(y_resampled_train['Class']==0)))\n",
    "print('Total number of  fraudulent transactions : {}'.format(sum(y_resampled_train['Class']==1)))\n",
    "print('Percent of normal transactions is : {:.4f}%,  fraudulent transactions is : {:.4f}%'.format(normal_trans_perc*100,fraud_trans_perc*100))"
   ]
  },
  {
   "cell_type": "markdown",
   "metadata": {
    "deletable": true,
    "editable": true
   },
   "source": [
    "### Model Building ###"
   ]
  },
  {
   "cell_type": "code",
   "execution_count": 4,
   "metadata": {
    "collapsed": true,
    "deletable": true,
    "editable": true
   },
   "outputs": [],
   "source": [
    "def train_predict(learner, X_train, y_train, X_test, y_test): \n",
    "    '''\n",
    "    inputs:\n",
    "       - learner: the learning algorithm to be trained and predicted on       \n",
    "       - X_train: features training set\n",
    "       - y_train: income training set\n",
    "       - X_test: features testing set\n",
    "       - y_test: income testing set\n",
    "    '''\n",
    "    \n",
    "    results = {}\n",
    "   \n",
    "    start = time() # Get start time\n",
    "    learner.fit(X_train, y_train)\n",
    "    end = time() # Get end time\n",
    "      \n",
    "    results['train_time'] = end - start\n",
    "        \n",
    "    start = time() # Get start time\n",
    "    predictions_test = learner.predict(X_test)\n",
    "    predictions_train = learner.predict(X_train)\n",
    "    \n",
    "    predictions_test_prob = learner.predict_proba(X_test)[:,1]\n",
    "    predictions_train_prob = learner.predict_proba(X_train)[:,1]\n",
    "    \n",
    "    \n",
    "    end = time() # Get end time\n",
    "        \n",
    "    results['pred_time'] =end - start\n",
    "            \n",
    "    \n",
    "    results['acc_train'] = accuracy_score(y_train, predictions_train)      \n",
    "    results['acc_test'] = accuracy_score(y_test, predictions_test)\n",
    "    \n",
    "    results['rec_train'] = recall_score(y_train, predictions_train)      \n",
    "    results['rec_test'] = recall_score(y_test, predictions_test)\n",
    "    \n",
    "    results['prec_train'] = precision_score(y_train, predictions_train)      \n",
    "    results['prec_test'] = precision_score(y_test, predictions_test)\n",
    "    \n",
    "    \n",
    "    results['f1_train'] = f1_score(y_train, predictions_train)\n",
    "    results['f1_test'] = f1_score(y_test, predictions_test)\n",
    "    \n",
    "    results['auc_train'] = average_precision_score(y_train, predictions_train_prob,average='weighted')\n",
    "    results['auc_test'] = average_precision_score(y_test, predictions_test_prob,average='weighted')\n",
    "    \n",
    "    \n",
    "       \n",
    "    # Success\n",
    "    print(\"{} trained in time {:.4f} \".format(learner.__class__.__name__,(end - start)))\n",
    "        \n",
    "    # Return the results\n",
    "    return results"
   ]
  },
  {
   "cell_type": "code",
   "execution_count": 8,
   "metadata": {
    "collapsed": false,
    "deletable": true,
    "editable": true
   },
   "outputs": [
    {
     "name": "stdout",
     "output_type": "stream",
     "text": [
      "RandomForestClassifier trained in time 0.5815 \n"
     ]
    }
   ],
   "source": [
    "# Initialize and train the basic model\n",
    "clf_rf = RandomForestClassifier(random_state=0)\n",
    "#clf_xg = XGBClassifier()\n",
    "\n",
    "# Collect results on the learners\n",
    "results = {}\n",
    "clf_name = clf_rf.__class__.__name__\n",
    "results[clf_name] = {}\n",
    "results[clf_name] = train_predict(clf_rf, X_resampled_train, y_resampled_train.values.ravel(), X_test, y_test.values.ravel())\n"
   ]
  },
  {
   "cell_type": "code",
   "execution_count": 9,
   "metadata": {
    "collapsed": false,
    "deletable": true,
    "editable": true
   },
   "outputs": [],
   "source": [
    "rf_res=pd.DataFrame(results['RandomForestClassifier'],index=['RF'])\n"
   ]
  },
  {
   "cell_type": "code",
   "execution_count": 10,
   "metadata": {
    "collapsed": false,
    "deletable": true,
    "editable": true
   },
   "outputs": [
    {
     "data": {
      "text/html": [
       "<div>\n",
       "<table border=\"1\" class=\"dataframe\">\n",
       "  <thead>\n",
       "    <tr style=\"text-align: right;\">\n",
       "      <th></th>\n",
       "      <th>train_time</th>\n",
       "      <th>pred_time</th>\n",
       "      <th>acc_train</th>\n",
       "      <th>acc_test</th>\n",
       "      <th>rec_train</th>\n",
       "      <th>rec_test</th>\n",
       "      <th>prec_train</th>\n",
       "      <th>prec_test</th>\n",
       "      <th>f1_train</th>\n",
       "      <th>f1_test</th>\n",
       "      <th>auc_train</th>\n",
       "      <th>auc_test</th>\n",
       "    </tr>\n",
       "  </thead>\n",
       "  <tbody>\n",
       "    <tr>\n",
       "      <th>RF</th>\n",
       "      <td>11.162182</td>\n",
       "      <td>0.581533</td>\n",
       "      <td>0.999926</td>\n",
       "      <td>0.999579</td>\n",
       "      <td>0.996482</td>\n",
       "      <td>0.809524</td>\n",
       "      <td>0.999748</td>\n",
       "      <td>0.937008</td>\n",
       "      <td>0.998112</td>\n",
       "      <td>0.868613</td>\n",
       "      <td>0.999997</td>\n",
       "      <td>0.836311</td>\n",
       "    </tr>\n",
       "  </tbody>\n",
       "</table>\n",
       "</div>"
      ],
      "text/plain": [
       "    train_time  pred_time  acc_train  acc_test  rec_train  rec_test  \\\n",
       "RF   11.162182   0.581533   0.999926  0.999579   0.996482  0.809524   \n",
       "\n",
       "    prec_train  prec_test  f1_train   f1_test  auc_train  auc_test  \n",
       "RF    0.999748   0.937008  0.998112  0.868613   0.999997  0.836311  "
      ]
     },
     "execution_count": 10,
     "metadata": {},
     "output_type": "execute_result"
    }
   ],
   "source": [
    "rf_res[['train_time','pred_time','acc_train','acc_test','rec_train','rec_test',\\\n",
    "         'prec_train','prec_test','f1_train','f1_test','auc_train','auc_test']]"
   ]
  },
  {
   "cell_type": "markdown",
   "metadata": {
    "deletable": true,
    "editable": true
   },
   "source": [
    "### RandomForecast Classifier Model Tuning "
   ]
  },
  {
   "cell_type": "code",
   "execution_count": 11,
   "metadata": {
    "collapsed": false,
    "deletable": true,
    "editable": true
   },
   "outputs": [],
   "source": [
    "def XGB_class_tune(clf,param_set1):\n",
    "    start = time() # Get start time    \n",
    "    scorer = make_scorer(recall_score)\n",
    "    grid_obj = GridSearchCV(estimator=clf, param_grid=param_set1, scoring=scorer,cv=5)\n",
    "\n",
    "    grid_fit = grid_obj.fit(X_resampled_train, y_resampled_train.values.ravel())\n",
    "\n",
    "    # Get the estimator\n",
    "    best_clf = grid_fit.best_estimator_\n",
    "\n",
    "    # Make predictions using the unoptimized and model\n",
    "    predictions = (clf.fit(X_resampled_train, y_resampled_train.values.ravel())).predict(X_test)\n",
    "    predictions_prob = clf.predict_proba(X_test)[:,1]\n",
    "\n",
    "    best_predictions = best_clf.predict(X_test)\n",
    "    best_predictions_prob = best_clf.predict_proba(X_test)[:,1]\n",
    "\n",
    "\n",
    "    # Report the before-and-afterscores\n",
    "    print(\"Current model\\n------\")\n",
    "    print(\"Accuracy score on testing data: {:.4f}\".format(accuracy_score(y_test, predictions)))\n",
    "    print(\"F1-score on testing data: {:.4f}\".format(f1_score(y_test, predictions)))\n",
    "    print(\"recall on testing data: {:.4f}\".format(recall_score(y_test, predictions)))\n",
    "    print(\"precision score on testing data: {:.4f}\".format(precision_score(y_test, predictions)))\n",
    "    print(\"Precision recall auc on testing data: {:.4f}\".\\\n",
    "          format(average_precision_score(y_test, predictions_prob,average='weighted')))\n",
    "\n",
    "    print(\"\\nNew Model\\n------\")\n",
    "    print(\"accuracy score on the testing data: {:.4f}\".format(accuracy_score(y_test, best_predictions)))\n",
    "    print(\"F1-score on the testing data: {:.4f}\".format(f1_score(y_test, best_predictions)))\n",
    "    print(\"Recall score on the testing data: {:.4f}\".format(recall_score(y_test, best_predictions)))\n",
    "    print(\"precision score on testing data: {:.4f}\".format(precision_score(y_test, best_predictions)))\n",
    "    print(\"Precision recall auc on testing data: {:.4f}\".\\\n",
    "          format(average_precision_score(y_test, best_predictions_prob,average='weighted')))\n",
    "\n",
    "    end = time() # Get end time\n",
    "    # show best parameters\n",
    "    print(\"\\nBest Classifier\\n------\")\n",
    "    print(best_clf)\n",
    "    print('time taken',end-start)"
   ]
  },
  {
   "cell_type": "code",
   "execution_count": 12,
   "metadata": {
    "collapsed": false,
    "deletable": true,
    "editable": true
   },
   "outputs": [
    {
     "name": "stdout",
     "output_type": "stream",
     "text": [
      "Current model\n",
      "------\n",
      "Accuracy score on testing data: 0.9996\n",
      "F1-score on testing data: 0.8686\n",
      "recall on testing data: 0.8095\n",
      "precision score on testing data: 0.9370\n",
      "Precision recall auc on testing data: 0.8363\n",
      "\n",
      "New Model\n",
      "------\n",
      "accuracy score on the testing data: 0.9996\n",
      "F1-score on the testing data: 0.8645\n",
      "Recall score on the testing data: 0.8027\n",
      "precision score on testing data: 0.9365\n",
      "Precision recall auc on testing data: 0.8325\n",
      "\n",
      "Best Classifier\n",
      "------\n",
      "RandomForestClassifier(bootstrap=True, class_weight=None, criterion='gini',\n",
      "            max_depth=20, max_features='auto', max_leaf_nodes=None,\n",
      "            min_impurity_split=1e-07, min_samples_leaf=1,\n",
      "            min_samples_split=2, min_weight_fraction_leaf=0.0,\n",
      "            n_estimators=10, n_jobs=1, oob_score=False, random_state=0,\n",
      "            verbose=0, warm_start=False)\n",
      "time taken 111.07553219795227\n"
     ]
    }
   ],
   "source": [
    "clf = RandomForestClassifier(random_state=0)\n",
    "param_set1 = {'max_depth': (15, 20)}\n",
    "XGB_class_tune(clf,param_set1)"
   ]
  },
  {
   "cell_type": "code",
   "execution_count": 13,
   "metadata": {
    "collapsed": false,
    "deletable": true,
    "editable": true
   },
   "outputs": [
    {
     "name": "stdout",
     "output_type": "stream",
     "text": [
      "Current model\n",
      "------\n",
      "Accuracy score on testing data: 0.9996\n",
      "F1-score on testing data: 0.8686\n",
      "recall on testing data: 0.8095\n",
      "precision score on testing data: 0.9370\n",
      "Precision recall auc on testing data: 0.8363\n",
      "\n",
      "New Model\n",
      "------\n",
      "accuracy score on the testing data: 0.9996\n",
      "F1-score on the testing data: 0.8603\n",
      "Recall score on the testing data: 0.7959\n",
      "precision score on testing data: 0.9360\n",
      "Precision recall auc on testing data: 0.8386\n",
      "\n",
      "Best Classifier\n",
      "------\n",
      "RandomForestClassifier(bootstrap=True, class_weight=None, criterion='gini',\n",
      "            max_depth=None, max_features='auto', max_leaf_nodes=None,\n",
      "            min_impurity_split=1e-07, min_samples_leaf=1,\n",
      "            min_samples_split=3, min_weight_fraction_leaf=0.0,\n",
      "            n_estimators=10, n_jobs=1, oob_score=False, random_state=0,\n",
      "            verbose=0, warm_start=False)\n",
      "time taken 112.05515432357788\n"
     ]
    }
   ],
   "source": [
    "clf = RandomForestClassifier(random_state=0,,max_depth=20)\n",
    "param_set1 = {'min_samples_split': (3,4)}\n",
    "XGB_class_tune(clf,param_set1)"
   ]
  },
  {
   "cell_type": "code",
   "execution_count": 15,
   "metadata": {
    "collapsed": false,
    "deletable": true,
    "editable": true
   },
   "outputs": [
    {
     "name": "stdout",
     "output_type": "stream",
     "text": [
      "Current model\n",
      "------\n",
      "Accuracy score on testing data: 0.9996\n",
      "F1-score on testing data: 0.8645\n",
      "recall on testing data: 0.8027\n",
      "precision score on testing data: 0.9365\n",
      "Precision recall auc on testing data: 0.8325\n",
      "\n",
      "New Model\n",
      "------\n",
      "accuracy score on the testing data: 0.9995\n",
      "F1-score on the testing data: 0.8521\n",
      "Recall score on the testing data: 0.8231\n",
      "precision score on testing data: 0.8832\n",
      "Precision recall auc on testing data: 0.8323\n",
      "\n",
      "Best Classifier\n",
      "------\n",
      "RandomForestClassifier(bootstrap=True, class_weight=None, criterion='gini',\n",
      "            max_depth=20, max_features='auto', max_leaf_nodes=None,\n",
      "            min_impurity_split=1e-07, min_samples_leaf=5,\n",
      "            min_samples_split=2, min_weight_fraction_leaf=0.0,\n",
      "            n_estimators=10, n_jobs=1, oob_score=False, random_state=0,\n",
      "            verbose=0, warm_start=False)\n",
      "time taken 113.91074967384338\n"
     ]
    }
   ],
   "source": [
    "clf = RandomForestClassifier(random_state=0,max_depth=20)\n",
    "param_set1 = {'min_samples_leaf': (4,5)}\n",
    "XGB_class_tune(clf,param_set1)"
   ]
  },
  {
   "cell_type": "code",
   "execution_count": 16,
   "metadata": {
    "collapsed": false,
    "deletable": true,
    "editable": true
   },
   "outputs": [
    {
     "name": "stdout",
     "output_type": "stream",
     "text": [
      "Current model\n",
      "------\n",
      "Accuracy score on testing data: 0.9995\n",
      "F1-score on testing data: 0.8521\n",
      "recall on testing data: 0.8231\n",
      "precision score on testing data: 0.8832\n",
      "Precision recall auc on testing data: 0.8323\n",
      "\n",
      "New Model\n",
      "------\n",
      "accuracy score on the testing data: 0.9995\n",
      "F1-score on the testing data: 0.8511\n",
      "Recall score on the testing data: 0.8163\n",
      "precision score on testing data: 0.8889\n",
      "Precision recall auc on testing data: 0.8394\n",
      "\n",
      "Best Classifier\n",
      "------\n",
      "RandomForestClassifier(bootstrap=True, class_weight=None, criterion='gini',\n",
      "            max_depth=20, max_features='auto', max_leaf_nodes=None,\n",
      "            min_impurity_split=1e-07, min_samples_leaf=5,\n",
      "            min_samples_split=2, min_weight_fraction_leaf=0.0,\n",
      "            n_estimators=12, n_jobs=1, oob_score=False, random_state=0,\n",
      "            verbose=0, warm_start=False)\n",
      "time taken 211.94233965873718\n"
     ]
    }
   ],
   "source": [
    "clf = RandomForestClassifier(random_state=0,max_depth=20,min_samples_leaf=5)\n",
    "param_set1 = {'n_estimators': (12,14,16)}\n",
    "XGB_class_tune(clf,param_set1)"
   ]
  },
  {
   "cell_type": "markdown",
   "metadata": {},
   "source": [
    "### Final Tuned RandomClassifier Model"
   ]
  },
  {
   "cell_type": "code",
   "execution_count": 17,
   "metadata": {
    "collapsed": false,
    "deletable": true,
    "editable": true
   },
   "outputs": [
    {
     "name": "stdout",
     "output_type": "stream",
     "text": [
      "RandomForestClassifier trained in time 0.5917 \n"
     ]
    }
   ],
   "source": [
    "clf = RandomForestClassifier(random_state=0,max_depth=20,min_samples_leaf=5) \n",
    "\n",
    "# Collect results on the learners\n",
    "results = {}\n",
    "clf_name = clf.__class__.__name__\n",
    "results[clf_name] = {}\n",
    "results[clf_name] = train_predict(clf, X_resampled_train, y_resampled_train.values.ravel(), X_test, y_test.values.ravel())"
   ]
  },
  {
   "cell_type": "code",
   "execution_count": 18,
   "metadata": {
    "collapsed": false
   },
   "outputs": [
    {
     "data": {
      "text/html": [
       "<div>\n",
       "<table border=\"1\" class=\"dataframe\">\n",
       "  <thead>\n",
       "    <tr style=\"text-align: right;\">\n",
       "      <th></th>\n",
       "      <th>train_time</th>\n",
       "      <th>pred_time</th>\n",
       "      <th>acc_train</th>\n",
       "      <th>acc_test</th>\n",
       "      <th>rec_train</th>\n",
       "      <th>rec_test</th>\n",
       "      <th>prec_train</th>\n",
       "      <th>prec_test</th>\n",
       "      <th>f1_train</th>\n",
       "      <th>f1_test</th>\n",
       "      <th>auc_train</th>\n",
       "      <th>auc_test</th>\n",
       "    </tr>\n",
       "  </thead>\n",
       "  <tbody>\n",
       "    <tr>\n",
       "      <th>RF</th>\n",
       "      <td>11.612616</td>\n",
       "      <td>0.591732</td>\n",
       "      <td>0.999675</td>\n",
       "      <td>0.999508</td>\n",
       "      <td>0.987186</td>\n",
       "      <td>0.823129</td>\n",
       "      <td>0.996197</td>\n",
       "      <td>0.883212</td>\n",
       "      <td>0.991671</td>\n",
       "      <td>0.852113</td>\n",
       "      <td>0.999478</td>\n",
       "      <td>0.83234</td>\n",
       "    </tr>\n",
       "  </tbody>\n",
       "</table>\n",
       "</div>"
      ],
      "text/plain": [
       "    train_time  pred_time  acc_train  acc_test  rec_train  rec_test  \\\n",
       "RF   11.612616   0.591732   0.999675  0.999508   0.987186  0.823129   \n",
       "\n",
       "    prec_train  prec_test  f1_train   f1_test  auc_train  auc_test  \n",
       "RF    0.996197   0.883212  0.991671  0.852113   0.999478   0.83234  "
      ]
     },
     "execution_count": 18,
     "metadata": {},
     "output_type": "execute_result"
    }
   ],
   "source": [
    "rf_res=pd.DataFrame(results['RandomForestClassifier'],index=['RF'])\n",
    "rf_res[['train_time','pred_time','acc_train','acc_test','rec_train','rec_test',\\\n",
    "         'prec_train','prec_test','f1_train','f1_test','auc_train','auc_test']]"
   ]
  }
 ],
 "metadata": {
  "anaconda-cloud": {},
  "kernelspec": {
   "display_name": "Python [default]",
   "language": "python",
   "name": "python3"
  },
  "language_info": {
   "codemirror_mode": {
    "name": "ipython",
    "version": 3
   },
   "file_extension": ".py",
   "mimetype": "text/x-python",
   "name": "python",
   "nbconvert_exporter": "python",
   "pygments_lexer": "ipython3",
   "version": "3.5.2"
  }
 },
 "nbformat": 4,
 "nbformat_minor": 1
}
